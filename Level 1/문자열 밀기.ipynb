{
 "cells": [
  {
   "cell_type": "markdown",
   "id": "32c02d1d",
   "metadata": {},
   "source": [
    "# 문자열 밀기"
   ]
  },
  {
   "cell_type": "code",
   "execution_count": 5,
   "id": "4e10958c",
   "metadata": {},
   "outputs": [],
   "source": [
    "A = \"hello\"\n",
    "B = \"ohell\""
   ]
  },
  {
   "cell_type": "code",
   "execution_count": 15,
   "id": "01fd0110",
   "metadata": {},
   "outputs": [
    {
     "data": {
      "text/plain": [
       "'hello'"
      ]
     },
     "execution_count": 15,
     "metadata": {},
     "output_type": "execute_result"
    }
   ],
   "source": [
    "A = A[-1] + A[:-1]\n",
    "A"
   ]
  },
  {
   "cell_type": "markdown",
   "id": "ab89cd14",
   "metadata": {},
   "source": [
    "---"
   ]
  },
  {
   "cell_type": "code",
   "execution_count": 3,
   "id": "50db0049",
   "metadata": {},
   "outputs": [
    {
     "data": {
      "text/plain": [
       "'ohell'"
      ]
     },
     "execution_count": 3,
     "metadata": {},
     "output_type": "execute_result"
    }
   ],
   "source": [
    "def solution(A, B):\n",
    "    \n",
    "    answer = 0\n",
    "    \n",
    "    if A == B:       \n",
    "        return answer\n",
    "    \n",
    "    for _ in range(len(A)):\n",
    "        A = A[-1]+A[:-1]\n",
    "        \n",
    "        answer += 1\n",
    "        \n",
    "        if A == B:\n",
    "            return answer\n",
    "        \n",
    "        \n",
    "    return -1"
   ]
  }
 ],
 "metadata": {
  "kernelspec": {
   "display_name": "Python 3 (ipykernel)",
   "language": "python",
   "name": "python3"
  },
  "language_info": {
   "codemirror_mode": {
    "name": "ipython",
    "version": 3
   },
   "file_extension": ".py",
   "mimetype": "text/x-python",
   "name": "python",
   "nbconvert_exporter": "python",
   "pygments_lexer": "ipython3",
   "version": "3.8.16"
  },
  "toc": {
   "base_numbering": 1,
   "nav_menu": {},
   "number_sections": true,
   "sideBar": true,
   "skip_h1_title": false,
   "title_cell": "Table of Contents",
   "title_sidebar": "Contents",
   "toc_cell": false,
   "toc_position": {},
   "toc_section_display": true,
   "toc_window_display": false
  },
  "varInspector": {
   "cols": {
    "lenName": 16,
    "lenType": 16,
    "lenVar": 40
   },
   "kernels_config": {
    "python": {
     "delete_cmd_postfix": "",
     "delete_cmd_prefix": "del ",
     "library": "var_list.py",
     "varRefreshCmd": "print(var_dic_list())"
    },
    "r": {
     "delete_cmd_postfix": ") ",
     "delete_cmd_prefix": "rm(",
     "library": "var_list.r",
     "varRefreshCmd": "cat(var_dic_list()) "
    }
   },
   "types_to_exclude": [
    "module",
    "function",
    "builtin_function_or_method",
    "instance",
    "_Feature"
   ],
   "window_display": false
  }
 },
 "nbformat": 4,
 "nbformat_minor": 5
}
