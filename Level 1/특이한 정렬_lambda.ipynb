{
 "cells": [
  {
   "cell_type": "markdown",
   "id": "8de17b5d",
   "metadata": {},
   "source": [
    "# 특이한 정렬\n",
    "\n",
    "- 차이 적은 순으로 정렬\n",
    "- 차이가 같다면, 큰 수 우선순위로 정렬"
   ]
  },
  {
   "cell_type": "markdown",
   "id": "a5edb38c",
   "metadata": {},
   "source": [
    "---"
   ]
  },
  {
   "cell_type": "code",
   "execution_count": 1,
   "id": "3a0a663e",
   "metadata": {},
   "outputs": [],
   "source": [
    "lst = [10000,20,36,47,40,6,10,7000]\n",
    "n = 30"
   ]
  },
  {
   "cell_type": "code",
   "execution_count": 2,
   "id": "81737ffd",
   "metadata": {},
   "outputs": [],
   "source": [
    "\n",
    "def solution(lst, n):\n",
    "    \n",
    "    lst.sort(reverse = True)\n",
    "    \n",
    "    answer = sorted(lst, key = lambda x: abs(x-n) )\n",
    "    \n",
    "    return answer\n",
    "    \n"
   ]
  },
  {
   "cell_type": "code",
   "execution_count": 3,
   "id": "18dafe06",
   "metadata": {},
   "outputs": [
    {
     "data": {
      "text/plain": [
       "[36, 40, 20, 47, 10, 6, 7000, 10000]"
      ]
     },
     "execution_count": 3,
     "metadata": {},
     "output_type": "execute_result"
    }
   ],
   "source": [
    "solution(lst, n)"
   ]
  },
  {
   "cell_type": "markdown",
   "id": "d8a2b088",
   "metadata": {},
   "source": [
    "---"
   ]
  },
  {
   "cell_type": "code",
   "execution_count": 4,
   "id": "3d77a791",
   "metadata": {},
   "outputs": [],
   "source": [
    "def solution(lst, n):\n",
    "    \n",
    "    # 1. 오름 차순 우선 정렬\n",
    "    lst.sort(reverse=True) \n",
    "    \n",
    "    # 2. diff lst, ans lst \n",
    "    diff_lst = [ abs(n-num) for num in lst ]\n",
    "    \n",
    "    # 3. 정답 처리\n",
    "    ans = []\n",
    "    for _ in range(len(lst)):\n",
    "        \n",
    "        midx = diff_lst.index(min(diff_lst))\n",
    "        \n",
    "        ans.append(lst[midx])\n",
    "        \n",
    "        diff_lst.pop(midx)\n",
    "        lst.pop(midx)\n",
    "    \n",
    "    \n",
    "    return ans"
   ]
  }
 ],
 "metadata": {
  "kernelspec": {
   "display_name": "Python 3 (ipykernel)",
   "language": "python",
   "name": "python3"
  },
  "language_info": {
   "codemirror_mode": {
    "name": "ipython",
    "version": 3
   },
   "file_extension": ".py",
   "mimetype": "text/x-python",
   "name": "python",
   "nbconvert_exporter": "python",
   "pygments_lexer": "ipython3",
   "version": "3.8.16"
  },
  "toc": {
   "base_numbering": 1,
   "nav_menu": {},
   "number_sections": true,
   "sideBar": true,
   "skip_h1_title": false,
   "title_cell": "Table of Contents",
   "title_sidebar": "Contents",
   "toc_cell": false,
   "toc_position": {},
   "toc_section_display": true,
   "toc_window_display": false
  },
  "varInspector": {
   "cols": {
    "lenName": 16,
    "lenType": 16,
    "lenVar": 40
   },
   "kernels_config": {
    "python": {
     "delete_cmd_postfix": "",
     "delete_cmd_prefix": "del ",
     "library": "var_list.py",
     "varRefreshCmd": "print(var_dic_list())"
    },
    "r": {
     "delete_cmd_postfix": ") ",
     "delete_cmd_prefix": "rm(",
     "library": "var_list.r",
     "varRefreshCmd": "cat(var_dic_list()) "
    }
   },
   "types_to_exclude": [
    "module",
    "function",
    "builtin_function_or_method",
    "instance",
    "_Feature"
   ],
   "window_display": false
  }
 },
 "nbformat": 4,
 "nbformat_minor": 5
}
