{
 "cells": [
  {
   "cell_type": "code",
   "execution_count": 3,
   "id": "4f536770",
   "metadata": {},
   "outputs": [],
   "source": [
    "def solution(name, yearning, photo):\n",
    "    \n",
    "    result = []\n",
    "    \n",
    "    # name lst 과, yearning lst 을 1:1 dict 생성\n",
    "    dic = dict(zip(name, yearning))\n",
    "    \n",
    "    # photo 에서 people 꺼내서, people 안에 p 꺼내서 처리 \n",
    "    for people in photo:\n",
    "        \n",
    "        score = 0\n",
    "\n",
    "        for p in people:\n",
    "            \n",
    "            score += dic.get(p, 0) # dic 안에 p 값이 없으면, 0 처리 \n",
    "        \n",
    "        result.append(score)\n",
    "    \n",
    "    return result"
   ]
  },
  {
   "cell_type": "markdown",
   "id": "9342dbc9",
   "metadata": {},
   "source": [
    "---"
   ]
  },
  {
   "cell_type": "code",
   "execution_count": 9,
   "id": "904166f6",
   "metadata": {},
   "outputs": [],
   "source": [
    "info = dict(zip( [\"may\", \"kein\", \"kain\", \"radi\"], [5, 10, 1, 3]) ) "
   ]
  },
  {
   "cell_type": "code",
   "execution_count": 10,
   "id": "30cacf4a",
   "metadata": {},
   "outputs": [
    {
     "data": {
      "text/plain": [
       "{'may': 5, 'kein': 10, 'kain': 1, 'radi': 3}"
      ]
     },
     "execution_count": 10,
     "metadata": {},
     "output_type": "execute_result"
    }
   ],
   "source": [
    "info"
   ]
  },
  {
   "cell_type": "code",
   "execution_count": 7,
   "id": "b0a99afe",
   "metadata": {},
   "outputs": [
    {
     "data": {
      "text/plain": [
       "5"
      ]
     },
     "execution_count": 7,
     "metadata": {},
     "output_type": "execute_result"
    }
   ],
   "source": [
    "# get value\n",
    "info.get(\"may\")"
   ]
  },
  {
   "cell_type": "code",
   "execution_count": 8,
   "id": "2a1e8508",
   "metadata": {},
   "outputs": [
    {
     "data": {
      "text/plain": [
       "0"
      ]
     },
     "execution_count": 8,
     "metadata": {},
     "output_type": "execute_result"
    }
   ],
   "source": [
    "# get value, if not in 0 \n",
    "info.get(\"jj\",0)"
   ]
  }
 ],
 "metadata": {
  "kernelspec": {
   "display_name": "Python 3 (ipykernel)",
   "language": "python",
   "name": "python3"
  },
  "language_info": {
   "codemirror_mode": {
    "name": "ipython",
    "version": 3
   },
   "file_extension": ".py",
   "mimetype": "text/x-python",
   "name": "python",
   "nbconvert_exporter": "python",
   "pygments_lexer": "ipython3",
   "version": "3.8.16"
  },
  "toc": {
   "base_numbering": 1,
   "nav_menu": {},
   "number_sections": true,
   "sideBar": true,
   "skip_h1_title": false,
   "title_cell": "Table of Contents",
   "title_sidebar": "Contents",
   "toc_cell": false,
   "toc_position": {},
   "toc_section_display": true,
   "toc_window_display": false
  },
  "varInspector": {
   "cols": {
    "lenName": 16,
    "lenType": 16,
    "lenVar": 40
   },
   "kernels_config": {
    "python": {
     "delete_cmd_postfix": "",
     "delete_cmd_prefix": "del ",
     "library": "var_list.py",
     "varRefreshCmd": "print(var_dic_list())"
    },
    "r": {
     "delete_cmd_postfix": ") ",
     "delete_cmd_prefix": "rm(",
     "library": "var_list.r",
     "varRefreshCmd": "cat(var_dic_list()) "
    }
   },
   "types_to_exclude": [
    "module",
    "function",
    "builtin_function_or_method",
    "instance",
    "_Feature"
   ],
   "window_display": false
  }
 },
 "nbformat": 4,
 "nbformat_minor": 5
}
