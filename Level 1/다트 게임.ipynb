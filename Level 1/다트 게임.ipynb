{
 "cells": [
  {
   "cell_type": "code",
   "execution_count": 11,
   "id": "8a32afa2",
   "metadata": {},
   "outputs": [],
   "source": [
    "def solution(dartResult):\n",
    "\n",
    "    dic = {'S' : 1, 'D' : 2, 'T' : 3}\n",
    "    score = []\n",
    "    si = 0\n",
    "    \n",
    "    for i in range(len(dartResult)):\n",
    "        \n",
    "        c = dartResult[i] \n",
    "        \n",
    "        # 슬라이싱 i 전까지 \n",
    "        if c in dic:\n",
    "            tmp = int(dartResult[si:i]) ** dic[c]\n",
    "            score.append(tmp)\n",
    "        \n",
    "        elif c == '*':    \n",
    "            score[-2:] = [ x * 2 for x in score[-2:] ]        # lst에서 끝 2개 처리\n",
    "\n",
    "        \n",
    "        elif c == '#':\n",
    "            score[-1] = -score[-1]\n",
    "                    \n",
    "        \n",
    "        # 숫자가 아니라면, 문자나 특수 문자라면,  i(현재 문자 위치) + 다음칸으로, si를 이동 \n",
    "        if not c.isdigit():\n",
    "            si = i + 1\n",
    "    \n",
    "    print(score)\n",
    "    answer = sum(score)\n",
    "    return answer"
   ]
  },
  {
   "cell_type": "code",
   "execution_count": 12,
   "id": "8989cea7",
   "metadata": {},
   "outputs": [
    {
     "name": "stdout",
     "output_type": "stream",
     "text": [
      "[2, 8, 27]\n"
     ]
    },
    {
     "data": {
      "text/plain": [
       "37"
      ]
     },
     "execution_count": 12,
     "metadata": {},
     "output_type": "execute_result"
    }
   ],
   "source": [
    "solution('1S2D*3T')"
   ]
  }
 ],
 "metadata": {
  "kernelspec": {
   "display_name": "Python 3 (ipykernel)",
   "language": "python",
   "name": "python3"
  },
  "language_info": {
   "codemirror_mode": {
    "name": "ipython",
    "version": 3
   },
   "file_extension": ".py",
   "mimetype": "text/x-python",
   "name": "python",
   "nbconvert_exporter": "python",
   "pygments_lexer": "ipython3",
   "version": "3.8.16"
  },
  "toc": {
   "base_numbering": 1,
   "nav_menu": {},
   "number_sections": true,
   "sideBar": true,
   "skip_h1_title": false,
   "title_cell": "Table of Contents",
   "title_sidebar": "Contents",
   "toc_cell": false,
   "toc_position": {},
   "toc_section_display": true,
   "toc_window_display": false
  },
  "varInspector": {
   "cols": {
    "lenName": 16,
    "lenType": 16,
    "lenVar": 40
   },
   "kernels_config": {
    "python": {
     "delete_cmd_postfix": "",
     "delete_cmd_prefix": "del ",
     "library": "var_list.py",
     "varRefreshCmd": "print(var_dic_list())"
    },
    "r": {
     "delete_cmd_postfix": ") ",
     "delete_cmd_prefix": "rm(",
     "library": "var_list.r",
     "varRefreshCmd": "cat(var_dic_list()) "
    }
   },
   "types_to_exclude": [
    "module",
    "function",
    "builtin_function_or_method",
    "instance",
    "_Feature"
   ],
   "window_display": false
  }
 },
 "nbformat": 4,
 "nbformat_minor": 5
}
