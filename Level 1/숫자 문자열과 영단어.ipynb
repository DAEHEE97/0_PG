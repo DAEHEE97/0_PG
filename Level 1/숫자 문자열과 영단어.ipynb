{
 "cells": [
  {
   "cell_type": "markdown",
   "id": "eec098dc",
   "metadata": {},
   "source": [
    "- 여기서 이제 문자들을 숫자로 변환 처리 후, 이렇게 처리하면, zero 0 부터 오름차순으로만 처리 됨\n",
    "\n",
    "- 중복 처리 안됨"
   ]
  },
  {
   "cell_type": "code",
   "execution_count": 44,
   "id": "7a28c78d",
   "metadata": {},
   "outputs": [],
   "source": [
    "# 입력은 문자열 \n",
    "def solution(s):\n",
    "    \n",
    "    # 합성 string 을 주면,숫자로 전환\n",
    "    \n",
    "    lst = ['zero','one','two','three','four','five','six','seven','eight','nine']\n",
    "    \n",
    "    for i in lst:\n",
    "        if i in s:\n",
    "            s = s.replace(i,str(lst.index(i)))\n",
    "            \n",
    "    answer = int(s)\n",
    "    \n",
    "    return answer"
   ]
  },
  {
   "cell_type": "code",
   "execution_count": 45,
   "id": "8d98af3b",
   "metadata": {},
   "outputs": [],
   "source": [
    "s = \"one4seveneightzerozero\""
   ]
  },
  {
   "cell_type": "code",
   "execution_count": 46,
   "id": "62687bb2",
   "metadata": {},
   "outputs": [
    {
     "data": {
      "text/plain": [
       "147800"
      ]
     },
     "execution_count": 46,
     "metadata": {},
     "output_type": "execute_result"
    }
   ],
   "source": [
    "solution(s)"
   ]
  },
  {
   "cell_type": "markdown",
   "id": "6c81c444",
   "metadata": {},
   "source": [
    "---"
   ]
  }
 ],
 "metadata": {
  "kernelspec": {
   "display_name": "Python 3 (ipykernel)",
   "language": "python",
   "name": "python3"
  },
  "language_info": {
   "codemirror_mode": {
    "name": "ipython",
    "version": 3
   },
   "file_extension": ".py",
   "mimetype": "text/x-python",
   "name": "python",
   "nbconvert_exporter": "python",
   "pygments_lexer": "ipython3",
   "version": "3.8.16"
  },
  "toc": {
   "base_numbering": 1,
   "nav_menu": {},
   "number_sections": true,
   "sideBar": true,
   "skip_h1_title": false,
   "title_cell": "Table of Contents",
   "title_sidebar": "Contents",
   "toc_cell": false,
   "toc_position": {},
   "toc_section_display": true,
   "toc_window_display": false
  },
  "varInspector": {
   "cols": {
    "lenName": 16,
    "lenType": 16,
    "lenVar": 40
   },
   "kernels_config": {
    "python": {
     "delete_cmd_postfix": "",
     "delete_cmd_prefix": "del ",
     "library": "var_list.py",
     "varRefreshCmd": "print(var_dic_list())"
    },
    "r": {
     "delete_cmd_postfix": ") ",
     "delete_cmd_prefix": "rm(",
     "library": "var_list.r",
     "varRefreshCmd": "cat(var_dic_list()) "
    }
   },
   "types_to_exclude": [
    "module",
    "function",
    "builtin_function_or_method",
    "instance",
    "_Feature"
   ],
   "window_display": false
  }
 },
 "nbformat": 4,
 "nbformat_minor": 5
}
