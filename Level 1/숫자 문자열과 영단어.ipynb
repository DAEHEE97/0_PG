{
 "cells": [
  {
   "cell_type": "markdown",
   "id": "a560fed9",
   "metadata": {},
   "source": [
    "- 여기서 이제 문자들을 숫자로 변환 처리 후, 이렇게 처리하면, zero 0 부터 오름차순으로만 처리 됨\n",
    "\n",
    "- 중복 처리 안됨"
   ]
  },
  {
   "cell_type": "code",
   "execution_count": null,
   "id": "ef32a2e6",
   "metadata": {},
   "outputs": [],
   "source": [
    "# 입력은 문자열 \n",
    "def solution(s):\n",
    "    \n",
    "    # 합성 string 을 주면,숫자로 전환\n",
    "    \n",
    "    lst = ['zero','one','two','three','four','five','six','seven','eight','nine']\n",
    "    \n",
    "    for i in lst:\n",
    "        if i in s:\n",
    "            s = s.replace(i,str(lst.index(i)))\n",
    "            \n",
    "    answer = int(s)\n",
    "    \n",
    "    return answer"
   ]
  },
  {
   "cell_type": "markdown",
   "id": "b461e9e9",
   "metadata": {},
   "source": [
    "---"
   ]
  },
  {
   "cell_type": "code",
   "execution_count": 38,
   "id": "a1081b01",
   "metadata": {},
   "outputs": [],
   "source": [
    "answer = ''\n",
    "\n",
    "s = \"one4seveneightonezero\"\n",
    "    \n",
    "lst = ['zero','one','two','three','four','five','six','seven','eight','nine']\n",
    "    \n",
    "for i in lst:\n",
    "    if i in s:\n",
    "        s = s.replace(i,str(lst.index(i)))\n",
    "            \n",
    "    "
   ]
  },
  {
   "cell_type": "code",
   "execution_count": null,
   "id": "86b7410a",
   "metadata": {},
   "outputs": [],
   "source": [
    "#     for i in s:\n",
    "#         if i.isdigit():\n",
    "#             answer += i\n",
    "#         else:\n",
    "            \n",
    "#             # 여기서 이제 문자들을 숫자로 변환 처리 후 \n",
    "            \n",
    "            \n",
    "#     # 출력 전\n",
    "#     answer = int(answer)"
   ]
  },
  {
   "cell_type": "code",
   "execution_count": 42,
   "id": "f08c5306",
   "metadata": {},
   "outputs": [
    {
     "data": {
      "text/plain": [
       "'147810'"
      ]
     },
     "execution_count": 42,
     "metadata": {},
     "output_type": "execute_result"
    }
   ],
   "source": [
    "s"
   ]
  },
  {
   "cell_type": "code",
   "execution_count": 15,
   "id": "7d6b5072",
   "metadata": {},
   "outputs": [
    {
     "data": {
      "text/plain": [
       "[0, 1, 7, 8]"
      ]
     },
     "execution_count": 15,
     "metadata": {},
     "output_type": "execute_result"
    }
   ],
   "source": [
    "tmp"
   ]
  },
  {
   "cell_type": "code",
   "execution_count": 6,
   "id": "da31b103",
   "metadata": {},
   "outputs": [],
   "source": [
    "s = \"one4seveneightonezero\"\n"
   ]
  },
  {
   "cell_type": "code",
   "execution_count": 8,
   "id": "8cadd02c",
   "metadata": {},
   "outputs": [
    {
     "data": {
      "text/plain": [
       "'14seveneight1zero'"
      ]
     },
     "execution_count": 8,
     "metadata": {},
     "output_type": "execute_result"
    }
   ],
   "source": [
    "s.replace('one','1')"
   ]
  },
  {
   "cell_type": "code",
   "execution_count": 27,
   "id": "1a117baf",
   "metadata": {},
   "outputs": [
    {
     "ename": "ValueError",
     "evalue": "invalid literal for int() with base 10: 'one'",
     "output_type": "error",
     "traceback": [
      "\u001b[0;31m---------------------------------------------------------------------------\u001b[0m",
      "\u001b[0;31mValueError\u001b[0m                                Traceback (most recent call last)",
      "Cell \u001b[0;32mIn[27], line 1\u001b[0m\n\u001b[0;32m----> 1\u001b[0m \u001b[38;5;28;43mint\u001b[39;49m\u001b[43m(\u001b[49m\u001b[38;5;124;43m'\u001b[39;49m\u001b[38;5;124;43mone\u001b[39;49m\u001b[38;5;124;43m'\u001b[39;49m\u001b[43m)\u001b[49m\n",
      "\u001b[0;31mValueError\u001b[0m: invalid literal for int() with base 10: 'one'"
     ]
    }
   ],
   "source": []
  },
  {
   "cell_type": "code",
   "execution_count": 28,
   "id": "d63acef5",
   "metadata": {},
   "outputs": [],
   "source": [
    "s = 'oneseveneightonezero'\n"
   ]
  },
  {
   "cell_type": "code",
   "execution_count": 29,
   "id": "717f97dc",
   "metadata": {},
   "outputs": [
    {
     "data": {
      "text/plain": [
       "True"
      ]
     },
     "execution_count": 29,
     "metadata": {},
     "output_type": "execute_result"
    }
   ],
   "source": [
    "'zero' in s"
   ]
  },
  {
   "cell_type": "code",
   "execution_count": 36,
   "id": "3a619102",
   "metadata": {},
   "outputs": [
    {
     "data": {
      "text/plain": [
       "'14seveneight1zero'"
      ]
     },
     "execution_count": 36,
     "metadata": {},
     "output_type": "execute_result"
    }
   ],
   "source": [
    "s.replace('one','1')"
   ]
  },
  {
   "cell_type": "code",
   "execution_count": 37,
   "id": "48e8b692",
   "metadata": {},
   "outputs": [
    {
     "data": {
      "text/plain": [
       "'one4seveneightone0'"
      ]
     },
     "execution_count": 37,
     "metadata": {},
     "output_type": "execute_result"
    }
   ],
   "source": [
    "s.replace('zero','0')"
   ]
  },
  {
   "cell_type": "code",
   "execution_count": null,
   "id": "84f036f5",
   "metadata": {},
   "outputs": [],
   "source": []
  }
 ],
 "metadata": {
  "kernelspec": {
   "display_name": "Python 3 (ipykernel)",
   "language": "python",
   "name": "python3"
  },
  "language_info": {
   "codemirror_mode": {
    "name": "ipython",
    "version": 3
   },
   "file_extension": ".py",
   "mimetype": "text/x-python",
   "name": "python",
   "nbconvert_exporter": "python",
   "pygments_lexer": "ipython3",
   "version": "3.8.16"
  },
  "toc": {
   "base_numbering": 1,
   "nav_menu": {},
   "number_sections": true,
   "sideBar": true,
   "skip_h1_title": false,
   "title_cell": "Table of Contents",
   "title_sidebar": "Contents",
   "toc_cell": false,
   "toc_position": {},
   "toc_section_display": true,
   "toc_window_display": false
  },
  "varInspector": {
   "cols": {
    "lenName": 16,
    "lenType": 16,
    "lenVar": 40
   },
   "kernels_config": {
    "python": {
     "delete_cmd_postfix": "",
     "delete_cmd_prefix": "del ",
     "library": "var_list.py",
     "varRefreshCmd": "print(var_dic_list())"
    },
    "r": {
     "delete_cmd_postfix": ") ",
     "delete_cmd_prefix": "rm(",
     "library": "var_list.r",
     "varRefreshCmd": "cat(var_dic_list()) "
    }
   },
   "types_to_exclude": [
    "module",
    "function",
    "builtin_function_or_method",
    "instance",
    "_Feature"
   ],
   "window_display": false
  }
 },
 "nbformat": 4,
 "nbformat_minor": 5
}
