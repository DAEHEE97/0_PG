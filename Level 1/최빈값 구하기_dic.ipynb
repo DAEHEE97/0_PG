{
 "cells": [
  {
   "cell_type": "markdown",
   "id": "823bbf05",
   "metadata": {},
   "source": [
    "# 최빈값 구하기\n",
    "\n",
    "\n",
    "---"
   ]
  },
  {
   "cell_type": "markdown",
   "id": "b410033a",
   "metadata": {},
   "source": [
    " - cnt_lst [0] 생성 후 처리"
   ]
  },
  {
   "cell_type": "code",
   "execution_count": 8,
   "id": "46816cc8",
   "metadata": {},
   "outputs": [],
   "source": [
    "def solution(lst):    \n",
    "    \n",
    "    cnt_lst = [0] * 1001\n",
    "\n",
    "    for i in lst:\n",
    "\n",
    "        cnt_lst[i] += 1\n",
    "    \n",
    "    \n",
    "    max_lst = [ i for i,v in enumerate(cnt_lst) if v == max(cnt_lst) ]\n",
    "    \n",
    "    # 정답 처리\n",
    "    \n",
    "    if len(max_lst) >=2 :\n",
    "        return -1\n",
    "    \n",
    "    else:\n",
    "        return max_lst[-1]"
   ]
  },
  {
   "cell_type": "markdown",
   "id": "0abf6d76",
   "metadata": {},
   "source": [
    "---"
   ]
  },
  {
   "cell_type": "markdown",
   "id": "7a9fe8a7",
   "metadata": {},
   "source": [
    "- dic 생성 후 처리"
   ]
  },
  {
   "cell_type": "code",
   "execution_count": 41,
   "id": "b6fabecc",
   "metadata": {},
   "outputs": [],
   "source": [
    "def solution(lst):    \n",
    "\n",
    "    dic = {}\n",
    "\n",
    "    for i in range(len(lst)):\n",
    "\n",
    "        if lst[i] not in dic:\n",
    "            dic[lst[i]] = 1\n",
    "        else:\n",
    "            dic[lst[i]] += 1\n",
    "\n",
    "        max_lst = [ key for key,v in dic.items() if v == max(dic.values()) ]\n",
    "\n",
    "\n",
    "        # 정답 처리\n",
    "        if len(max_lst) >=2 :\n",
    "            \n",
    "            return -1\n",
    "\n",
    "        else:\n",
    "            return max_lst[-1]\n"
   ]
  },
  {
   "cell_type": "code",
   "execution_count": 46,
   "id": "3e5508b3",
   "metadata": {},
   "outputs": [
    {
     "data": {
      "text/plain": [
       "dict_keys([1, 2, 3, 4])"
      ]
     },
     "execution_count": 46,
     "metadata": {},
     "output_type": "execute_result"
    }
   ],
   "source": [
    "dic.keys()"
   ]
  },
  {
   "cell_type": "code",
   "execution_count": 47,
   "id": "a661269f",
   "metadata": {},
   "outputs": [
    {
     "data": {
      "text/plain": [
       "dict_items([(1, 1), (2, 1), (3, 3), (4, 1)])"
      ]
     },
     "execution_count": 47,
     "metadata": {},
     "output_type": "execute_result"
    }
   ],
   "source": [
    "dic.items()"
   ]
  },
  {
   "cell_type": "code",
   "execution_count": 48,
   "id": "38926e75",
   "metadata": {},
   "outputs": [
    {
     "data": {
      "text/plain": [
       "dict_values([1, 1, 3, 1])"
      ]
     },
     "execution_count": 48,
     "metadata": {},
     "output_type": "execute_result"
    }
   ],
   "source": [
    "dic.values()"
   ]
  }
 ],
 "metadata": {
  "kernelspec": {
   "display_name": "Python 3 (ipykernel)",
   "language": "python",
   "name": "python3"
  },
  "language_info": {
   "codemirror_mode": {
    "name": "ipython",
    "version": 3
   },
   "file_extension": ".py",
   "mimetype": "text/x-python",
   "name": "python",
   "nbconvert_exporter": "python",
   "pygments_lexer": "ipython3",
   "version": "3.8.16"
  },
  "toc": {
   "base_numbering": 1,
   "nav_menu": {},
   "number_sections": true,
   "sideBar": true,
   "skip_h1_title": false,
   "title_cell": "Table of Contents",
   "title_sidebar": "Contents",
   "toc_cell": false,
   "toc_position": {},
   "toc_section_display": true,
   "toc_window_display": false
  },
  "varInspector": {
   "cols": {
    "lenName": 16,
    "lenType": 16,
    "lenVar": 40
   },
   "kernels_config": {
    "python": {
     "delete_cmd_postfix": "",
     "delete_cmd_prefix": "del ",
     "library": "var_list.py",
     "varRefreshCmd": "print(var_dic_list())"
    },
    "r": {
     "delete_cmd_postfix": ") ",
     "delete_cmd_prefix": "rm(",
     "library": "var_list.r",
     "varRefreshCmd": "cat(var_dic_list()) "
    }
   },
   "types_to_exclude": [
    "module",
    "function",
    "builtin_function_or_method",
    "instance",
    "_Feature"
   ],
   "window_display": false
  }
 },
 "nbformat": 4,
 "nbformat_minor": 5
}
