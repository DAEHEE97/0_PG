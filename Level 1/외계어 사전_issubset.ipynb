{
 "cells": [
  {
   "cell_type": "markdown",
   "id": "4257ef1f",
   "metadata": {},
   "source": [
    "# 외계어 사전\n",
    "\n",
    "- 부분 집합\n",
    "- 1. 모두 만족해야 함\n",
    "- 2. 이외의 단어가 있으면 안됨\n"
   ]
  },
  {
   "cell_type": "markdown",
   "id": "44964dc2",
   "metadata": {},
   "source": [
    "---"
   ]
  },
  {
   "cell_type": "code",
   "execution_count": 1,
   "id": "62a8ef53",
   "metadata": {},
   "outputs": [],
   "source": [
    "a = {1,2,3}\n",
    "b = {1,2}\n",
    "c = {1,2,3,4}"
   ]
  },
  {
   "cell_type": "code",
   "execution_count": 2,
   "id": "40406140",
   "metadata": {},
   "outputs": [
    {
     "data": {
      "text/plain": [
       "(False, True, True, True, False, False)"
      ]
     },
     "execution_count": 2,
     "metadata": {},
     "output_type": "execute_result"
    }
   ],
   "source": [
    "a.issubset(b),a.issubset(c),b.issubset(a),b.issubset(c),c.issubset(a),c.issubset(b)"
   ]
  },
  {
   "cell_type": "markdown",
   "id": "47ab3d7c",
   "metadata": {},
   "source": [
    "---"
   ]
  },
  {
   "cell_type": "code",
   "execution_count": 3,
   "id": "e459c70b",
   "metadata": {},
   "outputs": [],
   "source": [
    "def solution(spell, dic):\n",
    "    \n",
    "    for word in dic:\n",
    "        \n",
    "        if set(spell).issubset(set(word)):\n",
    "            return 1\n",
    "    \n",
    "    return 2\n",
    "    "
   ]
  },
  {
   "cell_type": "markdown",
   "id": "a0101029",
   "metadata": {},
   "source": [
    "---"
   ]
  }
 ],
 "metadata": {
  "kernelspec": {
   "display_name": "Python 3 (ipykernel)",
   "language": "python",
   "name": "python3"
  },
  "language_info": {
   "codemirror_mode": {
    "name": "ipython",
    "version": 3
   },
   "file_extension": ".py",
   "mimetype": "text/x-python",
   "name": "python",
   "nbconvert_exporter": "python",
   "pygments_lexer": "ipython3",
   "version": "3.8.16"
  },
  "toc": {
   "base_numbering": 1,
   "nav_menu": {},
   "number_sections": true,
   "sideBar": true,
   "skip_h1_title": false,
   "title_cell": "Table of Contents",
   "title_sidebar": "Contents",
   "toc_cell": false,
   "toc_position": {},
   "toc_section_display": true,
   "toc_window_display": false
  },
  "varInspector": {
   "cols": {
    "lenName": 16,
    "lenType": 16,
    "lenVar": 40
   },
   "kernels_config": {
    "python": {
     "delete_cmd_postfix": "",
     "delete_cmd_prefix": "del ",
     "library": "var_list.py",
     "varRefreshCmd": "print(var_dic_list())"
    },
    "r": {
     "delete_cmd_postfix": ") ",
     "delete_cmd_prefix": "rm(",
     "library": "var_list.r",
     "varRefreshCmd": "cat(var_dic_list()) "
    }
   },
   "types_to_exclude": [
    "module",
    "function",
    "builtin_function_or_method",
    "instance",
    "_Feature"
   ],
   "window_display": false
  }
 },
 "nbformat": 4,
 "nbformat_minor": 5
}
