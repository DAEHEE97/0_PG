{
 "cells": [
  {
   "cell_type": "markdown",
   "id": "d60cebfa",
   "metadata": {},
   "source": [
    "- 한턴에 a를 개를 내고, b개를 생산\n",
    "- 남아있는 n개"
   ]
  },
  {
   "cell_type": "code",
   "execution_count": 1,
   "id": "1e1c8c51",
   "metadata": {},
   "outputs": [],
   "source": [
    "def solution(a, b, n):\n",
    "    new = 0\n",
    "    \n",
    "    # 빈 병의 개수 n은 a개를 가지고 b개를 생성\n",
    "    \n",
    "    # 빈병 n\n",
    "        \n",
    "    while(True):\n",
    "        \n",
    "        new += b # b개씩 생산\n",
    "        \n",
    "        n = (n - a) + b # 전체 빈병은, a개 제외, 새로운 빈병 + b \n",
    "        \n",
    "        if n < a:\n",
    "            break\n",
    "    \n",
    "    return new"
   ]
  },
  {
   "cell_type": "code",
   "execution_count": 3,
   "id": "d101f6af",
   "metadata": {},
   "outputs": [
    {
     "data": {
      "text/plain": [
       "19"
      ]
     },
     "execution_count": 3,
     "metadata": {},
     "output_type": "execute_result"
    }
   ],
   "source": [
    "solution(2,1,20)"
   ]
  },
  {
   "cell_type": "code",
   "execution_count": 4,
   "id": "5b6ad19c",
   "metadata": {},
   "outputs": [
    {
     "data": {
      "text/plain": [
       "9"
      ]
     },
     "execution_count": 4,
     "metadata": {},
     "output_type": "execute_result"
    }
   ],
   "source": [
    "solution(3,1,20)"
   ]
  },
  {
   "cell_type": "markdown",
   "id": "a5055309",
   "metadata": {},
   "source": [
    "---"
   ]
  },
  {
   "cell_type": "code",
   "execution_count": 5,
   "id": "c5d53742",
   "metadata": {},
   "outputs": [],
   "source": [
    "def solution(a, b, n):\n",
    "    \n",
    "    answer = 0\n",
    "    \n",
    "    while(True):\n",
    "    \n",
    "        # 생산된 병 \n",
    "        answer += (n // a) * b\n",
    "\n",
    "        # 남아있는 빈병 = 총 생산 + 생산 못한 빈병 \n",
    "        n = (n // a) * b + (n % a)\n",
    "    \n",
    "        if n < a:\n",
    "            break\n",
    "        \n",
    "    return answer"
   ]
  },
  {
   "cell_type": "code",
   "execution_count": 3,
   "id": "eeab555d",
   "metadata": {},
   "outputs": [
    {
     "data": {
      "text/plain": [
       "19"
      ]
     },
     "execution_count": 3,
     "metadata": {},
     "output_type": "execute_result"
    }
   ],
   "source": [
    "solution(2,1,20)"
   ]
  },
  {
   "cell_type": "code",
   "execution_count": 4,
   "id": "d1bbac26",
   "metadata": {},
   "outputs": [
    {
     "data": {
      "text/plain": [
       "9"
      ]
     },
     "execution_count": 4,
     "metadata": {},
     "output_type": "execute_result"
    }
   ],
   "source": [
    "solution(3,1,20)"
   ]
  }
 ],
 "metadata": {
  "kernelspec": {
   "display_name": "Python 3 (ipykernel)",
   "language": "python",
   "name": "python3"
  },
  "language_info": {
   "codemirror_mode": {
    "name": "ipython",
    "version": 3
   },
   "file_extension": ".py",
   "mimetype": "text/x-python",
   "name": "python",
   "nbconvert_exporter": "python",
   "pygments_lexer": "ipython3",
   "version": "3.8.16"
  },
  "toc": {
   "base_numbering": 1,
   "nav_menu": {},
   "number_sections": true,
   "sideBar": true,
   "skip_h1_title": false,
   "title_cell": "Table of Contents",
   "title_sidebar": "Contents",
   "toc_cell": false,
   "toc_position": {},
   "toc_section_display": true,
   "toc_window_display": false
  },
  "varInspector": {
   "cols": {
    "lenName": 16,
    "lenType": 16,
    "lenVar": 40
   },
   "kernels_config": {
    "python": {
     "delete_cmd_postfix": "",
     "delete_cmd_prefix": "del ",
     "library": "var_list.py",
     "varRefreshCmd": "print(var_dic_list())"
    },
    "r": {
     "delete_cmd_postfix": ") ",
     "delete_cmd_prefix": "rm(",
     "library": "var_list.r",
     "varRefreshCmd": "cat(var_dic_list()) "
    }
   },
   "types_to_exclude": [
    "module",
    "function",
    "builtin_function_or_method",
    "instance",
    "_Feature"
   ],
   "window_display": false
  }
 },
 "nbformat": 4,
 "nbformat_minor": 5
}
