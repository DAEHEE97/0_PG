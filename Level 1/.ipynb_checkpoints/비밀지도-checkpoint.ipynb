{
 "cells": [
  {
   "cell_type": "markdown",
   "id": "588f8504",
   "metadata": {},
   "source": [
    "# [비밀지도](https://tech.kakao.com/2017/09/27/kakao-blind-recruitment-round-1/)\n",
    "\n",
    "- 리스트, 문자열 둘다 zip 가능 `for i,j in zip(lst1,lst2):` 처리\n",
    "\n",
    "- bin(9)[2:] = 문자열\n",
    "\n",
    "- 문자열 더하기 : `'0' * (N - len) + 'bin(9)[2:]'`\n"
   ]
  },
  {
   "cell_type": "markdown",
   "id": "0ec3656d",
   "metadata": {},
   "source": [
    "---"
   ]
  },
  {
   "cell_type": "markdown",
   "id": "138151df",
   "metadata": {},
   "source": [
    "## zip"
   ]
  },
  {
   "cell_type": "code",
   "execution_count": 23,
   "id": "16401fd1",
   "metadata": {},
   "outputs": [],
   "source": [
    "def solution(N,lst1,lst2):\n",
    "    \n",
    "    answer = []\n",
    "\n",
    "    for i,j in zip(lst1,lst2):\n",
    "\n",
    "        lst1_bin = '0' * ( N-len(bin(i)[2:])) + bin(i)[2:] \n",
    "        lst2_bin = '0' * ( N-len(bin(j)[2:])) + bin(j)[2:] \n",
    "\n",
    "        tmp =''\n",
    "        for p,q in zip(lst1_bin,lst2_bin):\n",
    "            if int(p) or int(q):\n",
    "                tmp += '#'\n",
    "            else:\n",
    "                tmp += ' '\n",
    "        \n",
    "        answer.append(tmp)\n",
    "        \n",
    "    return answer"
   ]
  },
  {
   "cell_type": "code",
   "execution_count": 2,
   "id": "dd24d256",
   "metadata": {},
   "outputs": [],
   "source": [
    "lst1 = [9, 20, 28, 18, 11]\n",
    "\n",
    "lst2 = [30, 1, 21, 17, 28]\n",
    "\n",
    "N = 5"
   ]
  },
  {
   "cell_type": "code",
   "execution_count": 24,
   "id": "7f075423",
   "metadata": {},
   "outputs": [
    {
     "data": {
      "text/plain": [
       "['#####', '# # #', '### #', '#  ##', '#####']"
      ]
     },
     "execution_count": 24,
     "metadata": {},
     "output_type": "execute_result"
    }
   ],
   "source": [
    "solution(N,lst1,lst2)"
   ]
  },
  {
   "cell_type": "markdown",
   "id": "e2e678ad",
   "metadata": {},
   "source": [
    "---"
   ]
  },
  {
   "cell_type": "code",
   "execution_count": 1,
   "id": "3a7699db",
   "metadata": {},
   "outputs": [],
   "source": [
    "def solution(N, lst1, lst2):\n",
    "    \n",
    "    answer = []    \n",
    "\n",
    "    # 만약 2진수로 변경후 자릿수가 부족하면, 앞의 길이가 5가 될때까지, 0 추가 \n",
    "\n",
    "    # lst1_bin\n",
    "    lst1_bin = []\n",
    "    \n",
    "    for i in lst1:\n",
    "        tmp = bin(i)\n",
    "        tmp = tmp[2:]\n",
    "        \n",
    "        if len(tmp) < N:\n",
    "            for _ in range(N-len(tmp)):\n",
    "                tmp = '0' + tmp\n",
    "        \n",
    "        lst1_bin.append(tmp)\n",
    "    \n",
    "    # lst2_bin\n",
    "    lst2_bin = []\n",
    "    \n",
    "    for i in lst2:\n",
    "        tmp = bin(i)\n",
    "        tmp = tmp[2:]\n",
    "        \n",
    "        if len(tmp) < N:\n",
    "            for _ in range(N-len(tmp)):\n",
    "                tmp = '0' + tmp\n",
    "        \n",
    "        lst2_bin.append(tmp)\n",
    "    \n",
    "    # or 연산 처리 \n",
    "    for i in range(N):\n",
    "        tmp = ''\n",
    "        for j in range(N):\n",
    "            if int(lst1_bin[i][j]) or int(lst2_bin[i][j]):\n",
    "                tmp += '#'\n",
    "            else:\n",
    "                tmp += ' '\n",
    "        \n",
    "        answer.append(tmp)\n",
    "    \n",
    "    \n",
    "    return answer"
   ]
  },
  {
   "cell_type": "code",
   "execution_count": 2,
   "id": "e8128a27",
   "metadata": {},
   "outputs": [],
   "source": [
    "lst1 = [9, 20, 28, 18, 11]\n",
    "\n",
    "lst2 = [30, 1, 21, 17, 28]\n",
    "\n",
    "N = 5"
   ]
  },
  {
   "cell_type": "code",
   "execution_count": 3,
   "id": "6fd4fa7d",
   "metadata": {},
   "outputs": [
    {
     "data": {
      "text/plain": [
       "['#####', '# # #', '### #', '#  ##', '#####']"
      ]
     },
     "execution_count": 3,
     "metadata": {},
     "output_type": "execute_result"
    }
   ],
   "source": [
    "solution(N,lst1,lst2)"
   ]
  }
 ],
 "metadata": {
  "kernelspec": {
   "display_name": "Python 3 (ipykernel)",
   "language": "python",
   "name": "python3"
  },
  "language_info": {
   "codemirror_mode": {
    "name": "ipython",
    "version": 3
   },
   "file_extension": ".py",
   "mimetype": "text/x-python",
   "name": "python",
   "nbconvert_exporter": "python",
   "pygments_lexer": "ipython3",
   "version": "3.8.16"
  },
  "toc": {
   "base_numbering": 1,
   "nav_menu": {},
   "number_sections": true,
   "sideBar": true,
   "skip_h1_title": false,
   "title_cell": "Table of Contents",
   "title_sidebar": "Contents",
   "toc_cell": false,
   "toc_position": {},
   "toc_section_display": true,
   "toc_window_display": false
  },
  "varInspector": {
   "cols": {
    "lenName": 16,
    "lenType": 16,
    "lenVar": 40
   },
   "kernels_config": {
    "python": {
     "delete_cmd_postfix": "",
     "delete_cmd_prefix": "del ",
     "library": "var_list.py",
     "varRefreshCmd": "print(var_dic_list())"
    },
    "r": {
     "delete_cmd_postfix": ") ",
     "delete_cmd_prefix": "rm(",
     "library": "var_list.r",
     "varRefreshCmd": "cat(var_dic_list()) "
    }
   },
   "types_to_exclude": [
    "module",
    "function",
    "builtin_function_or_method",
    "instance",
    "_Feature"
   ],
   "window_display": false
  }
 },
 "nbformat": 4,
 "nbformat_minor": 5
}
