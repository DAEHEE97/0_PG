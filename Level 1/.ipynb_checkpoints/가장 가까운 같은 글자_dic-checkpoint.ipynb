{
 "cells": [
  {
   "cell_type": "markdown",
   "id": "465d0ad7",
   "metadata": {},
   "source": [
    "# 가장 가까운 같은 글자\n",
    "- dic 에 key, value idx"
   ]
  },
  {
   "cell_type": "code",
   "execution_count": 9,
   "id": "cb0d9cc7",
   "metadata": {},
   "outputs": [],
   "source": [
    "dic = {}\n",
    "\n",
    "dic['s'] = 1"
   ]
  },
  {
   "cell_type": "code",
   "execution_count": 11,
   "id": "8cef9391",
   "metadata": {},
   "outputs": [
    {
     "data": {
      "text/plain": [
       "1"
      ]
     },
     "execution_count": 11,
     "metadata": {},
     "output_type": "execute_result"
    }
   ],
   "source": [
    "dic['s']"
   ]
  },
  {
   "cell_type": "markdown",
   "id": "44d5a788",
   "metadata": {},
   "source": [
    "---"
   ]
  },
  {
   "cell_type": "code",
   "execution_count": 15,
   "id": "a234d774",
   "metadata": {},
   "outputs": [],
   "source": [
    "def solution(string):\n",
    "    \n",
    "    answer = []\n",
    "    \n",
    "    dic = {}\n",
    "    \n",
    "    for i in range(len(string)):\n",
    "        \n",
    "        c = string[i]\n",
    "        \n",
    "        if c in dic:\n",
    "            \n",
    "            answer.append( i - dic[c] )\n",
    "            \n",
    "            dic[c] = i\n",
    "            \n",
    "        else:\n",
    "            \n",
    "            answer.append(-1)\n",
    "            \n",
    "            dic[c] = i\n",
    "            \n",
    "    return answer"
   ]
  },
  {
   "cell_type": "code",
   "execution_count": 16,
   "id": "08dc5d49",
   "metadata": {},
   "outputs": [
    {
     "data": {
      "text/plain": [
       "[-1, -1, -1, 2, 2, 2]"
      ]
     },
     "execution_count": 16,
     "metadata": {},
     "output_type": "execute_result"
    }
   ],
   "source": [
    "solution(\"banana\")"
   ]
  },
  {
   "cell_type": "markdown",
   "id": "b19cbaac",
   "metadata": {},
   "source": [
    "---"
   ]
  },
  {
   "cell_type": "code",
   "execution_count": 1,
   "id": "4c6cdc8d",
   "metadata": {},
   "outputs": [],
   "source": [
    "def solution(s):\n",
    "\n",
    "    answer = []\n",
    "    \n",
    "    dic = {}\n",
    "    \n",
    "    for i in range(len(s)):\n",
    "        \n",
    "        if s[i] not in dic:\n",
    "            \n",
    "            answer.append(-1)\n",
    "            dic[s[i]] = i\n",
    "\n",
    "            \n",
    "        else:\n",
    "            answer.append(i - dic[s[i]])\n",
    "            dic[s[i]] = i\n",
    "\n",
    "            \n",
    "    return answer"
   ]
  },
  {
   "cell_type": "code",
   "execution_count": 2,
   "id": "f9c55d13",
   "metadata": {},
   "outputs": [
    {
     "data": {
      "text/plain": [
       "[-1, -1, 1, -1, -1, -1]"
      ]
     },
     "execution_count": 2,
     "metadata": {},
     "output_type": "execute_result"
    }
   ],
   "source": [
    "solution(\"foobar\")"
   ]
  },
  {
   "cell_type": "code",
   "execution_count": 3,
   "id": "6e95ae12",
   "metadata": {},
   "outputs": [
    {
     "data": {
      "text/plain": [
       "[-1, -1, -1, 2, 2, 2]"
      ]
     },
     "execution_count": 3,
     "metadata": {},
     "output_type": "execute_result"
    }
   ],
   "source": [
    "solution(\"banana\")"
   ]
  }
 ],
 "metadata": {
  "kernelspec": {
   "display_name": "Python 3 (ipykernel)",
   "language": "python",
   "name": "python3"
  },
  "language_info": {
   "codemirror_mode": {
    "name": "ipython",
    "version": 3
   },
   "file_extension": ".py",
   "mimetype": "text/x-python",
   "name": "python",
   "nbconvert_exporter": "python",
   "pygments_lexer": "ipython3",
   "version": "3.8.16"
  },
  "toc": {
   "base_numbering": 1,
   "nav_menu": {},
   "number_sections": true,
   "sideBar": true,
   "skip_h1_title": false,
   "title_cell": "Table of Contents",
   "title_sidebar": "Contents",
   "toc_cell": false,
   "toc_position": {},
   "toc_section_display": true,
   "toc_window_display": false
  },
  "varInspector": {
   "cols": {
    "lenName": 16,
    "lenType": 16,
    "lenVar": 40
   },
   "kernels_config": {
    "python": {
     "delete_cmd_postfix": "",
     "delete_cmd_prefix": "del ",
     "library": "var_list.py",
     "varRefreshCmd": "print(var_dic_list())"
    },
    "r": {
     "delete_cmd_postfix": ") ",
     "delete_cmd_prefix": "rm(",
     "library": "var_list.r",
     "varRefreshCmd": "cat(var_dic_list()) "
    }
   },
   "types_to_exclude": [
    "module",
    "function",
    "builtin_function_or_method",
    "instance",
    "_Feature"
   ],
   "window_display": false
  }
 },
 "nbformat": 4,
 "nbformat_minor": 5
}
