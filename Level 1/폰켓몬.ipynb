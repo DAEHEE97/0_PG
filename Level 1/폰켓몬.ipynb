{
 "cells": [
  {
   "cell_type": "code",
   "execution_count": 1,
   "id": "a38ce145",
   "metadata": {},
   "outputs": [],
   "source": [
    "# 전체 N 개 중에서\n",
    "\n",
    "# N / 2 마리 get\n",
    "\n",
    "# 이때 종류수를 최대로 해서 get\n",
    "\n",
    "from itertools import combinations\n",
    "\n",
    "def solution(nums):\n",
    "    \n",
    "    answer = 0\n",
    "    lst = []\n",
    "    \n",
    "    for tup in combinations(nums, len(nums) // 2):\n",
    "        \n",
    "        lst.append(len(set(tup)))\n",
    "    \n",
    "    answer = max(lst)\n",
    "\n",
    "    return answer"
   ]
  },
  {
   "cell_type": "code",
   "execution_count": null,
   "id": "31c07b8e",
   "metadata": {},
   "outputs": [],
   "source": [
    "# 4개 \n",
    "\n",
    "# 3종류 중에서 2개를 픽해야함\n",
    "# 이때 2개 픽 가능함\n",
    "\n",
    "\n",
    "# 4종류 중에서 2개를 픽할수 있음\n",
    "# 2개 픽 "
   ]
  },
  {
   "cell_type": "code",
   "execution_count": null,
   "id": "eada921a",
   "metadata": {},
   "outputs": [],
   "source": [
    "def solution(nums):\n",
    "    \n",
    "    \n",
    "    pick = len(nums) // 2\n",
    "    \n",
    "    answer = min(len(set(nums)),pick)\n",
    "    \n",
    "    return answer"
   ]
  },
  {
   "cell_type": "markdown",
   "id": "7014e7cb",
   "metadata": {},
   "source": [
    "---"
   ]
  },
  {
   "cell_type": "code",
   "execution_count": null,
   "id": "0d52d9a4",
   "metadata": {},
   "outputs": [],
   "source": [
    "\n",
    "\n",
    "from itertools import combinations\n",
    "\n",
    "def solution(nums):\n",
    "    \n",
    "    \n",
    "    m = 0\n",
    "    for tup in combinations(nums, len(nums) // 2):\n",
    "        \n",
    "        if len(set(tup)) > m:\n",
    "            m = len(set(tup))\n",
    "\n",
    "    answer = m\n",
    "    return answer"
   ]
  }
 ],
 "metadata": {
  "kernelspec": {
   "display_name": "Python 3 (ipykernel)",
   "language": "python",
   "name": "python3"
  },
  "language_info": {
   "codemirror_mode": {
    "name": "ipython",
    "version": 3
   },
   "file_extension": ".py",
   "mimetype": "text/x-python",
   "name": "python",
   "nbconvert_exporter": "python",
   "pygments_lexer": "ipython3",
   "version": "3.8.16"
  },
  "toc": {
   "base_numbering": 1,
   "nav_menu": {},
   "number_sections": true,
   "sideBar": true,
   "skip_h1_title": false,
   "title_cell": "Table of Contents",
   "title_sidebar": "Contents",
   "toc_cell": false,
   "toc_position": {},
   "toc_section_display": true,
   "toc_window_display": false
  },
  "varInspector": {
   "cols": {
    "lenName": 16,
    "lenType": 16,
    "lenVar": 40
   },
   "kernels_config": {
    "python": {
     "delete_cmd_postfix": "",
     "delete_cmd_prefix": "del ",
     "library": "var_list.py",
     "varRefreshCmd": "print(var_dic_list())"
    },
    "r": {
     "delete_cmd_postfix": ") ",
     "delete_cmd_prefix": "rm(",
     "library": "var_list.r",
     "varRefreshCmd": "cat(var_dic_list()) "
    }
   },
   "types_to_exclude": [
    "module",
    "function",
    "builtin_function_or_method",
    "instance",
    "_Feature"
   ],
   "window_display": false
  }
 },
 "nbformat": 4,
 "nbformat_minor": 5
}
