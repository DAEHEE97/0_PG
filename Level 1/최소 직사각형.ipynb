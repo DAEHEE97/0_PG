{
 "cells": [
  {
   "cell_type": "markdown",
   "id": "3d2935be",
   "metadata": {},
   "source": [
    "## 최소 직사각형\n",
    "\n",
    "- 가로 세로 중, 긴 길이 와 짧은 길이를 한 쪽 으로 쏠리게 해서 계산하여, 최소 직사각형 완성\n",
    "\n",
    "- 2차원 배열 데이터, lst[0] lst[1] 크기 비교, max, min 함수로 처리\n",
    "\n",
    "- 최대값 갱신 처리"
   ]
  },
  {
   "cell_type": "markdown",
   "id": "e6661606",
   "metadata": {},
   "source": [
    "----"
   ]
  },
  {
   "cell_type": "code",
   "execution_count": 7,
   "id": "1e855af8",
   "metadata": {},
   "outputs": [],
   "source": [
    "def solution(sizes):\n",
    "    \n",
    "    max0 = 0\n",
    "    max1 = 0\n",
    "\n",
    "    for lst in sizes:\n",
    "        tmp0 = max(lst[0],lst[1])\n",
    "        tmp1 = min(lst[0],lst[1])\n",
    "        \n",
    "        if tmp0 >= max0:\n",
    "            max0 = tmp0\n",
    "            \n",
    "        if tmp1 >= max1:\n",
    "            max1= tmp1\n",
    "        \n",
    "    answer = max0 * max1\n",
    "    \n",
    "    return answer"
   ]
  },
  {
   "cell_type": "code",
   "execution_count": 8,
   "id": "90d7c12d",
   "metadata": {},
   "outputs": [
    {
     "data": {
      "text/plain": [
       "133"
      ]
     },
     "execution_count": 8,
     "metadata": {},
     "output_type": "execute_result"
    }
   ],
   "source": [
    "solution([[14, 4], [19, 6], [6, 16], [18, 7], [7, 11]])"
   ]
  },
  {
   "cell_type": "code",
   "execution_count": 9,
   "id": "05f5d24d",
   "metadata": {},
   "outputs": [],
   "source": [
    "def solution(sizes):\n",
    "    \n",
    "    size_0 = []\n",
    "    size_1 = []\n",
    "    \n",
    "    for lst in sizes:\n",
    "        if lst[0] < lst[1]:\n",
    "            size_0.append(lst[0])\n",
    "            size_1.append(lst[1])\n",
    "        else:\n",
    "            size_0.append(lst[1])\n",
    "            size_1.append(lst[0])\n",
    "\n",
    "    answer = max(size_0) * max(size_1)\n",
    "    \n",
    "    return answer"
   ]
  },
  {
   "cell_type": "code",
   "execution_count": 10,
   "id": "41bacd14",
   "metadata": {},
   "outputs": [
    {
     "data": {
      "text/plain": [
       "133"
      ]
     },
     "execution_count": 10,
     "metadata": {},
     "output_type": "execute_result"
    }
   ],
   "source": [
    "solution([[14, 4], [19, 6], [6, 16], [18, 7], [7, 11]])"
   ]
  },
  {
   "cell_type": "markdown",
   "id": "afa82aa7",
   "metadata": {},
   "source": [
    "## swap"
   ]
  },
  {
   "cell_type": "code",
   "execution_count": 3,
   "id": "db7b03bc",
   "metadata": {},
   "outputs": [],
   "source": [
    "for lst in arr:\n",
    "    \n",
    "    lst[0],lst[1] = lst[1],lst[0]"
   ]
  },
  {
   "cell_type": "code",
   "execution_count": 4,
   "id": "455101a5",
   "metadata": {},
   "outputs": [
    {
     "data": {
      "text/plain": [
       "[[50, 60], [70, 30], [30, 60], [40, 80]]"
      ]
     },
     "execution_count": 4,
     "metadata": {},
     "output_type": "execute_result"
    }
   ],
   "source": [
    "arr"
   ]
  }
 ],
 "metadata": {
  "kernelspec": {
   "display_name": "Python 3 (ipykernel)",
   "language": "python",
   "name": "python3"
  },
  "language_info": {
   "codemirror_mode": {
    "name": "ipython",
    "version": 3
   },
   "file_extension": ".py",
   "mimetype": "text/x-python",
   "name": "python",
   "nbconvert_exporter": "python",
   "pygments_lexer": "ipython3",
   "version": "3.8.16"
  },
  "toc": {
   "base_numbering": 1,
   "nav_menu": {},
   "number_sections": true,
   "sideBar": true,
   "skip_h1_title": false,
   "title_cell": "Table of Contents",
   "title_sidebar": "Contents",
   "toc_cell": false,
   "toc_position": {},
   "toc_section_display": true,
   "toc_window_display": false
  },
  "varInspector": {
   "cols": {
    "lenName": 16,
    "lenType": 16,
    "lenVar": 40
   },
   "kernels_config": {
    "python": {
     "delete_cmd_postfix": "",
     "delete_cmd_prefix": "del ",
     "library": "var_list.py",
     "varRefreshCmd": "print(var_dic_list())"
    },
    "r": {
     "delete_cmd_postfix": ") ",
     "delete_cmd_prefix": "rm(",
     "library": "var_list.r",
     "varRefreshCmd": "cat(var_dic_list()) "
    }
   },
   "types_to_exclude": [
    "module",
    "function",
    "builtin_function_or_method",
    "instance",
    "_Feature"
   ],
   "window_display": false
  }
 },
 "nbformat": 4,
 "nbformat_minor": 5
}
