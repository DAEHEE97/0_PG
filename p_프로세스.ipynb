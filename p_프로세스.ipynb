{
 "cells": [
  {
   "cell_type": "markdown",
   "id": "ff0a7713",
   "metadata": {},
   "source": [
    "# 프로세스"
   ]
  },
  {
   "cell_type": "code",
   "execution_count": null,
   "id": "f67d7c2f",
   "metadata": {},
   "outputs": [],
   "source": [
    "def solution(lst, idx):\n",
    "    \n",
    "    # 1. Queue를 만든다.\n",
    "    \n",
    "    # 리스트 value를 (idx,value) tuple 형 리스트로 생성\n",
    "    \n",
    "    printer = [ (i, v) for i,v in enumerate(lst) ]\n",
    "    \n",
    "    print(printer)\n",
    "    \n",
    "    cnt = 0\n",
    "    \n",
    "    while printer:\n",
    "        \n",
    "        job = printer.pop(0) # 하나 꺼내고,\n",
    "        \n",
    "        # 나머지에서 모두 꺼낸 other[1] 이랑 현재 꺼낸 job[1] 비교후,\n",
    "        # 만약 job[1] 이 모두 더 작다면, 우선순위가 높은게 하나라도 있다면, 다시 append\n",
    "        \n",
    "        # 하나라도 true 인게 있다면, 하나라도 더 큰게 있다면\n",
    "        if any( job[1] < other[1] for other in printer ):\n",
    "            \n",
    "            printer.append(job)\n",
    "        \n",
    "        # 만약 우선순위가 제일 높은거라면, \n",
    "        \n",
    "        else:\n",
    "            cnt += 1\n",
    "            \n",
    "            # 만약 이게 그 찾고자 했던 그 프로세스라면 브레이크 후 종료            \n",
    "            if job[0] == idx:\n",
    "                break;\n",
    "    \n",
    "    return cnt\n",
    "\n",
    "\n"
   ]
  }
 ],
 "metadata": {
  "kernelspec": {
   "display_name": "Python 3 (ipykernel)",
   "language": "python",
   "name": "python3"
  },
  "language_info": {
   "codemirror_mode": {
    "name": "ipython",
    "version": 3
   },
   "file_extension": ".py",
   "mimetype": "text/x-python",
   "name": "python",
   "nbconvert_exporter": "python",
   "pygments_lexer": "ipython3",
   "version": "3.8.16"
  },
  "toc": {
   "base_numbering": 1,
   "nav_menu": {},
   "number_sections": true,
   "sideBar": true,
   "skip_h1_title": false,
   "title_cell": "Table of Contents",
   "title_sidebar": "Contents",
   "toc_cell": false,
   "toc_position": {},
   "toc_section_display": true,
   "toc_window_display": false
  },
  "varInspector": {
   "cols": {
    "lenName": 16,
    "lenType": 16,
    "lenVar": 40
   },
   "kernels_config": {
    "python": {
     "delete_cmd_postfix": "",
     "delete_cmd_prefix": "del ",
     "library": "var_list.py",
     "varRefreshCmd": "print(var_dic_list())"
    },
    "r": {
     "delete_cmd_postfix": ") ",
     "delete_cmd_prefix": "rm(",
     "library": "var_list.r",
     "varRefreshCmd": "cat(var_dic_list()) "
    }
   },
   "types_to_exclude": [
    "module",
    "function",
    "builtin_function_or_method",
    "instance",
    "_Feature"
   ],
   "window_display": false
  }
 },
 "nbformat": 4,
 "nbformat_minor": 5
}
