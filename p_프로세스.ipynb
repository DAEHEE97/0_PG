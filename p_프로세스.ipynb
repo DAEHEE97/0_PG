{
 "cells": [
  {
   "cell_type": "markdown",
   "id": "ff0a7713",
   "metadata": {},
   "source": [
    "# 프로세스"
   ]
  },
  {
   "cell_type": "markdown",
   "id": "3f509528",
   "metadata": {},
   "source": [
    "---"
   ]
  },
  {
   "cell_type": "markdown",
   "id": "6229358e",
   "metadata": {},
   "source": [
    "- any"
   ]
  },
  {
   "cell_type": "code",
   "execution_count": 1,
   "id": "f67d7c2f",
   "metadata": {},
   "outputs": [],
   "source": [
    "def solution(priorities, location):\n",
    "    \n",
    "    arr = [ (i, v) for i,v in enumerate(priorities) ]\n",
    "    \n",
    "    answer = 0\n",
    "    \n",
    "    while True:\n",
    "        \n",
    "        # 종료 조건\n",
    "        if len(arr) == 0:\n",
    "            return\n",
    "        \n",
    "        \n",
    "        i1,v1 = arr.pop(0) \n",
    "    \n",
    "        if any( v1 < v for i,v in arr ):\n",
    "            arr.append((i1,v1))\n",
    "            \n",
    "        # location idx, \n",
    "        # 만약 우선순위가 높은게 하나도 없다면, 프로세스 실행, 정답 처리 (순서) 표시      \n",
    "        else:\n",
    "            answer += 1\n",
    "            \n",
    "            if i1 == location:\n",
    "                break\n",
    "    \n",
    "    return answer\n"
   ]
  },
  {
   "cell_type": "markdown",
   "id": "f1b417d9",
   "metadata": {},
   "source": [
    "---"
   ]
  },
  {
   "cell_type": "markdown",
   "id": "3316df71",
   "metadata": {},
   "source": [
    "```\n",
    "if (for i,v in arr if v1 > v) : x\n",
    "\n",
    "if all(v1 >= v for i,v in arr):\n",
    "```\n",
    "\n",
    "- all"
   ]
  },
  {
   "cell_type": "code",
   "execution_count": 2,
   "id": "25fff261",
   "metadata": {},
   "outputs": [],
   "source": [
    "def solution(priorities, location):\n",
    "    \n",
    "    \n",
    "    answer = 0\n",
    "    \n",
    "    # lst(value) to  2d arr(i,v) 처리 \n",
    "    arr = [ (i,v) for i,v in enumerate(priorities) ]\n",
    "    \n",
    "    lst = []\n",
    "\n",
    "    while True :\n",
    "        \n",
    "        # 비었으면 종료, 프로세스 종료\n",
    "        if len(arr) == 0:\n",
    "            break\n",
    "        \n",
    "        # 맨앞 프로세스 부터 , pop(0)\n",
    "        i1,v1 = arr.pop(0)\n",
    "\n",
    "        # 맨앞 꺼낸 프로세스의 v 가 나머지 arr에서 꺼낸 v 보다 모두 이상일시, 프로세스 실행, 즉 끝\n",
    "        if all(v1 >= v for i,v in arr):\n",
    "            lst.append(i1)\n",
    "            continue\n",
    "        \n",
    "        # 나머지 프로세스들 중에서 하나라도, 큰게 있다면, 다시 append()\n",
    "        else:\n",
    "            arr.append((i1,v1))\n",
    "\n",
    "        \n",
    "    # 몇번째로 실행되는지, idx x,  +1 해서 처리\n",
    "    \n",
    "    print(lst)\n",
    "    \n",
    "    \n",
    "    # idx 2,3,0,1\n",
    "    #     0번째, 1번째 로 들어옴\n",
    "    answer = lst.index(location) + 1\n",
    "\n",
    "    \n",
    "    return answer"
   ]
  },
  {
   "cell_type": "code",
   "execution_count": 3,
   "id": "6b5ffe30",
   "metadata": {},
   "outputs": [
    {
     "name": "stdout",
     "output_type": "stream",
     "text": [
      "[2, 3, 0, 1]\n"
     ]
    },
    {
     "data": {
      "text/plain": [
       "1"
      ]
     },
     "execution_count": 3,
     "metadata": {},
     "output_type": "execute_result"
    }
   ],
   "source": [
    "solution([2, 1, 3, 2],2)"
   ]
  }
 ],
 "metadata": {
  "kernelspec": {
   "display_name": "Python 3 (ipykernel)",
   "language": "python",
   "name": "python3"
  },
  "language_info": {
   "codemirror_mode": {
    "name": "ipython",
    "version": 3
   },
   "file_extension": ".py",
   "mimetype": "text/x-python",
   "name": "python",
   "nbconvert_exporter": "python",
   "pygments_lexer": "ipython3",
   "version": "3.8.16"
  },
  "toc": {
   "base_numbering": 1,
   "nav_menu": {},
   "number_sections": true,
   "sideBar": true,
   "skip_h1_title": false,
   "title_cell": "Table of Contents",
   "title_sidebar": "Contents",
   "toc_cell": false,
   "toc_position": {},
   "toc_section_display": true,
   "toc_window_display": false
  },
  "varInspector": {
   "cols": {
    "lenName": 16,
    "lenType": 16,
    "lenVar": 40
   },
   "kernels_config": {
    "python": {
     "delete_cmd_postfix": "",
     "delete_cmd_prefix": "del ",
     "library": "var_list.py",
     "varRefreshCmd": "print(var_dic_list())"
    },
    "r": {
     "delete_cmd_postfix": ") ",
     "delete_cmd_prefix": "rm(",
     "library": "var_list.r",
     "varRefreshCmd": "cat(var_dic_list()) "
    }
   },
   "types_to_exclude": [
    "module",
    "function",
    "builtin_function_or_method",
    "instance",
    "_Feature"
   ],
   "window_display": false
  }
 },
 "nbformat": 4,
 "nbformat_minor": 5
}
