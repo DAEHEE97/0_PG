{
 "cells": [
  {
   "cell_type": "markdown",
   "id": "7ca4511e",
   "metadata": {},
   "source": [
    "# [최고의 집합](https://school.programmers.co.kr/learn/courses/30/lessons/12938)"
   ]
  },
  {
   "cell_type": "markdown",
   "id": "e8a03e23",
   "metadata": {},
   "source": [
    "---"
   ]
  },
  {
   "cell_type": "markdown",
   "id": "dbd80d7a",
   "metadata": {},
   "source": [
    "1x18보다 9x9가 크다. \n",
    "\n",
    "고로 곱셈의 경우의 최대의 값을 내려면, 두 수의 차이가 적어야 한다는 추측을 할 수 있다.\n",
    "\n",
    "그렇다면 n개의 수로 이루어진 집합은, s의 값을 공평하게 n개로 나누어 가질수록 그 곱이 커질 것이다. \n",
    "\n",
    "나누어떨어지지 않더라도 나머지를 각 값에 1씩 나누어준다면 그 편차는 1을 넘지 않을 것이다.\n",
    "\n"
   ]
  },
  {
   "cell_type": "markdown",
   "id": "db8c36f1",
   "metadata": {},
   "source": [
    "---"
   ]
  },
  {
   "cell_type": "code",
   "execution_count": 5,
   "id": "69981505",
   "metadata": {},
   "outputs": [
    {
     "data": {
      "text/plain": [
       "4"
      ]
     },
     "execution_count": 5,
     "metadata": {},
     "output_type": "execute_result"
    }
   ],
   "source": [
    "8 // 2 # 4,4 가 최대 가 될것"
   ]
  },
  {
   "cell_type": "code",
   "execution_count": 6,
   "id": "812e6699",
   "metadata": {},
   "outputs": [
    {
     "data": {
      "text/plain": [
       "4"
      ]
     },
     "execution_count": 6,
     "metadata": {},
     "output_type": "execute_result"
    }
   ],
   "source": [
    "9 // 2 # 4,4+1 이 최대가 될 것"
   ]
  },
  {
   "cell_type": "markdown",
   "id": "b225f619",
   "metadata": {},
   "source": [
    "---"
   ]
  },
  {
   "cell_type": "code",
   "execution_count": null,
   "id": "20fdcc58",
   "metadata": {},
   "outputs": [],
   "source": [
    "def solution(n, s):\n",
    "    \n",
    "    # 1. 합을 n개로 나눠 줘야하는데 예외 사항 \n",
    "    if s < n:\n",
    "        return [-1]\n",
    "    \n",
    "    # 1-1) M 딱 나눠 떨어지면 최대 \n",
    "    M = s // n\n",
    "    \n",
    "    # 1-2) 그게 아니라면 나머지에 1씩 나눠주는경우 최대\n",
    "    d = s % n\n",
    "    \n",
    "    \n",
    "    # 1-3) 우선 n개 만큼 나눠준다.\n",
    "    \n",
    "    lst = []\n",
    "    for _ in range(n):\n",
    "        lst.append(M)\n",
    "    \n",
    "    # 1-5) d == 0 인경우 여기서 끝냄 \n",
    "    if d == 0:\n",
    "        return lst\n",
    "    \n",
    "    \n",
    "    # 1-4) 나머지들을 분배 해줘야함 \n",
    "    # 0칸, 1칸 모든칸에 하나씩 넣음 근데 무조건 d가 n보다 적으므로, 중간에 종료 됨\n",
    "    for i in range(0, n):\n",
    "            \n",
    "        lst[i] += 1\n",
    "            \n",
    "        d -= 1\n",
    "            \n",
    "        if d == 0:\n",
    "            break\n",
    "    \n",
    "    \n",
    "    lst.sort()\n",
    "    return lst\n",
    "    "
   ]
  },
  {
   "cell_type": "markdown",
   "id": "1d04d219",
   "metadata": {},
   "source": [
    "---"
   ]
  },
  {
   "cell_type": "code",
   "execution_count": 1,
   "id": "3279410d",
   "metadata": {},
   "outputs": [],
   "source": [
    "from itertools import combinations_with_replacement\n",
    "\n",
    "def solution(n, s):\n",
    "    \n",
    "\n",
    "    # 1-2)자연수의 개수 n은 1 이상 10,000 이하의 자연수\n",
    "    \n",
    "    lst = list(range(1, s+1))\n",
    "    \n",
    "    \n",
    "    # 2-1) 중복 4,4 처리해줘야 함\n",
    "        \n",
    "    tlst = []\n",
    "    \n",
    "    for tup in combinations_with_replacement(lst,2):\n",
    "        \n",
    "        if sum(tup) == s:\n",
    "            tlst.append(tup)\n",
    "            \n",
    "    \n",
    "    # 3 정답처리\n",
    "    if len(tlst) == 0:\n",
    "        return [-1]\n",
    "\n",
    "    else:\n",
    "        tlst = sorted(tlst, key = lambda x:x[0]*x[1])\n",
    "        \n",
    "        return tlst[-1]\n",
    "    "
   ]
  },
  {
   "cell_type": "markdown",
   "id": "0e7403d1",
   "metadata": {},
   "source": [
    "---"
   ]
  },
  {
   "cell_type": "code",
   "execution_count": 10,
   "id": "d5032107",
   "metadata": {},
   "outputs": [
    {
     "data": {
      "text/plain": [
       "[[1, 8], [2, 7], [3, 6], [4, 5], [10, 11]]"
      ]
     },
     "execution_count": 10,
     "metadata": {},
     "output_type": "execute_result"
    }
   ],
   "source": [
    "tlst = [ [2,7],[10,11],[3,6],[4,5],[1,8] ] \n",
    "\n",
    "ans = sorted(tlst, key = lambda x : x[0]*x[1])\n",
    "ans"
   ]
  },
  {
   "cell_type": "code",
   "execution_count": 11,
   "id": "76819a8d",
   "metadata": {},
   "outputs": [
    {
     "data": {
      "text/plain": [
       "[[10, 11], [4, 5], [3, 6], [2, 7], [1, 8]]"
      ]
     },
     "execution_count": 11,
     "metadata": {},
     "output_type": "execute_result"
    }
   ],
   "source": [
    "tlst = [ [2,7],[10,11],[3,6],[4,5],[1,8] ] \n",
    "ans = sorted(tlst, key = lambda x : x[0]*x[1], reverse = True )\n",
    "ans"
   ]
  },
  {
   "cell_type": "markdown",
   "id": "38243f0b",
   "metadata": {},
   "source": [
    "---"
   ]
  },
  {
   "cell_type": "code",
   "execution_count": null,
   "id": "201d1528",
   "metadata": {},
   "outputs": [],
   "source": [
    "from itertools import permutations, combinations, combinations_with_replacement\n",
    "\n",
    "lst = [1, 2, 2]\n",
    "\n",
    "# 순열 생성\n",
    "perms = list(permutations(lst, 2))\n",
    "print(\"Permutations:\")\n",
    "print(perms)\n",
    "\n",
    "# 조합 생성\n",
    "combs = list(combinations(lst, 2))\n",
    "print(\"\\nCombinations:\")\n",
    "print(combs)\n",
    "\n",
    "# 중복 조합 생성\n",
    "combs_with_replacement = list(combinations_with_replacement(lst, 2))\n",
    "print(\"\\nCombinations with Replacement:\")\n",
    "print(combs_with_replacement)"
   ]
  }
 ],
 "metadata": {
  "kernelspec": {
   "display_name": "Python 3 (ipykernel)",
   "language": "python",
   "name": "python3"
  },
  "language_info": {
   "codemirror_mode": {
    "name": "ipython",
    "version": 3
   },
   "file_extension": ".py",
   "mimetype": "text/x-python",
   "name": "python",
   "nbconvert_exporter": "python",
   "pygments_lexer": "ipython3",
   "version": "3.8.16"
  },
  "toc": {
   "base_numbering": 1,
   "nav_menu": {},
   "number_sections": true,
   "sideBar": true,
   "skip_h1_title": false,
   "title_cell": "Table of Contents",
   "title_sidebar": "Contents",
   "toc_cell": false,
   "toc_position": {},
   "toc_section_display": true,
   "toc_window_display": false
  },
  "varInspector": {
   "cols": {
    "lenName": 16,
    "lenType": 16,
    "lenVar": 40
   },
   "kernels_config": {
    "python": {
     "delete_cmd_postfix": "",
     "delete_cmd_prefix": "del ",
     "library": "var_list.py",
     "varRefreshCmd": "print(var_dic_list())"
    },
    "r": {
     "delete_cmd_postfix": ") ",
     "delete_cmd_prefix": "rm(",
     "library": "var_list.r",
     "varRefreshCmd": "cat(var_dic_list()) "
    }
   },
   "types_to_exclude": [
    "module",
    "function",
    "builtin_function_or_method",
    "instance",
    "_Feature"
   ],
   "window_display": false
  }
 },
 "nbformat": 4,
 "nbformat_minor": 5
}
