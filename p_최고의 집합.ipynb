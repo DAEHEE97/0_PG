{
 "cells": [
  {
   "cell_type": "code",
   "execution_count": null,
   "id": "3279410d",
   "metadata": {},
   "outputs": [],
   "source": [
    "from itertools import combinations_with_replacement\n",
    "\n",
    "def solution(n, s):\n",
    "    \n",
    "\n",
    "    # 1-2)자연수의 개수 n은 1 이상 10,000 이하의 자연수\n",
    "    \n",
    "    lst = list(range(1, 10000+1))\n",
    "    \n",
    "    \n",
    "    # 2-1) 중복 4,4 처리해줘야 함\n",
    "        \n",
    "    tlst = []\n",
    "    \n",
    "    for tup in combinations_with_replacement(lst,2):\n",
    "        \n",
    "        if sum(tup) == s:\n",
    "            tlst.append(tup)\n",
    "            \n",
    "    \n",
    "    # 3 정답처리\n",
    "    if len(tlst) == 0:\n",
    "        return [-1]\n",
    "\n",
    "    else:\n",
    "        tlst = sorted(tlst, key = lambda x:x[0]*x[1])\n",
    "        \n",
    "        return tlst[-1]\n",
    "    "
   ]
  },
  {
   "cell_type": "code",
   "execution_count": null,
   "id": "5b21305f",
   "metadata": {},
   "outputs": [],
   "source": []
  },
  {
   "cell_type": "code",
   "execution_count": 10,
   "id": "d5032107",
   "metadata": {},
   "outputs": [
    {
     "data": {
      "text/plain": [
       "[[1, 8], [2, 7], [3, 6], [4, 5], [10, 11]]"
      ]
     },
     "execution_count": 10,
     "metadata": {},
     "output_type": "execute_result"
    }
   ],
   "source": [
    "tlst = [ [2,7],[10,11],[3,6],[4,5],[1,8] ] \n",
    "\n",
    "ans = sorted(tlst, key = lambda x : x[0]*x[1])\n",
    "ans"
   ]
  },
  {
   "cell_type": "code",
   "execution_count": 11,
   "id": "76819a8d",
   "metadata": {},
   "outputs": [
    {
     "data": {
      "text/plain": [
       "[[10, 11], [4, 5], [3, 6], [2, 7], [1, 8]]"
      ]
     },
     "execution_count": 11,
     "metadata": {},
     "output_type": "execute_result"
    }
   ],
   "source": [
    "tlst = [ [2,7],[10,11],[3,6],[4,5],[1,8] ] \n",
    "ans = sorted(tlst, key = lambda x : x[0]*x[1], reverse = True )\n",
    "ans"
   ]
  },
  {
   "cell_type": "code",
   "execution_count": null,
   "id": "61ec6cfd",
   "metadata": {},
   "outputs": [],
   "source": []
  },
  {
   "cell_type": "code",
   "execution_count": null,
   "id": "6fee0109",
   "metadata": {},
   "outputs": [],
   "source": [
    "from itertools import permutations, combinations, combinations_with_replacement\n",
    "\n",
    "lst = [1, 2, 2]\n",
    "\n",
    "# 순열 생성\n",
    "perms = list(permutations(lst, 2))\n",
    "print(\"Permutations:\")\n",
    "print(perms)\n",
    "\n",
    "# 조합 생성\n",
    "combs = list(combinations(lst, 2))\n",
    "print(\"\\nCombinations:\")\n",
    "print(combs)\n",
    "\n",
    "# 중복 조합 생성\n",
    "combs_with_replacement = list(combinations_with_replacement(lst, 2))\n",
    "print(\"\\nCombinations with Replacement:\")\n",
    "print(combs_with_replacement)"
   ]
  }
 ],
 "metadata": {
  "kernelspec": {
   "display_name": "Python 3 (ipykernel)",
   "language": "python",
   "name": "python3"
  },
  "language_info": {
   "codemirror_mode": {
    "name": "ipython",
    "version": 3
   },
   "file_extension": ".py",
   "mimetype": "text/x-python",
   "name": "python",
   "nbconvert_exporter": "python",
   "pygments_lexer": "ipython3",
   "version": "3.8.16"
  },
  "toc": {
   "base_numbering": 1,
   "nav_menu": {},
   "number_sections": true,
   "sideBar": true,
   "skip_h1_title": false,
   "title_cell": "Table of Contents",
   "title_sidebar": "Contents",
   "toc_cell": false,
   "toc_position": {},
   "toc_section_display": true,
   "toc_window_display": false
  },
  "varInspector": {
   "cols": {
    "lenName": 16,
    "lenType": 16,
    "lenVar": 40
   },
   "kernels_config": {
    "python": {
     "delete_cmd_postfix": "",
     "delete_cmd_prefix": "del ",
     "library": "var_list.py",
     "varRefreshCmd": "print(var_dic_list())"
    },
    "r": {
     "delete_cmd_postfix": ") ",
     "delete_cmd_prefix": "rm(",
     "library": "var_list.r",
     "varRefreshCmd": "cat(var_dic_list()) "
    }
   },
   "types_to_exclude": [
    "module",
    "function",
    "builtin_function_or_method",
    "instance",
    "_Feature"
   ],
   "window_display": false
  }
 },
 "nbformat": 4,
 "nbformat_minor": 5
}
