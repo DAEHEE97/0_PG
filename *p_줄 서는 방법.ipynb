{
 "cells": [
  {
   "cell_type": "markdown",
   "id": "438e066f",
   "metadata": {},
   "source": [
    "# 줄 서는 방법"
   ]
  },
  {
   "cell_type": "code",
   "execution_count": 30,
   "id": "42b5271a",
   "metadata": {},
   "outputs": [],
   "source": [
    "from math import factorial"
   ]
  },
  {
   "cell_type": "code",
   "execution_count": 31,
   "id": "20e19902",
   "metadata": {},
   "outputs": [],
   "source": [
    "import math\n",
    "\n",
    "def solution(n, k):\n",
    "    \n",
    "    lst = list(range(1, n+1)) \n",
    "    \n",
    "    ans = []\n",
    "\n",
    "    while n != 0:\n",
    "        \n",
    "        tmp = factorial(n-1)\n",
    "        \n",
    "        idx, k = (k-1) // tmp, k % tmp\n",
    "        \n",
    "        ans.append(lst.pop(idx))\n",
    "        \n",
    "        n -= 1\n",
    "        \n",
    "\n",
    "    return ans"
   ]
  },
  {
   "cell_type": "code",
   "execution_count": 32,
   "id": "1f5368a6",
   "metadata": {},
   "outputs": [
    {
     "data": {
      "text/plain": [
       "[3, 1, 2]"
      ]
     },
     "execution_count": 32,
     "metadata": {},
     "output_type": "execute_result"
    }
   ],
   "source": [
    "solution(3, 5)"
   ]
  },
  {
   "cell_type": "markdown",
   "id": "59f6133f",
   "metadata": {},
   "source": [
    "---"
   ]
  },
  {
   "cell_type": "code",
   "execution_count": 1,
   "id": "9228b29a",
   "metadata": {},
   "outputs": [],
   "source": [
    "from itertools import combinations, permutations, combinations_with_replacement\n",
    "    \n",
    "def solution(n, k):\n",
    "\n",
    "\n",
    "    \n",
    "    lst = list(range(1, n+1)) \n",
    "    \n",
    "    ans = []\n",
    "\n",
    "    for tup in permutations(lst, n):\n",
    "        ans.append(tup)\n",
    "    \n",
    "    return ans[k-1]"
   ]
  },
  {
   "cell_type": "code",
   "execution_count": 2,
   "id": "4f10e260",
   "metadata": {},
   "outputs": [
    {
     "data": {
      "text/plain": [
       "(3, 1, 2)"
      ]
     },
     "execution_count": 2,
     "metadata": {},
     "output_type": "execute_result"
    }
   ],
   "source": [
    "solution(3, 5)"
   ]
  }
 ],
 "metadata": {
  "kernelspec": {
   "display_name": "Python 3 (ipykernel)",
   "language": "python",
   "name": "python3"
  },
  "language_info": {
   "codemirror_mode": {
    "name": "ipython",
    "version": 3
   },
   "file_extension": ".py",
   "mimetype": "text/x-python",
   "name": "python",
   "nbconvert_exporter": "python",
   "pygments_lexer": "ipython3",
   "version": "3.8.16"
  },
  "toc": {
   "base_numbering": 1,
   "nav_menu": {},
   "number_sections": true,
   "sideBar": true,
   "skip_h1_title": false,
   "title_cell": "Table of Contents",
   "title_sidebar": "Contents",
   "toc_cell": false,
   "toc_position": {},
   "toc_section_display": true,
   "toc_window_display": false
  },
  "varInspector": {
   "cols": {
    "lenName": 16,
    "lenType": 16,
    "lenVar": 40
   },
   "kernels_config": {
    "python": {
     "delete_cmd_postfix": "",
     "delete_cmd_prefix": "del ",
     "library": "var_list.py",
     "varRefreshCmd": "print(var_dic_list())"
    },
    "r": {
     "delete_cmd_postfix": ") ",
     "delete_cmd_prefix": "rm(",
     "library": "var_list.r",
     "varRefreshCmd": "cat(var_dic_list()) "
    }
   },
   "types_to_exclude": [
    "module",
    "function",
    "builtin_function_or_method",
    "instance",
    "_Feature"
   ],
   "window_display": false
  }
 },
 "nbformat": 4,
 "nbformat_minor": 5
}
