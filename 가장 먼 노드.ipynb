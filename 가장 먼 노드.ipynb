{
 "cells": [
  {
   "cell_type": "markdown",
   "id": "3f7ffab5",
   "metadata": {},
   "source": [
    "# 가장 먼 노드\n",
    "\n",
    "- 1번 노드에서 가장 멀리 떨어진 노드의 갯수\n",
    "- egde -> adj_lst 로 데이터 형 변경"
   ]
  },
  {
   "cell_type": "markdown",
   "id": "a5d00460",
   "metadata": {},
   "source": [
    "---"
   ]
  },
  {
   "cell_type": "code",
   "execution_count": 8,
   "id": "46f909f3",
   "metadata": {},
   "outputs": [],
   "source": [
    "# node 갯수\n",
    "n = 6\n",
    "# 간선 \n",
    "edge = [[3, 6], [4, 3], [3, 2], [1, 3], [1, 2], [2, 4], [5, 2]]\n",
    "\n"
   ]
  },
  {
   "cell_type": "code",
   "execution_count": 11,
   "id": "f8f7f4dd",
   "metadata": {},
   "outputs": [],
   "source": [
    "adj = [ [] for _ in range(n+1) ] # adj_lst\n",
    "\n",
    "for lst in edge:\n",
    "    s = lst[0]\n",
    "    e = lst[1]\n",
    "    \n",
    "    adj[s].append(e)\n",
    "    adj[e].append(s)"
   ]
  },
  {
   "cell_type": "markdown",
   "id": "cbce2812",
   "metadata": {},
   "source": [
    "---"
   ]
  },
  {
   "cell_type": "code",
   "execution_count": null,
   "id": "37f2ed2d",
   "metadata": {},
   "outputs": [],
   "source": [
    "from collections import deque\n",
    "\n",
    "\n",
    "def solution(n, edge):\n",
    "    \n",
    "    # bfs\n",
    "    def bfs(s):\n",
    "\n",
    "        q = deque()\n",
    "\n",
    "        q.append(s)\n",
    "        v[s] = 1\n",
    "\n",
    "        while q:\n",
    "\n",
    "            c = q.popleft()\n",
    "\n",
    "            for n in adj[c]:\n",
    "\n",
    "                if v[n] == 0:\n",
    "\n",
    "                    q.append(n)\n",
    "                    v[n] = v[c] + 1\n",
    "\n",
    "        # 방문 표시 리스트 값중, 값이 제일 큰 max value의 개수 return            \n",
    "        return v.count(max(v)) \n",
    "\n",
    "    \n",
    "    \n",
    "    # --- main\n",
    "    \n",
    "    answer = 0\n",
    "    \n",
    "    adj = [ [] for _ in range(n+1) ] # adj_lst\n",
    "    v = [0] * (n+1)\n",
    "\n",
    "    for lst in edge:\n",
    "        s = lst[0]\n",
    "        e = lst[1]\n",
    "\n",
    "        adj[s].append(e)\n",
    "        adj[e].append(s)\n",
    "    \n",
    "\n",
    "    answer = bfs(1)\n",
    "    \n",
    "    return answer"
   ]
  }
 ],
 "metadata": {
  "kernelspec": {
   "display_name": "Python 3 (ipykernel)",
   "language": "python",
   "name": "python3"
  },
  "language_info": {
   "codemirror_mode": {
    "name": "ipython",
    "version": 3
   },
   "file_extension": ".py",
   "mimetype": "text/x-python",
   "name": "python",
   "nbconvert_exporter": "python",
   "pygments_lexer": "ipython3",
   "version": "3.8.16"
  },
  "toc": {
   "base_numbering": 1,
   "nav_menu": {},
   "number_sections": true,
   "sideBar": true,
   "skip_h1_title": false,
   "title_cell": "Table of Contents",
   "title_sidebar": "Contents",
   "toc_cell": false,
   "toc_position": {},
   "toc_section_display": true,
   "toc_window_display": false
  },
  "varInspector": {
   "cols": {
    "lenName": 16,
    "lenType": 16,
    "lenVar": 40
   },
   "kernels_config": {
    "python": {
     "delete_cmd_postfix": "",
     "delete_cmd_prefix": "del ",
     "library": "var_list.py",
     "varRefreshCmd": "print(var_dic_list())"
    },
    "r": {
     "delete_cmd_postfix": ") ",
     "delete_cmd_prefix": "rm(",
     "library": "var_list.r",
     "varRefreshCmd": "cat(var_dic_list()) "
    }
   },
   "types_to_exclude": [
    "module",
    "function",
    "builtin_function_or_method",
    "instance",
    "_Feature"
   ],
   "window_display": false
  }
 },
 "nbformat": 4,
 "nbformat_minor": 5
}
