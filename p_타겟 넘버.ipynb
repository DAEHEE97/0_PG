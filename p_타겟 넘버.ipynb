{
 "cells": [
  {
   "cell_type": "markdown",
   "id": "8698a594",
   "metadata": {},
   "source": [
    "# 타겟 넘버"
   ]
  },
  {
   "cell_type": "markdown",
   "id": "7d876c6e",
   "metadata": {},
   "source": [
    "- 백트래킹\n",
    "\n",
    "- 가능한 모든 경우의 수 처리 후\n",
    "\n",
    "- + - 연산, 이진 트리\n"
   ]
  },
  {
   "cell_type": "code",
   "execution_count": 14,
   "id": "dec54078",
   "metadata": {},
   "outputs": [],
   "source": [
    "# n은 lst의 idx\n",
    "def dfs(n, s):\n",
    "    \n",
    "    # 1. 종료조건, 정답 처리\n",
    "    global ans\n",
    "    \n",
    "    if n == len(lst):\n",
    "        \n",
    "        if s == target:\n",
    "            ans += 1\n",
    "        \n",
    "        return\n",
    "    \n",
    "    \n",
    "    # 2. 하부 함수 처리\n",
    "    dfs( n+1, s+lst[n]) # + \n",
    "    dfs( n+1, s+(-1*lst[n]) ) # -\n",
    "    "
   ]
  },
  {
   "cell_type": "code",
   "execution_count": 15,
   "id": "04ff9883",
   "metadata": {},
   "outputs": [],
   "source": [
    "lst = [1, 1, 1, 1, 1]\n",
    "target = 3\n",
    "\n",
    "ans = 0\n",
    "\n",
    "dfs(0, 0)"
   ]
  },
  {
   "cell_type": "code",
   "execution_count": 16,
   "id": "6b42fbeb",
   "metadata": {},
   "outputs": [
    {
     "data": {
      "text/plain": [
       "5"
      ]
     },
     "execution_count": 16,
     "metadata": {},
     "output_type": "execute_result"
    }
   ],
   "source": [
    "ans"
   ]
  },
  {
   "cell_type": "markdown",
   "id": "97b4d8cd",
   "metadata": {},
   "source": [
    "---"
   ]
  },
  {
   "cell_type": "code",
   "execution_count": null,
   "id": "d9a4b3c3",
   "metadata": {},
   "outputs": [],
   "source": [
    "ans = 0\n",
    "\n",
    "# n은 lst의 idx\n",
    "def dfs(n, s, lst, target):\n",
    "    \n",
    "    # last idx\n",
    "    # 1. 종료조건, 정답 처리\n",
    "    \n",
    "    global ans\n",
    "    \n",
    "    if n == len(lst):\n",
    "        \n",
    "        if s == target:\n",
    "            ans += 1\n",
    "        \n",
    "        return\n",
    "    \n",
    "    # 2. 이진 트리 처리 \n",
    "    \n",
    "    dfs( n+1, s+lst[n], lst, target) # + \n",
    "    \n",
    "    dfs( n+1, s+(-1*lst[n]), lst, target) # -\n",
    "    \n",
    "\n",
    "def solution(numbers, target):\n",
    "    \n",
    "    dfs(0, 0, numbers, target)\n",
    "    \n",
    "    return ans"
   ]
  }
 ],
 "metadata": {
  "kernelspec": {
   "display_name": "Python 3 (ipykernel)",
   "language": "python",
   "name": "python3"
  },
  "language_info": {
   "codemirror_mode": {
    "name": "ipython",
    "version": 3
   },
   "file_extension": ".py",
   "mimetype": "text/x-python",
   "name": "python",
   "nbconvert_exporter": "python",
   "pygments_lexer": "ipython3",
   "version": "3.8.16"
  },
  "toc": {
   "base_numbering": 1,
   "nav_menu": {},
   "number_sections": true,
   "sideBar": true,
   "skip_h1_title": false,
   "title_cell": "Table of Contents",
   "title_sidebar": "Contents",
   "toc_cell": false,
   "toc_position": {},
   "toc_section_display": true,
   "toc_window_display": false
  },
  "varInspector": {
   "cols": {
    "lenName": 16,
    "lenType": 16,
    "lenVar": 40
   },
   "kernels_config": {
    "python": {
     "delete_cmd_postfix": "",
     "delete_cmd_prefix": "del ",
     "library": "var_list.py",
     "varRefreshCmd": "print(var_dic_list())"
    },
    "r": {
     "delete_cmd_postfix": ") ",
     "delete_cmd_prefix": "rm(",
     "library": "var_list.r",
     "varRefreshCmd": "cat(var_dic_list()) "
    }
   },
   "types_to_exclude": [
    "module",
    "function",
    "builtin_function_or_method",
    "instance",
    "_Feature"
   ],
   "window_display": false
  }
 },
 "nbformat": 4,
 "nbformat_minor": 5
}
