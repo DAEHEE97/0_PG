{
 "cells": [
  {
   "cell_type": "markdown",
   "id": "528804fc",
   "metadata": {},
   "source": [
    "# 기능개발"
   ]
  },
  {
   "cell_type": "markdown",
   "id": "0c3d66fd",
   "metadata": {},
   "source": [
    "---"
   ]
  },
  {
   "cell_type": "markdown",
   "id": "895b2558",
   "metadata": {},
   "source": [
    "- math.ceil 올림\n",
    "- zip"
   ]
  },
  {
   "cell_type": "code",
   "execution_count": 16,
   "id": "06206c52",
   "metadata": {},
   "outputs": [],
   "source": [
    "import math\n",
    "\n",
    "def solution(progresses, speeds):\n",
    "    \n",
    "\n",
    "    answer = 0\n",
    "\n",
    "    lst = []\n",
    "    \n",
    "    for i in range(0, len(progresses)):\n",
    "        \n",
    "        lst.append(math.ceil((100 - progresses[i]) / speeds[i]))\n",
    "        \n",
    "    # lst = [ math.ceil((100 - progresses[i]) / speeds[i]) for i in range(0, len(progresses))]\n",
    "        \n",
    "    print(lst)\n",
    "    \n",
    "    ans = []\n",
    "    \n",
    "    # lst\n",
    "    \n",
    "    # lst에서 하나 v 를 꺼내서, 나머지 lst들과 비교, 큰 값이 나올때 까지 cnt +=1\n",
    "    \n",
    "    \n",
    "    while True:\n",
    "        \n",
    "        if len(lst) == 0:\n",
    "            break\n",
    "            \n",
    "        cnt = 0\n",
    "        \n",
    "        \n",
    "        # 꺼낸 값과 나머지 lst 비교\n",
    "        v = lst.pop(0)\n",
    "        cnt += 1\n",
    "        \n",
    "        # range idx로 처리해서, pop을 하게 되면, idx가 꼬임 \n",
    "        for i in range(len(lst)):\n",
    "            # 큰게 하나 있으면 카운트, \n",
    "            if v >= lst[i]:\n",
    "                cnt += 1\n",
    "            # 없으면 바로 브레이크\n",
    "            \n",
    "            else:\n",
    "                break\n",
    "        \n",
    "        # cnt 처리 후, pop 처리 \n",
    "        for _ in range(cnt-1):\n",
    "            lst.pop(0)\n",
    "            \n",
    "        ans.append(cnt)\n",
    "        \n",
    "    return ans"
   ]
  },
  {
   "cell_type": "markdown",
   "id": "1c57a98a",
   "metadata": {},
   "source": [
    "---"
   ]
  },
  {
   "cell_type": "code",
   "execution_count": 17,
   "id": "127ac539",
   "metadata": {},
   "outputs": [
    {
     "name": "stdout",
     "output_type": "stream",
     "text": [
      "[7, 3, 9]\n"
     ]
    },
    {
     "data": {
      "text/plain": [
       "[2, 1]"
      ]
     },
     "execution_count": 17,
     "metadata": {},
     "output_type": "execute_result"
    }
   ],
   "source": [
    "solution([93, 30, 55],[1, 30, 5])"
   ]
  },
  {
   "cell_type": "code",
   "execution_count": 18,
   "id": "614f4339",
   "metadata": {},
   "outputs": [
    {
     "name": "stdout",
     "output_type": "stream",
     "text": [
      "[5, 10, 1, 1, 20, 1]\n"
     ]
    },
    {
     "data": {
      "text/plain": [
       "[1, 3, 2]"
      ]
     },
     "execution_count": 18,
     "metadata": {},
     "output_type": "execute_result"
    }
   ],
   "source": [
    "solution([95, 90, 99, 99, 80, 99], [1,1,1,1,1,1])"
   ]
  },
  {
   "cell_type": "markdown",
   "id": "f2853cda",
   "metadata": {},
   "source": [
    "---"
   ]
  },
  {
   "cell_type": "code",
   "execution_count": 4,
   "id": "781b10ea",
   "metadata": {},
   "outputs": [
    {
     "data": {
      "text/plain": [
       "[7, 3, 9]"
      ]
     },
     "execution_count": 4,
     "metadata": {},
     "output_type": "execute_result"
    }
   ],
   "source": [
    "lst = [ math.ceil((100 - p) / s)  for p, s in zip([93, 30, 55],[1, 30, 5])]\n",
    "lst"
   ]
  },
  {
   "cell_type": "code",
   "execution_count": null,
   "id": "ae391b0d",
   "metadata": {},
   "outputs": [],
   "source": [
    "lst = [ math.ceil((100 - progresses[i]) / speeds[i]) for i in range(0, len(progresses))]"
   ]
  },
  {
   "cell_type": "code",
   "execution_count": 28,
   "id": "e7fc5c3e",
   "metadata": {},
   "outputs": [],
   "source": [
    "# error, 옆으로 넘어가면서 큰게 나오면 종료, bool 로 처리하게 되면, 전체 다 진행 \n",
    "bool_lst = [ v >= n for n in lst ]        "
   ]
  },
  {
   "cell_type": "code",
   "execution_count": 12,
   "id": "022fcc86",
   "metadata": {},
   "outputs": [
    {
     "name": "stdout",
     "output_type": "stream",
     "text": [
      "1\n",
      "3\n",
      "5\n"
     ]
    }
   ],
   "source": [
    "# lst 순회중에 pop처리시 알아서 땡겨짐\n",
    "\n",
    "lst = [1,2,3,4,5]\n",
    "\n",
    "for n in lst:\n",
    "    \n",
    "    print(n)\n",
    "    \n",
    "    lst.pop(0)"
   ]
  },
  {
   "cell_type": "markdown",
   "id": "c0bc2164",
   "metadata": {},
   "source": [
    "---"
   ]
  },
  {
   "cell_type": "code",
   "execution_count": 44,
   "id": "56abd06e",
   "metadata": {},
   "outputs": [],
   "source": [
    "import math\n",
    "\n",
    "def solution(progresses, speeds):\n",
    "    \n",
    "    lst = [ math.ceil((100 - progresses[i]) / speeds[i]) for i in range(0, len(progresses))]\n",
    "    \n",
    "    print(lst)\n",
    "\n",
    "    ans = []\n",
    "\n",
    "    # 여기가 지금 한번에 안되고 있음\n",
    "    \n",
    "    while lst:\n",
    "        \n",
    "        cnt = 0\n",
    "        \n",
    "        v = lst.pop(0)\n",
    "        cnt += 1\n",
    "        \n",
    "        for n in lst:\n",
    "            \n",
    "            if v >= n:\n",
    "                cnt += 1\n",
    "                \n",
    "            else:   \n",
    "                break\n",
    "        \n",
    "        # 처리한것은 pop 처리 해줘야 함.\n",
    "        for _ in range(cnt-1):\n",
    "            lst.pop(0)\n",
    "                        \n",
    "        ans.append(cnt)\n",
    "        \n",
    "    return ans"
   ]
  },
  {
   "cell_type": "code",
   "execution_count": 45,
   "id": "7073ed94",
   "metadata": {},
   "outputs": [
    {
     "name": "stdout",
     "output_type": "stream",
     "text": [
      "[7, 3, 9]\n"
     ]
    },
    {
     "data": {
      "text/plain": [
       "[2, 1]"
      ]
     },
     "execution_count": 45,
     "metadata": {},
     "output_type": "execute_result"
    }
   ],
   "source": [
    "solution([93, 30, 55],[1, 30, 5])"
   ]
  },
  {
   "cell_type": "code",
   "execution_count": 46,
   "id": "fb8931fb",
   "metadata": {},
   "outputs": [
    {
     "name": "stdout",
     "output_type": "stream",
     "text": [
      "[5, 10, 1, 1, 20, 1]\n"
     ]
    },
    {
     "data": {
      "text/plain": [
       "[1, 3, 2]"
      ]
     },
     "execution_count": 46,
     "metadata": {},
     "output_type": "execute_result"
    }
   ],
   "source": [
    "solution([95, 90, 99, 99, 80, 99], [1,1,1,1,1,1])"
   ]
  }
 ],
 "metadata": {
  "kernelspec": {
   "display_name": "Python 3 (ipykernel)",
   "language": "python",
   "name": "python3"
  },
  "language_info": {
   "codemirror_mode": {
    "name": "ipython",
    "version": 3
   },
   "file_extension": ".py",
   "mimetype": "text/x-python",
   "name": "python",
   "nbconvert_exporter": "python",
   "pygments_lexer": "ipython3",
   "version": "3.8.16"
  },
  "toc": {
   "base_numbering": 1,
   "nav_menu": {},
   "number_sections": true,
   "sideBar": true,
   "skip_h1_title": false,
   "title_cell": "Table of Contents",
   "title_sidebar": "Contents",
   "toc_cell": false,
   "toc_position": {},
   "toc_section_display": true,
   "toc_window_display": false
  },
  "varInspector": {
   "cols": {
    "lenName": 16,
    "lenType": 16,
    "lenVar": 40
   },
   "kernels_config": {
    "python": {
     "delete_cmd_postfix": "",
     "delete_cmd_prefix": "del ",
     "library": "var_list.py",
     "varRefreshCmd": "print(var_dic_list())"
    },
    "r": {
     "delete_cmd_postfix": ") ",
     "delete_cmd_prefix": "rm(",
     "library": "var_list.r",
     "varRefreshCmd": "cat(var_dic_list()) "
    }
   },
   "types_to_exclude": [
    "module",
    "function",
    "builtin_function_or_method",
    "instance",
    "_Feature"
   ],
   "window_display": false
  }
 },
 "nbformat": 4,
 "nbformat_minor": 5
}
