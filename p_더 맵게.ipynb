{
 "cells": [
  {
   "cell_type": "markdown",
   "id": "e3abcdf0",
   "metadata": {},
   "source": [
    "# 더 맵게"
   ]
  },
  {
   "cell_type": "markdown",
   "id": "737dc039",
   "metadata": {},
   "source": [
    "---"
   ]
  },
  {
   "cell_type": "markdown",
   "id": "667fca1e",
   "metadata": {},
   "source": [
    "- deque"
   ]
  },
  {
   "cell_type": "code",
   "execution_count": 32,
   "id": "2b9697ea",
   "metadata": {},
   "outputs": [],
   "source": [
    "from collections import deque\n",
    "\n",
    "def check(lst, K):\n",
    "    \n",
    "    # 모든 리스트의 원소합이 K 이상인지 확인\n",
    "    \n",
    "    for n in lst:\n",
    "        if n < K: \n",
    "            return False\n",
    "        \n",
    "    return True\n",
    "\n",
    "    \n",
    "def solution(scoville, K):\n",
    "    \n",
    "    answer = 0\n",
    "    \n",
    "    scoville.sort()\n",
    "    \n",
    "    q = deque(scoville)\n",
    "    \n",
    "    N = len(scoville)\n",
    "    \n",
    "    # 반복 횟수 \n",
    "    for _ in range(N-1):\n",
    "        \n",
    "        q.appendleft(q.popleft() + ( q.popleft() * 2)) \n",
    "        \n",
    "        if check(q, K) :\n",
    "            answer += 1\n",
    "            return answer\n",
    "        \n",
    "        else:\n",
    "            flag = False\n",
    "            answer += 1\n",
    "        \n",
    "    if flag == False:\n",
    "        return -1\n",
    "        \n"
   ]
  },
  {
   "cell_type": "markdown",
   "id": "8aac84f6",
   "metadata": {},
   "source": [
    "---"
   ]
  },
  {
   "cell_type": "markdown",
   "id": "eca3574c",
   "metadata": {},
   "source": [
    "- lst"
   ]
  },
  {
   "cell_type": "code",
   "execution_count": null,
   "id": "50064642",
   "metadata": {},
   "outputs": [],
   "source": [
    "from collections import deque\n",
    "\n",
    "def check(lst, K):\n",
    "    \n",
    "    # 모든 리스트의 원소합이 K 이상인지 확인\n",
    "    \n",
    "    for n in lst:\n",
    "        if n < K: \n",
    "            return False\n",
    "        \n",
    "    return True\n",
    "\n",
    "    \n",
    "def solution(scoville, K):\n",
    "    \n",
    "    answer = 0\n",
    "    \n",
    "    scoville.sort()\n",
    "    \n",
    "    N = len(scoville)\n",
    "    \n",
    "    # 반복 횟수 \n",
    "    for _ in range(N-1):\n",
    "    \n",
    "        scoville.append(scoville.pop(0) + ( scoville.pop(1) * 2)) \n",
    "        \n",
    "        if check(scoville, K) :\n",
    "            answer += 1\n",
    "            return answer\n",
    "        \n",
    "        else:\n",
    "            flag = False\n",
    "            answer += 1\n",
    "        \n",
    "    if flag == False:\n",
    "        return -1\n",
    "        \n"
   ]
  }
 ],
 "metadata": {
  "kernelspec": {
   "display_name": "Python 3 (ipykernel)",
   "language": "python",
   "name": "python3"
  },
  "language_info": {
   "codemirror_mode": {
    "name": "ipython",
    "version": 3
   },
   "file_extension": ".py",
   "mimetype": "text/x-python",
   "name": "python",
   "nbconvert_exporter": "python",
   "pygments_lexer": "ipython3",
   "version": "3.8.16"
  },
  "toc": {
   "base_numbering": 1,
   "nav_menu": {},
   "number_sections": true,
   "sideBar": true,
   "skip_h1_title": false,
   "title_cell": "Table of Contents",
   "title_sidebar": "Contents",
   "toc_cell": false,
   "toc_position": {},
   "toc_section_display": true,
   "toc_window_display": false
  },
  "varInspector": {
   "cols": {
    "lenName": 16,
    "lenType": 16,
    "lenVar": 40
   },
   "kernels_config": {
    "python": {
     "delete_cmd_postfix": "",
     "delete_cmd_prefix": "del ",
     "library": "var_list.py",
     "varRefreshCmd": "print(var_dic_list())"
    },
    "r": {
     "delete_cmd_postfix": ") ",
     "delete_cmd_prefix": "rm(",
     "library": "var_list.r",
     "varRefreshCmd": "cat(var_dic_list()) "
    }
   },
   "types_to_exclude": [
    "module",
    "function",
    "builtin_function_or_method",
    "instance",
    "_Feature"
   ],
   "window_display": false
  }
 },
 "nbformat": 4,
 "nbformat_minor": 5
}
