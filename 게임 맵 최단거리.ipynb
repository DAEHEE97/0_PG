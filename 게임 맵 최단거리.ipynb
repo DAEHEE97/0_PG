{
 "cells": [
  {
   "cell_type": "markdown",
   "id": "da9491b4",
   "metadata": {},
   "source": [
    "# 게임 맵 최단거리\n",
    "\n",
    "\n"
   ]
  },
  {
   "cell_type": "markdown",
   "id": "fa433937",
   "metadata": {},
   "source": [
    "- 방문 레벨 처리(확산)\n",
    "\n",
    "- 최단 거리 정의: \n",
    "    - 1. 시작지점에서 도착지점까지 이동 가능\n",
    "    - 2. 중복 x\n",
    "    - 3. 방문한적이 있는 곳은, 다음 수단으로 최단거리 픽 후보가 되지 않음(한번 움직일때 같은 힘을 사용)"
   ]
  },
  {
   "cell_type": "code",
   "execution_count": 57,
   "id": "7f576807",
   "metadata": {},
   "outputs": [],
   "source": [
    "# 최단 거리, 방문 레벨 처리\n",
    "\n",
    "\n",
    "# 범위내, 4방향, \n",
    "from collections import deque\n",
    "\n",
    "def solution(maps):\n",
    "    \n",
    "    M = len(maps[0]) # 가로 \n",
    "    N = len(maps)    # 세로\n",
    "    \n",
    "    si,sj = 0, 0\n",
    "    ei,ej = N-1, M-1 # i열, j행\n",
    "    \n",
    "    q = deque()\n",
    "    #v = [ [0]*M for _ in range(N) ] # 방문 표시 리스트\n",
    "\n",
    "    q.append((si,sj))\n",
    "    v[si][sj] = 1\n",
    "    \n",
    "    while q:\n",
    "        \n",
    "        \n",
    "        ci,cj = q.popleft()\n",
    "        \n",
    "        if (ci,cj) == (ei,ej):\n",
    "            \n",
    "            return v[ei][ej] \n",
    "        \n",
    "        for di,dj in ((0,1),(0,-1),(-1,0),(1,0)):\n",
    "            \n",
    "            ni,nj = ci+di, cj+dj\n",
    "            \n",
    "            if 0<=ni<N and 0<=nj<M and maps[ni][nj] == 1 and v[ni][nj] == 0:\n",
    "                \n",
    "                q.append((ni,nj))\n",
    "                v[ni][nj] = v[ci][cj] + 1\n",
    "                \n",
    "                \n",
    "                \n",
    "                \n",
    "    return -1"
   ]
  },
  {
   "cell_type": "code",
   "execution_count": 58,
   "id": "e15ae579",
   "metadata": {},
   "outputs": [],
   "source": [
    "v = [ [0]*M for _ in range(N) ] # 방문 표시 리스트\n"
   ]
  },
  {
   "cell_type": "code",
   "execution_count": 59,
   "id": "397b4179",
   "metadata": {},
   "outputs": [
    {
     "data": {
      "text/plain": [
       "11"
      ]
     },
     "execution_count": 59,
     "metadata": {},
     "output_type": "execute_result"
    }
   ],
   "source": [
    "solution([[1,0,1,1,1],[1,0,1,0,1],[1,0,1,1,1],[1,1,1,0,1],[0,0,0,0,1]]\t)"
   ]
  },
  {
   "cell_type": "code",
   "execution_count": 60,
   "id": "51e9e58d",
   "metadata": {},
   "outputs": [
    {
     "data": {
      "text/plain": [
       "[[1, 0, 9, 10, 11],\n",
       " [2, 0, 8, 0, 10],\n",
       " [3, 0, 7, 8, 9],\n",
       " [4, 5, 6, 0, 10],\n",
       " [0, 0, 0, 0, 11]]"
      ]
     },
     "execution_count": 60,
     "metadata": {},
     "output_type": "execute_result"
    }
   ],
   "source": [
    "v"
   ]
  }
 ],
 "metadata": {
  "kernelspec": {
   "display_name": "Python 3 (ipykernel)",
   "language": "python",
   "name": "python3"
  },
  "language_info": {
   "codemirror_mode": {
    "name": "ipython",
    "version": 3
   },
   "file_extension": ".py",
   "mimetype": "text/x-python",
   "name": "python",
   "nbconvert_exporter": "python",
   "pygments_lexer": "ipython3",
   "version": "3.8.16"
  },
  "toc": {
   "base_numbering": 1,
   "nav_menu": {},
   "number_sections": true,
   "sideBar": true,
   "skip_h1_title": false,
   "title_cell": "Table of Contents",
   "title_sidebar": "Contents",
   "toc_cell": false,
   "toc_position": {},
   "toc_section_display": true,
   "toc_window_display": false
  },
  "varInspector": {
   "cols": {
    "lenName": 16,
    "lenType": 16,
    "lenVar": 40
   },
   "kernels_config": {
    "python": {
     "delete_cmd_postfix": "",
     "delete_cmd_prefix": "del ",
     "library": "var_list.py",
     "varRefreshCmd": "print(var_dic_list())"
    },
    "r": {
     "delete_cmd_postfix": ") ",
     "delete_cmd_prefix": "rm(",
     "library": "var_list.r",
     "varRefreshCmd": "cat(var_dic_list()) "
    }
   },
   "types_to_exclude": [
    "module",
    "function",
    "builtin_function_or_method",
    "instance",
    "_Feature"
   ],
   "window_display": false
  }
 },
 "nbformat": 4,
 "nbformat_minor": 5
}
