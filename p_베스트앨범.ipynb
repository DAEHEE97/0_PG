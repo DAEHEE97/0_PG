{
 "cells": [
  {
   "cell_type": "markdown",
   "id": "927176d3",
   "metadata": {},
   "source": [
    "# 베스트 앨범"
   ]
  },
  {
   "cell_type": "markdown",
   "id": "02745cac",
   "metadata": {},
   "source": [
    "---"
   ]
  },
  {
   "cell_type": "markdown",
   "id": "fb82113d",
   "metadata": {},
   "source": [
    "## sol 1"
   ]
  },
  {
   "cell_type": "code",
   "execution_count": null,
   "id": "74bcac77",
   "metadata": {},
   "outputs": [],
   "source": [
    "\n",
    "# dic1 = ['classic' : [ [],[],[] ]    \n",
    "# dic2 = ['classic' : 1450 ]\n",
    "    \n",
    "def solution(genres, plays):\n",
    "    \n",
    "    dic1 = {}\n",
    "    dic2 = {}\n",
    "    \n",
    "    # idx, (v, v) 하나씩 처리\n",
    "    for i, (g, p) in enumerate(zip(genres, plays)):\n",
    "        \n",
    "        # 첫 초기화시 2차원 arr로 만들어야함\n",
    "        if g not in dic1:\n",
    "            dic1[g] = [[i,p]]\n",
    "        else:\n",
    "            dic1[g].append([i,p])\n",
    "            \n",
    "        if g not in dic2:\n",
    "            dic2[g] = p\n",
    "        else:\n",
    "            dic2[g] += p\n",
    "            \n",
    "            \n",
    "    answer = []\n",
    "            \n",
    "    # dic2의 value 기준 내림차순 key값을 가져와서, 2개씩 idx 처리\n",
    "    # key 가져오는 2가지 처리\n",
    "    \n",
    "    #for k, v in sorted(dic2.items(), key = lambda x:x[1], reverse = True):\n",
    "    \n",
    "    for k in sorted(dic2.keys(), key = lambda x:dic2[x], reverse = True):\n",
    "        \n",
    "        # 내림차순 중 2개 i,\n",
    "        # dic1[k] 의 값, 2차원 arr [[i,p]], p 기준 내림차순, 중 2개만 슬라이싱\n",
    "        for (i, p) in sorted(dic1[k], key = lambda lst:lst[1], reverse = True)[:2]:\n",
    "            answer.append(i)\n",
    "        \n",
    "        \n",
    "    \n",
    "    return answer"
   ]
  },
  {
   "cell_type": "markdown",
   "id": "b3a336f7",
   "metadata": {},
   "source": [
    "---"
   ]
  },
  {
   "cell_type": "code",
   "execution_count": 1,
   "id": "aec02f62",
   "metadata": {},
   "outputs": [],
   "source": [
    "dic = {'classic': 1450, 'pop': 3100 }\n"
   ]
  },
  {
   "cell_type": "code",
   "execution_count": 3,
   "id": "090d2ef8",
   "metadata": {},
   "outputs": [],
   "source": [
    "# 1-1)\n",
    "# value를 기준으로 sorted > lst\n",
    "# key, value 를 리스트화\n",
    "\n",
    "lst = sorted(dic.items(), key = lambda x:x[1], reverse = True)\n",
    "lst"
   ]
  },
  {
   "cell_type": "code",
   "execution_count": 93,
   "id": "a6a62f4e",
   "metadata": {},
   "outputs": [
    {
     "data": {
      "text/plain": [
       "['pop', 'classic']"
      ]
     },
     "execution_count": 93,
     "metadata": {},
     "output_type": "execute_result"
    }
   ],
   "source": [
    "# 1-2)\n",
    "# (key,value) 2차원 arr에서 key 만 \n",
    "\n",
    "key_lst = [ key for key, value in lst ] \n",
    "key_lst"
   ]
  },
  {
   "cell_type": "markdown",
   "id": "9073a30d",
   "metadata": {},
   "source": [
    "---"
   ]
  },
  {
   "cell_type": "code",
   "execution_count": 6,
   "id": "ea88b832",
   "metadata": {},
   "outputs": [],
   "source": [
    "# 2-1) value 기준 key 만 처리\n",
    "\n",
    "key_lst = sorted(dic.keys(), key = lambda x: dic[x], reverse = True)\n",
    "key_lst"
   ]
  },
  {
   "cell_type": "code",
   "execution_count": 8,
   "id": "2fcaeac7",
   "metadata": {},
   "outputs": [
    {
     "data": {
      "text/plain": [
       "['classic', 'pop']"
      ]
     },
     "execution_count": 8,
     "metadata": {},
     "output_type": "execute_result"
    }
   ],
   "source": [
    "# 2-2) 단순 key 기준 \n",
    "\n",
    "key_lst = sorted(dic.keys())\n",
    "key_lst"
   ]
  },
  {
   "cell_type": "markdown",
   "id": "3414b941",
   "metadata": {},
   "source": [
    "---"
   ]
  },
  {
   "cell_type": "code",
   "execution_count": 10,
   "id": "c83a4d01",
   "metadata": {},
   "outputs": [],
   "source": [
    "dic = {'classic': [[0, 500], [2, 150], [3, 800]], 'pop': [[1, 600], [4, 2500]]}"
   ]
  },
  {
   "cell_type": "code",
   "execution_count": 13,
   "id": "3b191d8d",
   "metadata": {},
   "outputs": [
    {
     "data": {
      "text/plain": [
       "{'classic': [[3, 800], [0, 500], [2, 150]], 'pop': [[4, 2500], [1, 600]]}"
      ]
     },
     "execution_count": 13,
     "metadata": {},
     "output_type": "execute_result"
    }
   ],
   "source": [
    "# 3-1) dic 내 key값의 해당하는 2차원 arr 내 정렬 처리\n",
    "\n",
    "dic['classic'].sort(key = lambda lst:lst[1], reverse = True)\n",
    "dic['pop'].sort(key = lambda lst:lst[1], reverse = True)\n",
    "dic"
   ]
  },
  {
   "cell_type": "code",
   "execution_count": 15,
   "id": "4ef24365",
   "metadata": {},
   "outputs": [
    {
     "data": {
      "text/plain": [
       "{'classic': [[2, 150], [0, 500], [3, 800]], 'pop': [[1, 600], [4, 2500]]}"
      ]
     },
     "execution_count": 15,
     "metadata": {},
     "output_type": "execute_result"
    }
   ],
   "source": [
    "# 3-2 오름차순\n",
    "for key, value in dic.items():\n",
    "    \n",
    "    dic[key].sort(key = lambda lst:lst[1])\n",
    "\n",
    "dic\n",
    "    "
   ]
  },
  {
   "cell_type": "markdown",
   "id": "1ca81882",
   "metadata": {},
   "source": [
    "---"
   ]
  },
  {
   "cell_type": "markdown",
   "id": "ad179689",
   "metadata": {},
   "source": [
    "## sol 2 최대 개수 처리"
   ]
  },
  {
   "cell_type": "code",
   "execution_count": null,
   "id": "151ff2e6",
   "metadata": {},
   "outputs": [],
   "source": [
    "def solution(genres, plays):\n",
    "    \n",
    "\n",
    "    dic1 = {} # idx 랑 장르\n",
    "    \n",
    "    dic2 = {} # 장르 총합 points\n",
    "    \n",
    "    for i, (g, p) in enumerate(zip(genres, plays)):\n",
    "        \n",
    "        if g not in dic1:\n",
    "            dic1[g] = [[i,p]]\n",
    "        else:\n",
    "            dic1[g].append( [i,p] )\n",
    "        \n",
    "        if g not in dic2:\n",
    "            dic2[g] = p\n",
    "        else:\n",
    "            dic2[g] += p\n",
    "            \n",
    "\n",
    "    # dic2 \n",
    "    key_lst = sorted(dic2.keys(), key=lambda x: dic2[x], reverse=True)\n",
    "    # dic1 \n",
    "    ans = []\n",
    "    for key in key_lst:\n",
    "        \n",
    "        arr = dic1[key]\n",
    "        \n",
    "        arr.sort(key = lambda lst:lst[1], reverse = True)\n",
    "        \n",
    "        # 2개가 없을수도 있으니까 이렇게 처리 해야됨, 2 or 1 \n",
    "        for i in range(min(2, len(arr))):\n",
    "            ans.append(arr[i][0])\n",
    "            \n",
    "    return ans"
   ]
  },
  {
   "cell_type": "code",
   "execution_count": 16,
   "id": "801e2553",
   "metadata": {},
   "outputs": [],
   "source": [
    "lst = [1]"
   ]
  },
  {
   "cell_type": "code",
   "execution_count": 18,
   "id": "6392e1bb",
   "metadata": {},
   "outputs": [
    {
     "data": {
      "text/plain": [
       "[1]"
      ]
     },
     "execution_count": 18,
     "metadata": {},
     "output_type": "execute_result"
    }
   ],
   "source": [
    "lst[:5] # 슬라이싱은 범위를 초과해도 상관업이 가능"
   ]
  },
  {
   "cell_type": "markdown",
   "id": "3bc479ba",
   "metadata": {},
   "source": [
    "---"
   ]
  },
  {
   "cell_type": "markdown",
   "id": "67f22747",
   "metadata": {},
   "source": [
    "- 런타임 에러, 최대 2개!"
   ]
  },
  {
   "cell_type": "code",
   "execution_count": null,
   "id": "fe0756f8",
   "metadata": {},
   "outputs": [],
   "source": [
    "def solution(genres, plays):\n",
    "    \n",
    "\n",
    "    dic1 = {} # idx 랑 장르\n",
    "    \n",
    "    dic2 = {} # 장르 총합 points\n",
    "    \n",
    "    for i, (g, p) in enumerate(zip(genres, plays)):\n",
    "        \n",
    "        if g not in dic1:\n",
    "            dic1[g] = [[i,p]]\n",
    "        else:\n",
    "            dic1[g].append( [i,p] )\n",
    "        \n",
    "        if g not in dic2:\n",
    "            dic2[g] = p\n",
    "        else:\n",
    "            dic2[g] += p\n",
    "            \n",
    "\n",
    "    # dic2 \n",
    "    key_lst = sorted(dic2.keys(), key=lambda x: dic2[x], reverse=True)\n",
    "\n",
    "    \n",
    "    # dic1 \n",
    "    ans = []\n",
    "    for key in key_lst:\n",
    "        \n",
    "        arr = dic1[key]\n",
    "        \n",
    "        arr.sort(key = lambda lst:lst[1], reverse = True)\n",
    "        \n",
    "        # 무조건 2개가 아님 \n",
    "        for i in range(2):\n",
    "            ans.append(arr[i][0])\n",
    "            \n",
    "    return ans"
   ]
  }
 ],
 "metadata": {
  "kernelspec": {
   "display_name": "Python 3 (ipykernel)",
   "language": "python",
   "name": "python3"
  },
  "language_info": {
   "codemirror_mode": {
    "name": "ipython",
    "version": 3
   },
   "file_extension": ".py",
   "mimetype": "text/x-python",
   "name": "python",
   "nbconvert_exporter": "python",
   "pygments_lexer": "ipython3",
   "version": "3.8.16"
  },
  "toc": {
   "base_numbering": 1,
   "nav_menu": {},
   "number_sections": true,
   "sideBar": true,
   "skip_h1_title": false,
   "title_cell": "Table of Contents",
   "title_sidebar": "Contents",
   "toc_cell": false,
   "toc_position": {},
   "toc_section_display": true,
   "toc_window_display": false
  },
  "varInspector": {
   "cols": {
    "lenName": 16,
    "lenType": 16,
    "lenVar": 40
   },
   "kernels_config": {
    "python": {
     "delete_cmd_postfix": "",
     "delete_cmd_prefix": "del ",
     "library": "var_list.py",
     "varRefreshCmd": "print(var_dic_list())"
    },
    "r": {
     "delete_cmd_postfix": ") ",
     "delete_cmd_prefix": "rm(",
     "library": "var_list.r",
     "varRefreshCmd": "cat(var_dic_list()) "
    }
   },
   "types_to_exclude": [
    "module",
    "function",
    "builtin_function_or_method",
    "instance",
    "_Feature"
   ],
   "window_display": false
  }
 },
 "nbformat": 4,
 "nbformat_minor": 5
}
