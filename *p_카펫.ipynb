{
 "cells": [
  {
   "cell_type": "markdown",
   "id": "240d9d98",
   "metadata": {},
   "source": [
    "# 카펫"
   ]
  },
  {
   "cell_type": "markdown",
   "id": "6c70ff01",
   "metadata": {},
   "source": [
    "---"
   ]
  },
  {
   "cell_type": "markdown",
   "id": "b3812a00",
   "metadata": {},
   "source": [
    "- j > i\n",
    "\n",
    "- 2i + 2j - 4 = brown\n",
    "\n",
    "- (i-2) * (j-2) = yellow\n",
    "\n",
    "- ij = brwon + yellow"
   ]
  },
  {
   "cell_type": "markdown",
   "id": "7fc60300",
   "metadata": {},
   "source": [
    "---"
   ]
  },
  {
   "cell_type": "markdown",
   "id": "871f81ab",
   "metadata": {},
   "source": [
    "## sol 1\n",
    "\n",
    "- ab = a + b 조건 \n",
    "    - ab % a == 0 무조건 나누어 떨어져야 함\n",
    "    - b = ab / a\n",
    "\n",
    "\n",
    "- b >= a "
   ]
  },
  {
   "cell_type": "code",
   "execution_count": 1,
   "id": "3b82db65",
   "metadata": {},
   "outputs": [],
   "source": [
    "def solution(brown, yellow):\n",
    "    \n",
    "    s = brown + yellow\n",
    "    \n",
    "    for i in range(1, s+1):\n",
    "        \n",
    "        if s % i != 0 :\n",
    "            continue\n",
    "    \n",
    "        j = s // i\n",
    "    \n",
    "        \n",
    "        if j >= i and (2*i) + (2*j) - 4 == brown and (i-2) * (j-2) == yellow:\n",
    "            \n",
    "            ans =[j,i]\n",
    "            \n",
    "            return ans\n",
    "        \n",
    "        "
   ]
  },
  {
   "cell_type": "markdown",
   "id": "e00a4a0d",
   "metadata": {},
   "source": [
    "---"
   ]
  },
  {
   "cell_type": "markdown",
   "id": "83500473",
   "metadata": {},
   "source": [
    "## sol 2 방정식 처리"
   ]
  },
  {
   "cell_type": "code",
   "execution_count": 2,
   "id": "a2ca1087",
   "metadata": {},
   "outputs": [],
   "source": [
    "def solution(brown, yellow):\n",
    "    \n",
    "    s = brown + yellow\n",
    "    \n",
    "    for i in range(1, s+1):\n",
    "        \n",
    "        if s % i != 0 :\n",
    "            continue\n",
    "    \n",
    "        for j in range(1, s+1):\n",
    "            \n",
    "            if s % j != 0 :\n",
    "                continue\n",
    "        \n",
    "        \n",
    "            if j >= i and (2*i) + (2*j) - 4 == brown and (i-2) * (j-2) == yellow:\n",
    "\n",
    "                ans =[j,i]\n",
    "                \n",
    "                return ans\n",
    "        \n",
    "\n",
    "        "
   ]
  },
  {
   "cell_type": "markdown",
   "id": "a165e5da",
   "metadata": {},
   "source": [
    "---"
   ]
  },
  {
   "cell_type": "markdown",
   "id": "6fd8d09d",
   "metadata": {},
   "source": [
    "## sol 3 시간 초과\n",
    "\n",
    "- 곱이 s 가 나오는 것들중에서 차이가 제일 적은것 "
   ]
  },
  {
   "cell_type": "code",
   "execution_count": 3,
   "id": "cc1217e1",
   "metadata": {},
   "outputs": [],
   "source": [
    "def solution(brown, yellow):\n",
    "    \n",
    "    answer = []\n",
    "    \n",
    "    s = brown + yellow                     # ij = s = brown + yellow\n",
    "    \n",
    "    for i in range(1, s+1):\n",
    "        \n",
    "        if (s % i) == 0:                    # 나누어 떨어져야함.\n",
    "            \n",
    "            j = s / i\n",
    "            \n",
    "            if j >= i:                      # 1. 조건 \n",
    "                \n",
    "                if 2*j + 2*i == brown + 4:  # 2. 조건 2*a + 2*b = brown + 4 \n",
    "                    return [j,i]\n",
    "            \n",
    "    return answer"
   ]
  },
  {
   "cell_type": "markdown",
   "id": "df38c5c8",
   "metadata": {},
   "source": [
    "---"
   ]
  },
  {
   "cell_type": "markdown",
   "id": "b54f6d06",
   "metadata": {},
   "source": [
    "---"
   ]
  },
  {
   "cell_type": "markdown",
   "id": "46944847",
   "metadata": {},
   "source": [
    "# 약수 처리"
   ]
  },
  {
   "cell_type": "code",
   "execution_count": 1,
   "id": "e310a390",
   "metadata": {},
   "outputs": [],
   "source": [
    "s = 12\n",
    "\n",
    "arr = []\n",
    "\n",
    "for i in range(1, s+1):\n",
    "    \n",
    "    if s % i == 0:\n",
    "        \n",
    "        j = s // i\n",
    "        \n",
    "        arr.append([i, j])"
   ]
  },
  {
   "cell_type": "code",
   "execution_count": 2,
   "id": "c60c5a7f",
   "metadata": {},
   "outputs": [
    {
     "data": {
      "text/plain": [
       "[[1, 12], [2, 6], [3, 4], [4, 3], [6, 2], [12, 1]]"
      ]
     },
     "execution_count": 2,
     "metadata": {},
     "output_type": "execute_result"
    }
   ],
   "source": [
    "arr"
   ]
  },
  {
   "cell_type": "markdown",
   "id": "84eb6df1",
   "metadata": {},
   "source": [
    "---"
   ]
  },
  {
   "cell_type": "code",
   "execution_count": 4,
   "id": "36e6013a",
   "metadata": {},
   "outputs": [
    {
     "data": {
      "text/plain": [
       "[[12, 1], [6, 2], [4, 3]]"
      ]
     },
     "execution_count": 4,
     "metadata": {},
     "output_type": "execute_result"
    }
   ],
   "source": [
    "s = 12\n",
    "\n",
    "arr = []\n",
    "\n",
    "for i in range(1, s+1):\n",
    "    \n",
    "    if s % i == 0:\n",
    "        \n",
    "        j = s // i  \n",
    "        # 조건 추가 \n",
    "        if j >= i :\n",
    "            \n",
    "            arr.append([j,i])\n",
    "arr"
   ]
  },
  {
   "cell_type": "markdown",
   "id": "89b1f475",
   "metadata": {},
   "source": [
    "---"
   ]
  },
  {
   "cell_type": "code",
   "execution_count": 9,
   "id": "c5e96f52",
   "metadata": {},
   "outputs": [
    {
     "data": {
      "text/plain": [
       "(-inf, inf)"
      ]
     },
     "execution_count": 9,
     "metadata": {},
     "output_type": "execute_result"
    }
   ],
   "source": [
    "float('-inf'), float('inf') "
   ]
  },
  {
   "cell_type": "code",
   "execution_count": 10,
   "id": "575071df",
   "metadata": {},
   "outputs": [
    {
     "name": "stdout",
     "output_type": "stream",
     "text": [
      "[3, 4]\n"
     ]
    }
   ],
   "source": [
    "arr = [[1, 12], [2, 6], [3, 4], [4, 3], [6, 2], [12, 1]]\n",
    "\n",
    "m = float('inf')  # 무한대로 초기화\n",
    "\n",
    "ans = []\n",
    "\n",
    "\n",
    "# 중복 x\n",
    "for lst in arr:\n",
    "    \n",
    "    diff = abs(lst[0] - lst[1])\n",
    "    \n",
    "    if diff < m:\n",
    "        m = diff\n",
    "        ans = lst\n",
    "\n",
    "print(ans)\n",
    "\n"
   ]
  },
  {
   "cell_type": "markdown",
   "id": "39342925",
   "metadata": {},
   "source": [
    "---"
   ]
  },
  {
   "cell_type": "code",
   "execution_count": 11,
   "id": "f8e02018",
   "metadata": {},
   "outputs": [
    {
     "name": "stdout",
     "output_type": "stream",
     "text": [
      "[[3, 3]]\n"
     ]
    }
   ],
   "source": [
    "arr = [[1, 12], [2, 6], [3, 4], [4, 3], [6, 2], [12, 1], [4,5], [3,3] ]\n",
    "\n",
    "m = float('inf')  # 무한대로 초기화\n",
    "\n",
    "ans = []\n",
    "\n",
    "for lst in arr:\n",
    "    \n",
    "    diff = abs(lst[0] - lst[1])\n",
    "    \n",
    "    # 최소 값이 나오면, 초기화\n",
    "    if diff < m:\n",
    "        m = diff\n",
    "        ans = [lst]\n",
    "    \n",
    "    # 만약 차이가 같은 값이 나오면, 삽입 처리 \n",
    "    elif diff == m:\n",
    "        \n",
    "        ans.append(lst)\n",
    "\n",
    "print(ans)\n"
   ]
  },
  {
   "cell_type": "markdown",
   "id": "d71720b3",
   "metadata": {},
   "source": [
    "---"
   ]
  },
  {
   "cell_type": "code",
   "execution_count": 17,
   "id": "c907b106",
   "metadata": {},
   "outputs": [],
   "source": [
    "# 값들 사이의 차이 순\n",
    "arr = sorted(arr, key = lambda lst:abs(lst[0]-lst[1]))\n",
    "arr"
   ]
  },
  {
   "cell_type": "code",
   "execution_count": 19,
   "id": "ad2b7a95",
   "metadata": {},
   "outputs": [
    {
     "data": {
      "text/plain": [
       "[[12, 1], [6, 2], [3, 3], [4, 3], [3, 4], [4, 5], [2, 6], [1, 12]]"
      ]
     },
     "execution_count": 19,
     "metadata": {},
     "output_type": "execute_result"
    }
   ],
   "source": [
    "# 값 \n",
    "arr.sort( key = lambda lst : lst[1])\n",
    "arr"
   ]
  },
  {
   "cell_type": "markdown",
   "id": "836a46c8",
   "metadata": {},
   "source": [
    "---"
   ]
  },
  {
   "cell_type": "code",
   "execution_count": 16,
   "id": "9300102f",
   "metadata": {},
   "outputs": [
    {
     "name": "stdout",
     "output_type": "stream",
     "text": [
      "1 3\n",
      "2 2\n",
      "3 1\n"
     ]
    }
   ],
   "source": [
    "lst1 = [1,2,3]\n",
    "\n",
    "lst2 = [3,2,1]\n",
    "\n",
    "for v1,v2 in zip(lst1, lst2):\n",
    "    \n",
    "    print(v1,v2)"
   ]
  }
 ],
 "metadata": {
  "kernelspec": {
   "display_name": "Python 3 (ipykernel)",
   "language": "python",
   "name": "python3"
  },
  "language_info": {
   "codemirror_mode": {
    "name": "ipython",
    "version": 3
   },
   "file_extension": ".py",
   "mimetype": "text/x-python",
   "name": "python",
   "nbconvert_exporter": "python",
   "pygments_lexer": "ipython3",
   "version": "3.8.16"
  },
  "toc": {
   "base_numbering": 1,
   "nav_menu": {},
   "number_sections": true,
   "sideBar": true,
   "skip_h1_title": false,
   "title_cell": "Table of Contents",
   "title_sidebar": "Contents",
   "toc_cell": false,
   "toc_position": {},
   "toc_section_display": true,
   "toc_window_display": false
  },
  "varInspector": {
   "cols": {
    "lenName": 16,
    "lenType": 16,
    "lenVar": 40
   },
   "kernels_config": {
    "python": {
     "delete_cmd_postfix": "",
     "delete_cmd_prefix": "del ",
     "library": "var_list.py",
     "varRefreshCmd": "print(var_dic_list())"
    },
    "r": {
     "delete_cmd_postfix": ") ",
     "delete_cmd_prefix": "rm(",
     "library": "var_list.r",
     "varRefreshCmd": "cat(var_dic_list()) "
    }
   },
   "types_to_exclude": [
    "module",
    "function",
    "builtin_function_or_method",
    "instance",
    "_Feature"
   ],
   "window_display": false
  }
 },
 "nbformat": 4,
 "nbformat_minor": 5
}
