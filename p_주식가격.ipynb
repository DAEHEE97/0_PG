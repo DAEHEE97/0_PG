{
 "cells": [
  {
   "cell_type": "markdown",
   "id": "a92fd514",
   "metadata": {},
   "source": [
    "# 주식가격"
   ]
  },
  {
   "cell_type": "markdown",
   "id": "edb85a7b",
   "metadata": {},
   "source": [
    "- 가격이 떨어지지 않은 기간"
   ]
  },
  {
   "cell_type": "markdown",
   "id": "d68b8d4d",
   "metadata": {},
   "source": [
    "---"
   ]
  },
  {
   "cell_type": "markdown",
   "id": "2eeedd6f",
   "metadata": {},
   "source": [
    "- 완전 탐색 예외 발생"
   ]
  },
  {
   "cell_type": "code",
   "execution_count": null,
   "id": "05575297",
   "metadata": {},
   "outputs": [],
   "source": [
    "def solution(prices):\n",
    "    \n",
    "    answer = []\n",
    "    \n",
    "    for i in range(0, len(prices)-1):\n",
    "        \n",
    "        cnt = 0\n",
    "        \n",
    "        for j in range(i+1, len(prices)):\n",
    "\n",
    "            if prices[j] < prices[i]:\n",
    "                break\n",
    "            else:\n",
    "                cnt += 1\n",
    "                \n",
    "        answer.append(cnt)\n",
    "        \n",
    "    answer.append(0)\n",
    "    \n",
    "    return answer"
   ]
  },
  {
   "cell_type": "markdown",
   "id": "ecca9e31",
   "metadata": {},
   "source": [
    "- 완전 탐색 += 1 연산 위치 변경"
   ]
  },
  {
   "cell_type": "code",
   "execution_count": 1,
   "id": "ee378c50",
   "metadata": {},
   "outputs": [],
   "source": [
    "def solution(prices):\n",
    "    \n",
    "    answer = []\n",
    "    \n",
    "    for i in range(0, len(prices)-1):\n",
    "        \n",
    "        cnt = 0\n",
    "        \n",
    "        v = prices[i]\n",
    "        \n",
    "        # 3,2 -> 1 / 2,3 -> 1 모두 처리 \n",
    "        for j in range(i+1, len(prices)):\n",
    "            \n",
    "            cnt += 1\n",
    "\n",
    "            if prices[j] < v:\n",
    "                break\n",
    "                \n",
    "                \n",
    "                \n",
    "        answer.append(cnt)\n",
    "        \n",
    "    answer.append(0)\n",
    "    \n",
    "    return answer"
   ]
  },
  {
   "cell_type": "markdown",
   "id": "cff16eee",
   "metadata": {},
   "source": [
    "---"
   ]
  },
  {
   "cell_type": "code",
   "execution_count": 3,
   "id": "a3edbcdc",
   "metadata": {},
   "outputs": [
    {
     "data": {
      "text/plain": [
       "[4, 3, 1, 1, 0]"
      ]
     },
     "execution_count": 3,
     "metadata": {},
     "output_type": "execute_result"
    }
   ],
   "source": [
    "solution([1,2,3,2,3])"
   ]
  },
  {
   "cell_type": "code",
   "execution_count": 4,
   "id": "f9bd932d",
   "metadata": {},
   "outputs": [
    {
     "data": {
      "text/plain": [
       "[4, 3, 1, 1, 0]"
      ]
     },
     "execution_count": 4,
     "metadata": {},
     "output_type": "execute_result"
    }
   ],
   "source": [
    "solution([1,2,3,2,1])"
   ]
  },
  {
   "cell_type": "markdown",
   "id": "ab9c01d8",
   "metadata": {},
   "source": [
    "---"
   ]
  },
  {
   "cell_type": "code",
   "execution_count": 1,
   "id": "bedd7d89",
   "metadata": {},
   "outputs": [],
   "source": [
    "def solution(lst):\n",
    "    \n",
    "    ans = []\n",
    "    \n",
    "    while True:\n",
    "    \n",
    "        cnt = 0\n",
    "        \n",
    "        if len(lst) == 1:\n",
    "            break\n",
    "            \n",
    "        v = lst.pop(0)\n",
    "        \n",
    "        for n in lst:\n",
    "            \n",
    "            cnt += 1\n",
    "            \n",
    "            if n < v :\n",
    "                break\n",
    "    \n",
    "\n",
    "        ans.append(cnt)\n",
    "    \n",
    "    ans.append(0)\n",
    "    \n",
    "    return ans"
   ]
  },
  {
   "cell_type": "markdown",
   "id": "7a21de2f",
   "metadata": {},
   "source": [
    "---"
   ]
  },
  {
   "cell_type": "code",
   "execution_count": null,
   "id": "4a5d6296",
   "metadata": {},
   "outputs": [],
   "source": [
    "def solution(lst):\n",
    "    \n",
    "\n",
    "    ans = []\n",
    "        \n",
    "    for i in range(0, len(lst)-1):\n",
    "        \n",
    "        cnt = 0\n",
    "        \n",
    "        for j in range(i+1, len(lst)):\n",
    "            \n",
    "            # 다음 바로 작은게 나와도, 1 처리를 위해, 무조건 적인 cnt += 1 처리\n",
    "            # 1초 처리 이므로, \n",
    "            cnt += 1\n",
    "            if lst[j] < lst[i]:\n",
    "                break\n",
    "                \n",
    "        ans.append(cnt)\n",
    "    \n",
    "    # 마지막 값처리 \n",
    "    ans.append(0)        \n",
    "    \n",
    "    return ans"
   ]
  },
  {
   "cell_type": "markdown",
   "id": "22a9d612",
   "metadata": {},
   "source": [
    "---"
   ]
  },
  {
   "cell_type": "markdown",
   "id": "fbf2881a",
   "metadata": {},
   "source": [
    "- queue"
   ]
  },
  {
   "cell_type": "code",
   "execution_count": 13,
   "id": "d1da141a",
   "metadata": {},
   "outputs": [],
   "source": [
    "from collections import deque\n",
    "\n",
    "def solution(prices):\n",
    "    \n",
    "    ans = []                 # 결과값\n",
    "    \n",
    "    q  = deque(prices)      # 주식가격 queue\n",
    "    \n",
    "    while q:                # queue가 빈값이 아니면 while loop\n",
    "        \n",
    "        period = 0          # 가격이 떨어지지 않은 기간\n",
    "        \n",
    "        v = q.popleft()     # i번째 주식 가격 추출\n",
    "        \n",
    "        for n in q:         # 미래의 가격 목록 나머지\n",
    "            \n",
    "            period += 1     # 가격이 떨어지지 않은 기간 + 1초\n",
    "            \n",
    "            if n < v:        # 미래에 가격이 떨어졌다면\n",
    "                break        # break\n",
    "                \n",
    "        ans.append(period)   # 유지된 기간 결과값에 저장\n",
    "            \n",
    "    return ans               # 결과값 반환"
   ]
  },
  {
   "cell_type": "code",
   "execution_count": 14,
   "id": "f8559637",
   "metadata": {},
   "outputs": [
    {
     "data": {
      "text/plain": [
       "[4, 3, 1, 1, 0]"
      ]
     },
     "execution_count": 14,
     "metadata": {},
     "output_type": "execute_result"
    }
   ],
   "source": [
    "solution([1,2,3,2,3])"
   ]
  },
  {
   "cell_type": "code",
   "execution_count": 15,
   "id": "85ec89c6",
   "metadata": {},
   "outputs": [
    {
     "data": {
      "text/plain": [
       "[4, 3, 1, 1, 0]"
      ]
     },
     "execution_count": 15,
     "metadata": {},
     "output_type": "execute_result"
    }
   ],
   "source": [
    "solution([1,2,3,2,1])"
   ]
  },
  {
   "cell_type": "markdown",
   "id": "cc83395c",
   "metadata": {},
   "source": [
    "- stack\n",
    "- 미리 결괏값을 최대 기간으로 세팅해 두고 주식 가격이 떨어진 경우를 찾아 수정\n"
   ]
  },
  {
   "cell_type": "code",
   "execution_count": null,
   "id": "b9bbf0b3",
   "metadata": {},
   "outputs": [],
   "source": [
    "def solution(prices):\n",
    "    \n",
    "    length = len(prices)\n",
    "    # 모든 가격 max값으로 세팅\n",
    "    result = [ i for i in range (length - 1, -1, -1)]\n",
    "    \n",
    "    # 주식 가격이 떨어지는 경우를 찾아 수정\n",
    "    stack = [0]\n",
    "    for i in range (1, length, 1):\n",
    "        while stack and prices[stack[-1]] > prices[i]:\n",
    "            j = stack.pop()\n",
    "            result[j] = i - j\n",
    "        stack.append(i)\n",
    "    return result"
   ]
  }
 ],
 "metadata": {
  "kernelspec": {
   "display_name": "Python 3 (ipykernel)",
   "language": "python",
   "name": "python3"
  },
  "language_info": {
   "codemirror_mode": {
    "name": "ipython",
    "version": 3
   },
   "file_extension": ".py",
   "mimetype": "text/x-python",
   "name": "python",
   "nbconvert_exporter": "python",
   "pygments_lexer": "ipython3",
   "version": "3.8.16"
  },
  "toc": {
   "base_numbering": 1,
   "nav_menu": {},
   "number_sections": true,
   "sideBar": true,
   "skip_h1_title": false,
   "title_cell": "Table of Contents",
   "title_sidebar": "Contents",
   "toc_cell": false,
   "toc_position": {},
   "toc_section_display": true,
   "toc_window_display": false
  },
  "varInspector": {
   "cols": {
    "lenName": 16,
    "lenType": 16,
    "lenVar": 40
   },
   "kernels_config": {
    "python": {
     "delete_cmd_postfix": "",
     "delete_cmd_prefix": "del ",
     "library": "var_list.py",
     "varRefreshCmd": "print(var_dic_list())"
    },
    "r": {
     "delete_cmd_postfix": ") ",
     "delete_cmd_prefix": "rm(",
     "library": "var_list.r",
     "varRefreshCmd": "cat(var_dic_list()) "
    }
   },
   "types_to_exclude": [
    "module",
    "function",
    "builtin_function_or_method",
    "instance",
    "_Feature"
   ],
   "window_display": false
  }
 },
 "nbformat": 4,
 "nbformat_minor": 5
}
