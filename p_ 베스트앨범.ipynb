{
 "cells": [
  {
   "cell_type": "markdown",
   "id": "927176d3",
   "metadata": {},
   "source": [
    "# 베스트 앨범"
   ]
  },
  {
   "cell_type": "markdown",
   "id": "02745cac",
   "metadata": {},
   "source": [
    "---"
   ]
  },
  {
   "cell_type": "code",
   "execution_count": 114,
   "id": "aec02f62",
   "metadata": {},
   "outputs": [],
   "source": [
    "dic2 = {'classic': 1450, 'pop': 3100 }\n"
   ]
  },
  {
   "cell_type": "code",
   "execution_count": 92,
   "id": "090d2ef8",
   "metadata": {},
   "outputs": [],
   "source": [
    "# value를 기준으로 sorted > lst\n",
    "\n",
    "lst = sorted(dic2.items(), key = lambda x:x[1], reverse = True)"
   ]
  },
  {
   "cell_type": "code",
   "execution_count": 93,
   "id": "a6a62f4e",
   "metadata": {},
   "outputs": [
    {
     "data": {
      "text/plain": [
       "['pop', 'classic']"
      ]
     },
     "execution_count": 93,
     "metadata": {},
     "output_type": "execute_result"
    }
   ],
   "source": [
    "key_lst = [ key for key, value in lst ] \n",
    "key_lst"
   ]
  },
  {
   "cell_type": "markdown",
   "id": "9073a30d",
   "metadata": {},
   "source": [
    "---"
   ]
  },
  {
   "cell_type": "code",
   "execution_count": 117,
   "id": "ea88b832",
   "metadata": {},
   "outputs": [],
   "source": [
    "key_lst = sorted(dic2.keys(), key = lambda x : dic2[x], reverse = True)"
   ]
  },
  {
   "cell_type": "code",
   "execution_count": 118,
   "id": "36bc63ba",
   "metadata": {},
   "outputs": [
    {
     "data": {
      "text/plain": [
       "['pop', 'classic']"
      ]
     },
     "execution_count": 118,
     "metadata": {},
     "output_type": "execute_result"
    }
   ],
   "source": [
    "key_lst"
   ]
  },
  {
   "cell_type": "markdown",
   "id": "3414b941",
   "metadata": {},
   "source": [
    "---"
   ]
  },
  {
   "cell_type": "code",
   "execution_count": 74,
   "id": "c83a4d01",
   "metadata": {},
   "outputs": [],
   "source": [
    "dic1 = {'classic': [[0, 500], [2, 150], [3, 800]], 'pop': [[1, 600], [4, 2500]]}"
   ]
  },
  {
   "cell_type": "code",
   "execution_count": 75,
   "id": "3b191d8d",
   "metadata": {},
   "outputs": [
    {
     "data": {
      "text/plain": [
       "{'classic': [[3, 800], [0, 500], [2, 150]], 'pop': [[1, 600], [4, 2500]]}"
      ]
     },
     "execution_count": 75,
     "metadata": {},
     "output_type": "execute_result"
    }
   ],
   "source": [
    "dic1['classic'].sort(key = lambda x:x[1], reverse = True)\n",
    "dic1"
   ]
  },
  {
   "cell_type": "code",
   "execution_count": 76,
   "id": "4ef24365",
   "metadata": {},
   "outputs": [],
   "source": [
    "for key, value in dic1.items():\n",
    "    \n",
    "    dic1[key].sort(key = lambda x:x[1], reverse = True)\n",
    "    \n",
    "    "
   ]
  },
  {
   "cell_type": "code",
   "execution_count": 80,
   "id": "96e9a950",
   "metadata": {},
   "outputs": [
    {
     "data": {
      "text/plain": [
       "4"
      ]
     },
     "execution_count": 80,
     "metadata": {},
     "output_type": "execute_result"
    }
   ],
   "source": [
    "dic1['pop'][0][0]"
   ]
  },
  {
   "cell_type": "code",
   "execution_count": 81,
   "id": "063af363",
   "metadata": {},
   "outputs": [
    {
     "data": {
      "text/plain": [
       "[4, 1, 3, 0]"
      ]
     },
     "execution_count": 81,
     "metadata": {},
     "output_type": "execute_result"
    }
   ],
   "source": [
    "ans = []\n",
    "\n",
    "for key in key_lst:\n",
    "    \n",
    "    for i in range(0,2):\n",
    "        ans.append(dic1[key][i][0])\n",
    "ans\n",
    "    \n",
    "    "
   ]
  },
  {
   "cell_type": "markdown",
   "id": "1ca81882",
   "metadata": {},
   "source": [
    "---"
   ]
  },
  {
   "cell_type": "markdown",
   "id": "65bc8dab",
   "metadata": {},
   "source": [
    "---"
   ]
  },
  {
   "cell_type": "markdown",
   "id": "ad179689",
   "metadata": {},
   "source": [
    "# sol2 시간 초과"
   ]
  },
  {
   "cell_type": "code",
   "execution_count": null,
   "id": "fe0756f8",
   "metadata": {},
   "outputs": [],
   "source": [
    "def solution(genres, plays):\n",
    "    \n",
    "    # 장르 종류 많음\n",
    "    \n",
    "    # 총 장르 몇회인지\n",
    "    \n",
    "    # 그 장르 별로 최대 2개씩 \n",
    "    \n",
    "    answer = []\n",
    "\n",
    "    dic1 = {} # idx 랑 장르\n",
    "    \n",
    "    # dic1 = ['classic' : [ [],[],[] ]\n",
    "    \n",
    "    dic2 = {} # 장르 총합 points\n",
    "    \n",
    "    for i, (g, p) in enumerate(zip(genres, plays)):\n",
    "        \n",
    "        if g not in dic1:\n",
    "            dic1[g] = [[i,p]]\n",
    "        else:\n",
    "            dic1[g].append( [i,p] )\n",
    "        \n",
    "        if g not in dic2:\n",
    "            dic2[g] = p\n",
    "        else:\n",
    "            dic2[g] += p\n",
    "            \n",
    "\n",
    "    # dic2 \n",
    "    key_lst = sorted(dic2.keys(), key = lambda x : dic2[x], reverse = True)\n",
    "    \n",
    "    # dic1 \n",
    "    ans = []\n",
    "    for key in key_lst:\n",
    "        \n",
    "        lst = dic1[key]\n",
    "        lst.sort(key = lambda x:x[1], reverse = True)\n",
    "\n",
    "        for i in range(0, 2):\n",
    "            \n",
    "            ans.append(lst[i][0])\n",
    "    \n",
    "            \n",
    "    return ans"
   ]
  },
  {
   "cell_type": "code",
   "execution_count": 82,
   "id": "6f0d2a7f",
   "metadata": {},
   "outputs": [
    {
     "name": "stdout",
     "output_type": "stream",
     "text": [
      "[4, 1, 3, 0]\n"
     ]
    }
   ],
   "source": [
    "dic1 = {'classic': [[0, 500], [2, 150], [3, 800]], 'pop': [[1, 600], [4, 2500]]}\n",
    "\n",
    "dic2 = {'classic': 1450, 'pop': 3100}\n",
    "\n",
    "# 각 장르별로 포인트를 내림차순으로 정렬\n",
    "sorted_genres = sorted(dic2.keys(), key=lambda x: dic2[x], reverse=True)\n",
    "\n",
    "# 결과를 저장할 빈 리스트\n",
    "ans = []\n",
    "\n",
    "# 각 장르에서 최대 두 개의 곡을 선택하고 ans에 추가\n",
    "for genre in sorted_genres:\n",
    "    \n",
    "    points = dic1[genre]\n",
    "    \n",
    "    points.sort(key=lambda x: x[1], reverse=True)\n",
    "    \n",
    "    for i in range(min(len(points), 2)):\n",
    "        ans.append(points[i][0])\n",
    "\n",
    "# 결과 출력\n",
    "print(ans)\n"
   ]
  },
  {
   "cell_type": "code",
   "execution_count": null,
   "id": "8ebc909f",
   "metadata": {},
   "outputs": [],
   "source": [
    "    for i, (g, p) in enumerate(zip(genres, plays)):\n",
    "        \n",
    "        if g not in dic1:\n",
    "            dic1[g] = [(i, p)]\n",
    "        else:\n",
    "            dic1[g].append((i, p))\n",
    "\n",
    "        if g not in dic2:\n",
    "            dic2[g] = p\n",
    "        else:\n",
    "            dic2[g] += p\n",
    "\n",
    "    for (k, v) in sorted(dic2.items(), key=lambda x:x[1], reverse=True):\n",
    "        \n",
    "        for (i, p) in sorted(dic1[k], key=lambda x:x[1], reverse=True)[:2]:\n",
    "            \n",
    "            answer.append(i)"
   ]
  }
 ],
 "metadata": {
  "kernelspec": {
   "display_name": "Python 3 (ipykernel)",
   "language": "python",
   "name": "python3"
  },
  "language_info": {
   "codemirror_mode": {
    "name": "ipython",
    "version": 3
   },
   "file_extension": ".py",
   "mimetype": "text/x-python",
   "name": "python",
   "nbconvert_exporter": "python",
   "pygments_lexer": "ipython3",
   "version": "3.8.16"
  },
  "toc": {
   "base_numbering": 1,
   "nav_menu": {},
   "number_sections": true,
   "sideBar": true,
   "skip_h1_title": false,
   "title_cell": "Table of Contents",
   "title_sidebar": "Contents",
   "toc_cell": false,
   "toc_position": {},
   "toc_section_display": true,
   "toc_window_display": false
  },
  "varInspector": {
   "cols": {
    "lenName": 16,
    "lenType": 16,
    "lenVar": 40
   },
   "kernels_config": {
    "python": {
     "delete_cmd_postfix": "",
     "delete_cmd_prefix": "del ",
     "library": "var_list.py",
     "varRefreshCmd": "print(var_dic_list())"
    },
    "r": {
     "delete_cmd_postfix": ") ",
     "delete_cmd_prefix": "rm(",
     "library": "var_list.r",
     "varRefreshCmd": "cat(var_dic_list()) "
    }
   },
   "types_to_exclude": [
    "module",
    "function",
    "builtin_function_or_method",
    "instance",
    "_Feature"
   ],
   "window_display": false
  }
 },
 "nbformat": 4,
 "nbformat_minor": 5
}
