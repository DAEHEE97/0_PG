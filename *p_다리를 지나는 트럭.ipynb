{
 "cells": [
  {
   "cell_type": "markdown",
   "id": "90231fff",
   "metadata": {},
   "source": [
    "# 다리를 지나는 트럭"
   ]
  },
  {
   "cell_type": "markdown",
   "id": "d90f59e9",
   "metadata": {},
   "source": [
    "---"
   ]
  },
  {
   "cell_type": "markdown",
   "id": "adeab2a3",
   "metadata": {},
   "source": [
    "- deque의 popleft() 삭제시간은 O(1), list의 pop(0) O(n)\n",
    "- sum(lst) 시간 초과"
   ]
  },
  {
   "cell_type": "markdown",
   "id": "15085d3c",
   "metadata": {},
   "source": [
    "---"
   ]
  },
  {
   "cell_type": "markdown",
   "id": "c0e8e6d6",
   "metadata": {},
   "source": [
    "## sol 1"
   ]
  },
  {
   "cell_type": "code",
   "execution_count": 3,
   "id": "3641de2f",
   "metadata": {},
   "outputs": [],
   "source": [
    "from collections import deque\n",
    "\n",
    "def solution(bridge_length, weight, truck_weights):\n",
    "    \n",
    "\n",
    "    # 현재 다리 무게, 길이, 초기화\n",
    "    bridge = deque( [0] * bridge_length )\n",
    "    cw = 0\n",
    "\n",
    "\n",
    "    truck = deque(truck_weights)\n",
    "    time = 0\n",
    "    \n",
    "    # 트럭이 모두 통과 후 다리가 비어지면, 종료\n",
    "    while bridge:\n",
    "        \n",
    "        # 1초 지남 다리에서 대기중인 트럭 하나씩 popleft() -> 도착지점으로 이동\n",
    "        # 현재 다리 무게 계산 \n",
    "        \n",
    "        time += 1\n",
    "    \n",
    "        cw -= bridge.popleft() # pop 모두 처리시 종료 \n",
    "        \n",
    "        # 다리전에 건너는 트럭이 있으면 처리, 없으면 \n",
    "        if len(truck) >= 1:\n",
    "            \n",
    "            # 다리 무게 + 트럭 무게\n",
    "            if cw + truck[0] <= weight:\n",
    "                \n",
    "                tw = truck.popleft()\n",
    "                \n",
    "                cw += tw\n",
    "                bridge.append(tw)\n",
    "            \n",
    "            # 다리에 못 들어가면, 0 삽입 해서 len 2 유지\n",
    "            else:\n",
    "                bridge.append(0)\n",
    "        \n",
    "    return time"
   ]
  },
  {
   "cell_type": "code",
   "execution_count": 4,
   "id": "cbe4256b",
   "metadata": {},
   "outputs": [
    {
     "name": "stdout",
     "output_type": "stream",
     "text": [
      "Time: 1, Current Weight (cw): 0\n",
      "Time: 2, Current Weight (cw): 7\n",
      "Time: 3, Current Weight (cw): 0\n",
      "Time: 4, Current Weight (cw): 4\n",
      "Time: 5, Current Weight (cw): 5\n",
      "Time: 6, Current Weight (cw): 0\n",
      "Time: 7, Current Weight (cw): 6\n",
      "Time: 8, Current Weight (cw): 0\n"
     ]
    },
    {
     "data": {
      "text/plain": [
       "8"
      ]
     },
     "execution_count": 4,
     "metadata": {},
     "output_type": "execute_result"
    }
   ],
   "source": [
    "solution(2,10,[7,4,5,6])"
   ]
  },
  {
   "cell_type": "markdown",
   "id": "1e0f3d42",
   "metadata": {},
   "source": [
    "---"
   ]
  },
  {
   "cell_type": "markdown",
   "id": "2c4b3dad",
   "metadata": {},
   "source": [
    "- sol 1 시간초과"
   ]
  },
  {
   "cell_type": "code",
   "execution_count": null,
   "id": "924f5452",
   "metadata": {},
   "outputs": [],
   "source": [
    "from collections import deque\n",
    "\n",
    "def solution(bridge_length, weight, truck_weights):\n",
    "    \n",
    "    cnt = 0\n",
    "        \n",
    "    # 현재 다리에서 대기중인 무게 이자 길이를 모두 표현 처리\n",
    "    bridge = deque( [0] * bridge_length )\n",
    "    \n",
    "    truck = deque(truck_weights)\n",
    "    \n",
    "    while bridge:\n",
    "        \n",
    "        cnt += 1\n",
    "        # 1초가 지날때 마다 무조건 하나 pop 해줘야함\n",
    "        bridge.popleft()\n",
    "        \n",
    "        # 다리전에 건너는 트럭이 있으면 처리, 없으면 끝 \n",
    "        if len(truck) >= 1:\n",
    "            \n",
    "            # 현재 다리에서 대기중인 무게 + 대기 중인 트럭 무게\n",
    "            if sum(bridge) + truck[0] <= weight:\n",
    "                bridge.append(truck.popleft())\n",
    "                \n",
    "            else:\n",
    "                bridge.append(0)\n",
    "        \n",
    "    \n",
    "    return cnt"
   ]
  },
  {
   "cell_type": "code",
   "execution_count": null,
   "id": "2da7b4b0",
   "metadata": {},
   "outputs": [],
   "source": [
    "solution(2,10,[7,4,5,6])"
   ]
  },
  {
   "cell_type": "markdown",
   "id": "0080f806",
   "metadata": {},
   "source": [
    "---"
   ]
  },
  {
   "cell_type": "markdown",
   "id": "ee9c9c3b",
   "metadata": {},
   "source": [
    "## sol2 \n",
    "\n",
    "- 브릿지 큐에 방금 마지막 트럭이 들어갔으므로, 브릿지 길이만큼 더해줘야함. \n",
    "- time += bridge_length"
   ]
  },
  {
   "cell_type": "code",
   "execution_count": null,
   "id": "13e08813",
   "metadata": {},
   "outputs": [],
   "source": [
    "from collections import deque\n",
    "\n",
    "def solution(bridge_length, weight, truck_weights):\n",
    "    \n",
    "    time = 0\n",
    "    cw = 0\n",
    "    \n",
    "    truck = deque(truck_weights)\n",
    "    bridge = deque([0] * bridge_length)\n",
    "    \n",
    "    while len(truck) != 0:\n",
    "    \n",
    "        time += 1\n",
    "        \n",
    "        # 대기중에서 트럭 빠져 나오고, 현재 용량 에서 뺴 \n",
    "        cw -= bridge.popleft()\n",
    "        \n",
    "        print(f\"Time: {time}, Current Weight (cw): {cw}\")\n",
    "        \n",
    "        if cw + truck[0] <= weight:\n",
    "            \n",
    "            tw = truck.popleft()\n",
    "            \n",
    "            # 1) truck 무게 더해준후 \n",
    "            cw += tw\n",
    "            bridge.append(tw)\n",
    "\n",
    "        else: \n",
    "            bridge.append(0)\n",
    "            \n",
    "    time += bridge_length\n",
    "    \n",
    "    return time\n",
    "\n"
   ]
  },
  {
   "cell_type": "markdown",
   "id": "17cc60bd",
   "metadata": {},
   "source": [
    "---"
   ]
  },
  {
   "cell_type": "markdown",
   "id": "3926117d",
   "metadata": {},
   "source": [
    "- sol 2 시간초과 "
   ]
  },
  {
   "cell_type": "code",
   "execution_count": null,
   "id": "04f220c9",
   "metadata": {},
   "outputs": [],
   "source": [
    "from collections import deque\n",
    "\n",
    "def solution(bridge_length, weight, truck_weights):\n",
    "    \n",
    "    cnt = 0\n",
    "        \n",
    "    # 현재 다리에서 대기중인 무게 이자 길이를 모두 표현 처리\n",
    "    bridge = deque( [0] * bridge_length )\n",
    "    \n",
    "    truck = deque(truck_weights)\n",
    "    \n",
    "    c_w = 0\n",
    "    \n",
    "    while len(truck) != 0:\n",
    "        \n",
    "        cnt += 1\n",
    "        # 1초가 지날때 마다 무조건 하나 pop 해줘야함\n",
    "        bridge.popleft()\n",
    "        \n",
    "        # 현재 다리에서 대기중인 무게 + 대기 중인 트럭 무게\n",
    "        if  sum(bridge) + truck[0] <= weight:\n",
    "            bridge.append(truck.popleft())\n",
    "                \n",
    "        else:\n",
    "            bridge.append(0)\n",
    "    \n",
    "    # 마지막에 들어간 트럭은 2\n",
    "    cnt += bridge_length\n",
    "    \n",
    "    return cnt"
   ]
  }
 ],
 "metadata": {
  "kernelspec": {
   "display_name": "Python 3 (ipykernel)",
   "language": "python",
   "name": "python3"
  },
  "language_info": {
   "codemirror_mode": {
    "name": "ipython",
    "version": 3
   },
   "file_extension": ".py",
   "mimetype": "text/x-python",
   "name": "python",
   "nbconvert_exporter": "python",
   "pygments_lexer": "ipython3",
   "version": "3.8.16"
  },
  "toc": {
   "base_numbering": 1,
   "nav_menu": {},
   "number_sections": true,
   "sideBar": true,
   "skip_h1_title": false,
   "title_cell": "Table of Contents",
   "title_sidebar": "Contents",
   "toc_cell": false,
   "toc_position": {},
   "toc_section_display": true,
   "toc_window_display": false
  },
  "varInspector": {
   "cols": {
    "lenName": 16,
    "lenType": 16,
    "lenVar": 40
   },
   "kernels_config": {
    "python": {
     "delete_cmd_postfix": "",
     "delete_cmd_prefix": "del ",
     "library": "var_list.py",
     "varRefreshCmd": "print(var_dic_list())"
    },
    "r": {
     "delete_cmd_postfix": ") ",
     "delete_cmd_prefix": "rm(",
     "library": "var_list.r",
     "varRefreshCmd": "cat(var_dic_list()) "
    }
   },
   "types_to_exclude": [
    "module",
    "function",
    "builtin_function_or_method",
    "instance",
    "_Feature"
   ],
   "window_display": false
  }
 },
 "nbformat": 4,
 "nbformat_minor": 5
}
