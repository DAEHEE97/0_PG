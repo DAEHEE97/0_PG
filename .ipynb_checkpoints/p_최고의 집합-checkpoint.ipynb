{
 "cells": [
  {
   "cell_type": "markdown",
   "id": "7ca4511e",
   "metadata": {},
   "source": [
    "# [최고의 집합](https://school.programmers.co.kr/learn/courses/30/lessons/12938)"
   ]
  },
  {
   "cell_type": "markdown",
   "id": "e8a03e23",
   "metadata": {},
   "source": [
    "---"
   ]
  },
  {
   "cell_type": "code",
   "execution_count": 5,
   "id": "69981505",
   "metadata": {},
   "outputs": [
    {
     "data": {
      "text/plain": [
       "4"
      ]
     },
     "execution_count": 5,
     "metadata": {},
     "output_type": "execute_result"
    }
   ],
   "source": [
    "8 // 2 # 4,4 가 최대 가 될것"
   ]
  },
  {
   "cell_type": "code",
   "execution_count": 6,
   "id": "812e6699",
   "metadata": {},
   "outputs": [
    {
     "data": {
      "text/plain": [
       "4"
      ]
     },
     "execution_count": 6,
     "metadata": {},
     "output_type": "execute_result"
    }
   ],
   "source": [
    "9 // 2 # 4,4+1 이 최대가 될 것"
   ]
  },
  {
   "cell_type": "markdown",
   "id": "b225f619",
   "metadata": {},
   "source": [
    "---"
   ]
  },
  {
   "cell_type": "markdown",
   "id": "828a50ea",
   "metadata": {},
   "source": [
    "---"
   ]
  },
  {
   "cell_type": "markdown",
   "id": "f678289d",
   "metadata": {},
   "source": [
    "## sol 1\n",
    "\n",
    "- 몫을 모두 분배 후, 나머지 값 d 을 lst[i] 에 1씩 나눠서 처리, 정렬 후 return\n"
   ]
  },
  {
   "cell_type": "code",
   "execution_count": null,
   "id": "2be41f71",
   "metadata": {},
   "outputs": [],
   "source": [
    "# 자연수의 개수 n은 1 이상 10,000 이하의 자연수\n",
    "\n",
    "def solution(n, s):\n",
    "    \n",
    "    answer = []\n",
    "     \n",
    "    \n",
    "    # 몫, 나머지 연산\n",
    "    m = s // n\n",
    "    d = s % n\n",
    "    \n",
    "    if m == 0:\n",
    "        return [-1]\n",
    "    \n",
    "    lst = [m] * n\n",
    "\n",
    "    if d == 0 :\n",
    "        answer = lst\n",
    "    \n",
    "    else:\n",
    "        \n",
    "        # 나머지 d를 1 씩 분배 처리, d회, idx 0,1, 까지만  \n",
    "        for i in range(0, d):\n",
    "            lst[i] += 1\n",
    "    \n",
    "\n",
    "    answer = sorted(lst) \n",
    "    \n",
    "    \n",
    "    return answer"
   ]
  },
  {
   "cell_type": "markdown",
   "id": "1d04d219",
   "metadata": {},
   "source": [
    "---"
   ]
  },
  {
   "cell_type": "code",
   "execution_count": null,
   "id": "b6369573",
   "metadata": {},
   "outputs": [],
   "source": [
    "def solution(n, s):\n",
    "    \n",
    "    # 1. 합을 n개로 나눠 줘야하는데 예외 사항 \n",
    "    if s < n:\n",
    "        return [-1]\n",
    "    \n",
    "    # 1-1) M 딱 나눠 떨어지면 최대 \n",
    "    M = s // n\n",
    "    \n",
    "    # 1-2) 그게 아니라면 나머지에 1씩 나눠주는경우 최대\n",
    "    d = s % n\n",
    "    \n",
    "    \n",
    "    # 1-3) 우선 n개 만큼 나눠준다.\n",
    "    # lst = [M] * n\n",
    "    lst = []\n",
    "    for _ in range(n):\n",
    "        lst.append(M)\n",
    "    \n",
    "    \n",
    "    # 1-5) d == 0 인경우 여기서 끝냄 \n",
    "    if d == 0:\n",
    "        return lst\n",
    "    \n",
    "    \n",
    "    # 1-4) 나머지들을 분배 해줘야함 \n",
    "    # 위에서 계산한 d 분배\n",
    "    for i in range(len(lst)):\n",
    "            \n",
    "        lst[i] += 1\n",
    "        d -= 1\n",
    "            \n",
    "        if d == 0:\n",
    "            break\n",
    "    \n",
    "    \n",
    "    lst.sort()\n",
    "    return lst\n",
    "    "
   ]
  },
  {
   "cell_type": "markdown",
   "id": "57b4a0ee",
   "metadata": {},
   "source": [
    "---"
   ]
  },
  {
   "cell_type": "code",
   "execution_count": 1,
   "id": "3279410d",
   "metadata": {},
   "outputs": [],
   "source": [
    "from itertools import combinations_with_replacement\n",
    "\n",
    "def solution(n, s):\n",
    "    \n",
    "\n",
    "    # 1-2)자연수의 개수 n은 1 이상 10,000 이하의 자연수\n",
    "    \n",
    "    lst = list(range(1, s+1))\n",
    "    \n",
    "    \n",
    "    # 2-1) 중복 4,4 처리해줘야 함\n",
    "        \n",
    "    tlst = []\n",
    "    \n",
    "    for tup in combinations_with_replacement(lst,2):\n",
    "        \n",
    "        if sum(tup) == s:\n",
    "            tlst.append(tup)\n",
    "            \n",
    "    \n",
    "    # 3 정답처리\n",
    "    if len(tlst) == 0:\n",
    "        return [-1]\n",
    "\n",
    "    else:\n",
    "        tlst = sorted(tlst, key = lambda x:x[0]*x[1])\n",
    "        \n",
    "        return tlst[-1]\n",
    "    "
   ]
  },
  {
   "cell_type": "markdown",
   "id": "0e7403d1",
   "metadata": {},
   "source": [
    "---"
   ]
  },
  {
   "cell_type": "code",
   "execution_count": 10,
   "id": "d5032107",
   "metadata": {},
   "outputs": [
    {
     "data": {
      "text/plain": [
       "[[1, 8], [2, 7], [3, 6], [4, 5], [10, 11]]"
      ]
     },
     "execution_count": 10,
     "metadata": {},
     "output_type": "execute_result"
    }
   ],
   "source": [
    "tlst = [ [2,7],[10,11],[3,6],[4,5],[1,8] ] \n",
    "\n",
    "ans = sorted(tlst, key = lambda x : x[0]*x[1])\n",
    "ans"
   ]
  },
  {
   "cell_type": "code",
   "execution_count": 11,
   "id": "76819a8d",
   "metadata": {},
   "outputs": [
    {
     "data": {
      "text/plain": [
       "[[10, 11], [4, 5], [3, 6], [2, 7], [1, 8]]"
      ]
     },
     "execution_count": 11,
     "metadata": {},
     "output_type": "execute_result"
    }
   ],
   "source": [
    "tlst = [ [2,7],[10,11],[3,6],[4,5],[1,8] ] \n",
    "ans = sorted(tlst, key = lambda x : x[0]*x[1], reverse = True )\n",
    "ans"
   ]
  },
  {
   "cell_type": "markdown",
   "id": "38243f0b",
   "metadata": {},
   "source": [
    "---"
   ]
  },
  {
   "cell_type": "code",
   "execution_count": null,
   "id": "201d1528",
   "metadata": {},
   "outputs": [],
   "source": [
    "from itertools import permutations, combinations, combinations_with_replacement\n",
    "\n",
    "lst = [1, 2, 2]\n",
    "\n",
    "# 순열 생성\n",
    "perms = list(permutations(lst, 2))\n",
    "print(\"Permutations:\")\n",
    "print(perms)\n",
    "\n",
    "# 조합 생성\n",
    "combs = list(combinations(lst, 2))\n",
    "print(\"\\nCombinations:\")\n",
    "print(combs)\n",
    "\n",
    "# 중복 조합 생성\n",
    "combs_with_replacement = list(combinations_with_replacement(lst, 2))\n",
    "print(\"\\nCombinations with Replacement:\")\n",
    "print(combs_with_replacement)"
   ]
  }
 ],
 "metadata": {
  "kernelspec": {
   "display_name": "Python 3 (ipykernel)",
   "language": "python",
   "name": "python3"
  },
  "language_info": {
   "codemirror_mode": {
    "name": "ipython",
    "version": 3
   },
   "file_extension": ".py",
   "mimetype": "text/x-python",
   "name": "python",
   "nbconvert_exporter": "python",
   "pygments_lexer": "ipython3",
   "version": "3.8.16"
  },
  "toc": {
   "base_numbering": 1,
   "nav_menu": {},
   "number_sections": true,
   "sideBar": true,
   "skip_h1_title": false,
   "title_cell": "Table of Contents",
   "title_sidebar": "Contents",
   "toc_cell": false,
   "toc_position": {},
   "toc_section_display": true,
   "toc_window_display": false
  },
  "varInspector": {
   "cols": {
    "lenName": 16,
    "lenType": 16,
    "lenVar": 40
   },
   "kernels_config": {
    "python": {
     "delete_cmd_postfix": "",
     "delete_cmd_prefix": "del ",
     "library": "var_list.py",
     "varRefreshCmd": "print(var_dic_list())"
    },
    "r": {
     "delete_cmd_postfix": ") ",
     "delete_cmd_prefix": "rm(",
     "library": "var_list.r",
     "varRefreshCmd": "cat(var_dic_list()) "
    }
   },
   "types_to_exclude": [
    "module",
    "function",
    "builtin_function_or_method",
    "instance",
    "_Feature"
   ],
   "window_display": false
  }
 },
 "nbformat": 4,
 "nbformat_minor": 5
}
