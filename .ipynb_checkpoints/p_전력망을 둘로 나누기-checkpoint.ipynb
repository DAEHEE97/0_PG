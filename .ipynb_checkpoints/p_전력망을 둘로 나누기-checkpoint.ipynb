{
 "cells": [
  {
   "cell_type": "markdown",
   "id": "214f6c0b",
   "metadata": {},
   "source": [
    "# [전력망을 둘로 나누기](https://school.programmers.co.kr/learn/courses/30/lessons/86971)"
   ]
  },
  {
   "cell_type": "markdown",
   "id": "4fafe478",
   "metadata": {},
   "source": [
    "---"
   ]
  },
  {
   "cell_type": "markdown",
   "id": "b5767d5e",
   "metadata": {},
   "source": [
    "- 인접 lst 생성, \n",
    "- 연결 후,\n",
    "- 어떤 전선을 끊었을때, 그룹의 개수차가 제일 적은지"
   ]
  },
  {
   "cell_type": "markdown",
   "id": "5c4242fe",
   "metadata": {},
   "source": [
    "---"
   ]
  },
  {
   "cell_type": "code",
   "execution_count": 24,
   "id": "26d03c28",
   "metadata": {},
   "outputs": [],
   "source": [
    "from collections import deque\n",
    "\n",
    "# 시작 노드, 방문처리 리스트, 인접 리스트\n",
    "def bfs(s, v, adj):\n",
    "    \n",
    "    # q 생성\n",
    "    q = deque()\n",
    "    \n",
    "    # 시작 노드 삽입 및 시작 노드 방문 처리\n",
    "    q.append(s)\n",
    "    v[s] = 1\n",
    "    \n",
    "    # 정답처리 cnt\n",
    "    cnt = 1\n",
    "    \n",
    "    while q:\n",
    "        \n",
    "        c = q.popleft()\n",
    "\n",
    "        for n in adj[c]:\n",
    "            \n",
    "            if v[n] == 0:\n",
    "                \n",
    "                q.append(n)\n",
    "                v[n] = 1\n",
    "                \n",
    "                cnt += 1\n",
    "                \n",
    "    return cnt\n",
    "                \n",
    "\n",
    "def solution(n, wires):\n",
    "\n",
    "    # 인접 노드 , s,e 형태 인접 리스트 처리\n",
    "    adj = [ [] for _ in range(n+1) ]\n",
    "    \n",
    "    for s,e in wires:\n",
    "\n",
    "        adj[s].append(e)\n",
    "        adj[e].append(s)\n",
    "    \n",
    "\n",
    "    # 앞을 시작, 뒤를 선 방문 처리해서, 끊어줌 처리\n",
    "\n",
    "    ans = n\n",
    "    \n",
    "    for start, x in wires:\n",
    "        \n",
    "        v = [0] * (n+1)\n",
    "        v[x] = 1\n",
    "        \n",
    "        # start부터 가능한 방문 처리 cnt, 나머지와의 차이의 최소 값 처리 \n",
    "        result = bfs(start, v, adj)\n",
    "\n",
    "        ans = min(ans, abs( (n-result)-result ))\n",
    "        \n",
    "        \n",
    "    return ans"
   ]
  },
  {
   "cell_type": "code",
   "execution_count": 23,
   "id": "47ca4e7c",
   "metadata": {},
   "outputs": [
    {
     "name": "stdout",
     "output_type": "stream",
     "text": [
      "1\n",
      "1\n",
      "3\n",
      "8\n",
      "8\n",
      "6\n",
      "8\n",
      "8\n"
     ]
    },
    {
     "data": {
      "text/plain": [
       "3"
      ]
     },
     "execution_count": 23,
     "metadata": {},
     "output_type": "execute_result"
    }
   ],
   "source": [
    "solution(9, [[1,3],[2,3],[3,4],[4,5],[4,6],[4,7],[7,8],[7,9]])"
   ]
  }
 ],
 "metadata": {
  "kernelspec": {
   "display_name": "Python 3 (ipykernel)",
   "language": "python",
   "name": "python3"
  },
  "language_info": {
   "codemirror_mode": {
    "name": "ipython",
    "version": 3
   },
   "file_extension": ".py",
   "mimetype": "text/x-python",
   "name": "python",
   "nbconvert_exporter": "python",
   "pygments_lexer": "ipython3",
   "version": "3.8.16"
  },
  "toc": {
   "base_numbering": 1,
   "nav_menu": {},
   "number_sections": true,
   "sideBar": true,
   "skip_h1_title": false,
   "title_cell": "Table of Contents",
   "title_sidebar": "Contents",
   "toc_cell": false,
   "toc_position": {},
   "toc_section_display": true,
   "toc_window_display": false
  },
  "varInspector": {
   "cols": {
    "lenName": 16,
    "lenType": 16,
    "lenVar": 40
   },
   "kernels_config": {
    "python": {
     "delete_cmd_postfix": "",
     "delete_cmd_prefix": "del ",
     "library": "var_list.py",
     "varRefreshCmd": "print(var_dic_list())"
    },
    "r": {
     "delete_cmd_postfix": ") ",
     "delete_cmd_prefix": "rm(",
     "library": "var_list.r",
     "varRefreshCmd": "cat(var_dic_list()) "
    }
   },
   "types_to_exclude": [
    "module",
    "function",
    "builtin_function_or_method",
    "instance",
    "_Feature"
   ],
   "window_display": false
  }
 },
 "nbformat": 4,
 "nbformat_minor": 5
}
