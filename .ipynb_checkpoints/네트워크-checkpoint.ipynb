{
 "cells": [
  {
   "cell_type": "markdown",
   "id": "f5e08119",
   "metadata": {},
   "source": [
    "# 네트워크\n",
    "\n",
    "- 입력 : 인접 행렬,\n",
    "- 풀이 : 인접 리스트로 이때까지 풀이 해왔음\n",
    "\n",
    "- start 처리 리스트 \n",
    "- 방문 처리 리스트\n"
   ]
  },
  {
   "cell_type": "markdown",
   "id": "34bb76f9",
   "metadata": {},
   "source": [
    "---"
   ]
  },
  {
   "cell_type": "code",
   "execution_count": null,
   "id": "4e071922",
   "metadata": {},
   "outputs": [],
   "source": [
    "adj_matrix = [[1, 1, 0], [1, 1, 0], [0, 0, 1]]\n",
    "\n",
    "adj_lst = [ [], [2], [1], []]"
   ]
  },
  {
   "cell_type": "code",
   "execution_count": null,
   "id": "4c8b06d9",
   "metadata": {},
   "outputs": [],
   "source": [
    "adj_matrix = [[1, 1, 0], [1, 1, 1], [0, 1, 1]]\n",
    "\n",
    "adj_lst = [ [], [2], [1,3], [2]]"
   ]
  },
  {
   "cell_type": "markdown",
   "id": "615d3e05",
   "metadata": {},
   "source": [
    "---"
   ]
  },
  {
   "cell_type": "code",
   "execution_count": 107,
   "id": "3b896818",
   "metadata": {},
   "outputs": [],
   "source": [
    "adj_matrix = [[1, 1, 0], [1, 1, 1], [0, 1, 1]]\n",
    "\n",
    "n = 3\n",
    "adj_lst = [ [] for _ in range(n+1) ]\n",
    "\n",
    "for i in range(0, n):\n",
    "\n",
    "    for j in range(0, n):\n",
    "        \n",
    "        if i != j and adj_matrix[i][j] == 1:\n",
    "            \n",
    "            adj_lst[i+1].append(j+1)"
   ]
  },
  {
   "cell_type": "code",
   "execution_count": 108,
   "id": "b657c384",
   "metadata": {},
   "outputs": [
    {
     "data": {
      "text/plain": [
       "[[], [2], [1, 3], [2]]"
      ]
     },
     "execution_count": 108,
     "metadata": {},
     "output_type": "execute_result"
    }
   ],
   "source": [
    "adj_lst"
   ]
  },
  {
   "cell_type": "markdown",
   "id": "412ad68a",
   "metadata": {},
   "source": [
    "---"
   ]
  },
  {
   "cell_type": "code",
   "execution_count": null,
   "id": "15858fb2",
   "metadata": {},
   "outputs": [],
   "source": [
    "# solution 안에 bfs가 있어야 가능, 아니면 bfs 모두 전달 처리\n",
    "\n",
    "from collections import deque\n",
    "\n",
    "def bfs(s):\n",
    "\n",
    "    q = deque()\n",
    "\n",
    "    q.append(s)\n",
    "    v[s] = 1\n",
    "\n",
    "    while q:\n",
    "        \n",
    "        c = q.popleft()\n",
    "\n",
    "        for n in adj_lst[c]:\n",
    "\n",
    "            if v[n] == 0:\n",
    "                \n",
    "                q.append(n)\n",
    "                v[n] = 1\n",
    "                \n",
    "    return -1\n",
    "\n",
    "    \n",
    "def solution(n, computers):\n",
    "    \n",
    "    adj_matrix = computers\n",
    "    adj_lst = [ [] for _ in range(n+1) ]\n",
    "\n",
    "    for i in range(0, n):\n",
    "        for j in range(0, n):\n",
    "            if i != j and adj_matrix[i][j] == 1:\n",
    "                adj_lst[i+1].append(j+1)\n",
    "            \n",
    "    ans = 0\n",
    "    start = [0] * (n+1)\n",
    "    v = [0] * (n+1)\n",
    "\n",
    "\n",
    "    # bfs 시작 노드\n",
    "    for i in range(1, n+1):\n",
    "\n",
    "        # 시작도 안하고, 방문 한적도 없어야 함\n",
    "        if start[i] == 0 and v[i] == 0:\n",
    "\n",
    "            start[i] = 1 # start 체크\n",
    "            bfs(i)\n",
    "            ans += 1\n",
    "        \n",
    "        \n",
    "    return ans"
   ]
  },
  {
   "cell_type": "markdown",
   "id": "1684a266",
   "metadata": {},
   "source": [
    "---"
   ]
  },
  {
   "cell_type": "code",
   "execution_count": null,
   "id": "2b6aa39f",
   "metadata": {},
   "outputs": [],
   "source": [
    "from collections import deque\n",
    "\n",
    "def solution(n, computers):\n",
    "    \n",
    "    def bfs(s):\n",
    "\n",
    "        q = deque()\n",
    "\n",
    "        q.append(s)\n",
    "        v[s] = 1\n",
    "\n",
    "        while q:\n",
    "\n",
    "            c = q.popleft()\n",
    "\n",
    "            for n in adj_lst[c]:\n",
    "\n",
    "                if v[n] == 0:\n",
    "\n",
    "                    q.append(n)\n",
    "                    v[n] = 1\n",
    "\n",
    "        return -1\n",
    "\n",
    "    \n",
    "    adj_matrix = computers\n",
    "    adj_lst = [ [] for _ in range(n+1) ]\n",
    "\n",
    "    for i in range(0, n):\n",
    "        for j in range(0, n):\n",
    "            if i != j and adj_matrix[i][j] == 1:\n",
    "                adj_lst[i+1].append(j+1)\n",
    "            \n",
    "    ans = 0\n",
    "    start = [0] * (n+1)\n",
    "    v = [0] * (n+1)\n",
    "\n",
    "\n",
    "    # bfs 시작 노드\n",
    "    for i in range(1, n+1):\n",
    "\n",
    "        # 시작도 안하고, 방문 한적도 없어야 함\n",
    "        if start[i] == 0 and v[i] == 0:\n",
    "\n",
    "            start[i] = 1 # start 체크\n",
    "            bfs(i)\n",
    "            ans += 1\n",
    "        \n",
    "        \n",
    "    return ans"
   ]
  }
 ],
 "metadata": {
  "kernelspec": {
   "display_name": "Python 3 (ipykernel)",
   "language": "python",
   "name": "python3"
  },
  "language_info": {
   "codemirror_mode": {
    "name": "ipython",
    "version": 3
   },
   "file_extension": ".py",
   "mimetype": "text/x-python",
   "name": "python",
   "nbconvert_exporter": "python",
   "pygments_lexer": "ipython3",
   "version": "3.8.16"
  },
  "toc": {
   "base_numbering": 1,
   "nav_menu": {},
   "number_sections": true,
   "sideBar": true,
   "skip_h1_title": false,
   "title_cell": "Table of Contents",
   "title_sidebar": "Contents",
   "toc_cell": false,
   "toc_position": {},
   "toc_section_display": true,
   "toc_window_display": false
  },
  "varInspector": {
   "cols": {
    "lenName": 16,
    "lenType": 16,
    "lenVar": 40
   },
   "kernels_config": {
    "python": {
     "delete_cmd_postfix": "",
     "delete_cmd_prefix": "del ",
     "library": "var_list.py",
     "varRefreshCmd": "print(var_dic_list())"
    },
    "r": {
     "delete_cmd_postfix": ") ",
     "delete_cmd_prefix": "rm(",
     "library": "var_list.r",
     "varRefreshCmd": "cat(var_dic_list()) "
    }
   },
   "types_to_exclude": [
    "module",
    "function",
    "builtin_function_or_method",
    "instance",
    "_Feature"
   ],
   "window_display": false
  }
 },
 "nbformat": 4,
 "nbformat_minor": 5
}
