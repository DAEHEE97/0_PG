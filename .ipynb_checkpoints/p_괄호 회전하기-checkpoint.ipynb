{
 "cells": [
  {
   "cell_type": "markdown",
   "id": "57456a21",
   "metadata": {},
   "source": [
    "# 괄호 회전하기"
   ]
  },
  {
   "cell_type": "markdown",
   "id": "ad21e325",
   "metadata": {},
   "source": [
    "---"
   ]
  },
  {
   "cell_type": "markdown",
   "id": "b9e8ef1b",
   "metadata": {},
   "source": [
    "- 여는 괄호 stack append()\n",
    "    - 만약 stack이 빈 상태면, 일단 무조건 삽입 후, 이후 처리\n",
    "    - 만약 닫는 괄호가 먼저 나오면 바로 종료, \n",
    "    \n",
    "- 닫는 괄호면, stack 안에 있는 여는 괄호를 pop()해서 짝 맞추기\n",
    "\n",
    "- 남아있는 괄호가 있으면 안됨\n",
    "\n",
    "\n",
    "- 회전 > pop(), append(), 문자열 [:1] + [1:]\n",
    "\n",
    "- 올바른 괄호의 기준 \n",
    "    - 1. 일반 올바른 괄호\n",
    "    - 2. 괄호안 괄호 \n",
    "    - 3. 괄호x괄호\n",
    "  "
   ]
  },
  {
   "cell_type": "markdown",
   "id": "9c10640f",
   "metadata": {},
   "source": [
    "---"
   ]
  },
  {
   "cell_type": "markdown",
   "id": "a808ecab",
   "metadata": {},
   "source": [
    "## sol 1"
   ]
  },
  {
   "cell_type": "code",
   "execution_count": 1,
   "id": "1ae883a7",
   "metadata": {},
   "outputs": [],
   "source": [
    "def check(string):\n",
    "    \n",
    "    lst = list(string)\n",
    "    \n",
    "    stack = []\n",
    "\n",
    "\n",
    "    for c in lst:\n",
    "        \n",
    "        if len(stack) == 0:\n",
    "            stack.append(c)\n",
    "        \n",
    "        else:\n",
    "            \n",
    "            if c == \")\" and stack[-1] == \"(\":\n",
    "                stack.pop()\n",
    "\n",
    "            elif c == \"]\" and stack[-1] == \"[\":\n",
    "                stack.pop()\n",
    "\n",
    "            elif c == \"}\" and stack[-1] == \"{\":\n",
    "                stack.pop()\n",
    "\n",
    "            else:\n",
    "                stack.append(c)\n",
    "\n",
    "            \n",
    "    # 1-3) 모든 c에 대하여, append, pop 처리 후 남은 stack 을 가지고 판단 처리\n",
    "    if len(stack) == 0:\n",
    "        return 1\n",
    "\n",
    "    else:\n",
    "        return 0\n"
   ]
  },
  {
   "cell_type": "markdown",
   "id": "0f57cf5d",
   "metadata": {},
   "source": [
    "---"
   ]
  },
  {
   "cell_type": "code",
   "execution_count": 2,
   "id": "cd545f0c",
   "metadata": {},
   "outputs": [],
   "source": [
    "def solution(s):\n",
    "    \n",
    "    ans = 0\n",
    "        \n",
    "    # 문자열 pop(), append() 과정 + 연산으로 처리\n",
    "    for _ in range(len(s)):\n",
    "        \n",
    "        s = s[1:]+s[:1]\n",
    "        \n",
    "        if check(s):\n",
    "            \n",
    "            ans += 1\n",
    "    \n",
    "    return ans\n",
    "    "
   ]
  },
  {
   "cell_type": "code",
   "execution_count": 3,
   "id": "1ee66d74",
   "metadata": {},
   "outputs": [
    {
     "data": {
      "text/plain": [
       "3"
      ]
     },
     "execution_count": 3,
     "metadata": {},
     "output_type": "execute_result"
    }
   ],
   "source": [
    "solution(\"[](){}\")"
   ]
  },
  {
   "cell_type": "markdown",
   "id": "a951f95a",
   "metadata": {},
   "source": [
    "---"
   ]
  },
  {
   "cell_type": "markdown",
   "id": "e8cfb524",
   "metadata": {},
   "source": [
    "## sol 2"
   ]
  },
  {
   "cell_type": "code",
   "execution_count": 4,
   "id": "376c37e0",
   "metadata": {},
   "outputs": [],
   "source": [
    "def check(string):\n",
    "    \n",
    "    lst = list(string)\n",
    "    \n",
    "    stack = []\n",
    "\n",
    "\n",
    "    for c in lst:\n",
    "        # 빈 stack에서 처음 들어오는 c가 닫는 괄호라면 retrun 0 으로 exit\n",
    "        if len(stack) == 0 and ( c == \")\" or c == \"}\" or c == \"]\" ):\n",
    "            return 0\n",
    "        \n",
    "        \n",
    "        if c == \")\" and stack[-1] == \"(\":\n",
    "            stack.pop()\n",
    "\n",
    "        elif c == \"]\" and stack[-1] == \"[\":\n",
    "            stack.pop()\n",
    "\n",
    "        elif c == \"}\" and stack[-1] == \"{\":\n",
    "            stack.pop()\n",
    "\n",
    "        else:\n",
    "            stack.append(c)\n",
    "\n",
    "            \n",
    "    # 1-3) 모든 c에 대하여, append, pop 처리 후 남은 stack 을 가지고 판단 처리\n",
    "    if len(stack) == 0:\n",
    "        return 1\n",
    "\n",
    "    else:\n",
    "        return 0\n"
   ]
  },
  {
   "cell_type": "code",
   "execution_count": 5,
   "id": "1ce21d93",
   "metadata": {},
   "outputs": [],
   "source": [
    "def solution(s):\n",
    "    \n",
    "    ans = 0\n",
    "        \n",
    "    # 문자열 pop(), append() 과정 + 연산으로 처리\n",
    "    for _ in range(len(s)):\n",
    "        \n",
    "        s = s[1:]+s[:1]\n",
    "        \n",
    "        if check(s):\n",
    "            \n",
    "            ans += 1\n",
    "    \n",
    "    return ans\n",
    "    "
   ]
  },
  {
   "cell_type": "code",
   "execution_count": 6,
   "id": "dcac3273",
   "metadata": {},
   "outputs": [
    {
     "data": {
      "text/plain": [
       "3"
      ]
     },
     "execution_count": 6,
     "metadata": {},
     "output_type": "execute_result"
    }
   ],
   "source": [
    "solution(\"[](){}\")"
   ]
  },
  {
   "cell_type": "markdown",
   "id": "f92ce089",
   "metadata": {},
   "source": [
    "---"
   ]
  },
  {
   "cell_type": "markdown",
   "id": "5b4c37b0",
   "metadata": {},
   "source": [
    "---"
   ]
  },
  {
   "cell_type": "markdown",
   "id": "266915f0",
   "metadata": {},
   "source": [
    "error\n",
    "\n",
    "- if if 구조, if else 구조"
   ]
  },
  {
   "cell_type": "code",
   "execution_count": 7,
   "id": "1157bdf1",
   "metadata": {},
   "outputs": [],
   "source": [
    "lst = [']']\n",
    "stack = []"
   ]
  },
  {
   "cell_type": "code",
   "execution_count": null,
   "id": "8be4da73",
   "metadata": {},
   "outputs": [],
   "source": [
    "    for c in lst:\n",
    "        \n",
    "        # 1-1)길이가 0, 빈 리스트일시, stack[-1] 체크 IndexError: list index out of range\n",
    "        if len(stack) == 0:\n",
    "            stack.append(c)\n",
    "    \n",
    "        # 1-2) 2번의 조건 검사 결과 로 인해, 2개 들어갈 여지를 줌\n",
    "        if c == \")\" and stack[-1] == \"(\":\n",
    "            stack.pop()\n",
    "\n",
    "        elif c == \"]\" and stack[-1] == \"[\":\n",
    "            stack.pop()\n",
    "\n",
    "        elif c == \"}\" and stack[-1] == \"{\":\n",
    "            stack.pop()\n",
    "    \n",
    "        else:\n",
    "            stack.append(c)\n",
    "            "
   ]
  },
  {
   "cell_type": "code",
   "execution_count": 8,
   "id": "7ed119ff",
   "metadata": {},
   "outputs": [
    {
     "data": {
      "text/plain": [
       "[]"
      ]
     },
     "execution_count": 8,
     "metadata": {},
     "output_type": "execute_result"
    }
   ],
   "source": [
    "# 2개 들어감\n",
    "\n",
    "stack"
   ]
  }
 ],
 "metadata": {
  "kernelspec": {
   "display_name": "Python 3 (ipykernel)",
   "language": "python",
   "name": "python3"
  },
  "language_info": {
   "codemirror_mode": {
    "name": "ipython",
    "version": 3
   },
   "file_extension": ".py",
   "mimetype": "text/x-python",
   "name": "python",
   "nbconvert_exporter": "python",
   "pygments_lexer": "ipython3",
   "version": "3.8.16"
  },
  "toc": {
   "base_numbering": 1,
   "nav_menu": {},
   "number_sections": true,
   "sideBar": true,
   "skip_h1_title": false,
   "title_cell": "Table of Contents",
   "title_sidebar": "Contents",
   "toc_cell": false,
   "toc_position": {},
   "toc_section_display": true,
   "toc_window_display": false
  },
  "varInspector": {
   "cols": {
    "lenName": 16,
    "lenType": 16,
    "lenVar": 40
   },
   "kernels_config": {
    "python": {
     "delete_cmd_postfix": "",
     "delete_cmd_prefix": "del ",
     "library": "var_list.py",
     "varRefreshCmd": "print(var_dic_list())"
    },
    "r": {
     "delete_cmd_postfix": ") ",
     "delete_cmd_prefix": "rm(",
     "library": "var_list.r",
     "varRefreshCmd": "cat(var_dic_list()) "
    }
   },
   "types_to_exclude": [
    "module",
    "function",
    "builtin_function_or_method",
    "instance",
    "_Feature"
   ],
   "window_display": false
  }
 },
 "nbformat": 4,
 "nbformat_minor": 5
}
