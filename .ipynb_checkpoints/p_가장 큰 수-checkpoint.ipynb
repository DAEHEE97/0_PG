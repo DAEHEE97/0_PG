{
 "cells": [
  {
   "cell_type": "markdown",
   "id": "a4f7b11f",
   "metadata": {},
   "source": [
    "- error"
   ]
  },
  {
   "cell_type": "code",
   "execution_count": 6,
   "id": "56d44dbb",
   "metadata": {},
   "outputs": [],
   "source": [
    "def solution(numbers):\n",
    "    \n",
    "    numbers.sort(reverse = True)\n",
    "    \n",
    "\n",
    "    # lst 안의 숫자들, sting으로 변경후,\n",
    "    # 만약 맨 앞자리가 같다면, 34, 30 순처리, 미리 선 처리\n",
    "    lst = [ str(n) for n in numbers ]\n",
    "\n",
    "    \n",
    "    # 맨 앞 숫자 기준 정렬\n",
    "    lst.sort(key = lambda x:x[0], reverse = True)\n",
    "    \n",
    "    \n",
    "    answer = ''\n",
    "\n",
    "    for s in lst:\n",
    "        answer += s\n",
    "    \n",
    "    \n",
    "    return answer"
   ]
  },
  {
   "cell_type": "markdown",
   "id": "788c7576",
   "metadata": {},
   "source": [
    "numbers의 길이는 1 이상 100,000 \n",
    "\n",
    "- 가능한 모든 경우 처리 x\n"
   ]
  },
  {
   "cell_type": "markdown",
   "id": "6b5ee006",
   "metadata": {},
   "source": [
    "---\n",
    "\n",
    "- error, 한번에 처리, \n",
    "- 34,30,3 처리\n",
    "\n",
    "- numbers의 원소는 0 이상 1,000 이하입니다.\n",
    "    - 따라서 입력되는 숫자의 최소길이는 1자리 최대길이는 3자리 일것이고, 1자리 숫자를 3자리로 불려줌으로써 문자형태의 숫자를 대소비교한다."
   ]
  },
  {
   "cell_type": "markdown",
   "id": "fe7f1030",
   "metadata": {},
   "source": [
    "- 그래서 이를 해결하기 위해 사용된 방법으로 위의 리스트의 수를 3번씩 반복하고, 그것을 비교하는 방법입니다.\n",
    "- 이 방식으로 비교하게 되면 [393939, 303030, 333]이 되고, 이를 세자리 수까지 끊으면 [393, 303, 333]이 됩니다. \n",
    "- 이렇게 되면 [393, 333, 303]순서로 내림차순이 가능해지고, 원래 수로 바꿔주면 [39, 3, 30] 의 순서가 됩니다."
   ]
  },
  {
   "cell_type": "code",
   "execution_count": null,
   "id": "c72d4a4f",
   "metadata": {},
   "outputs": [],
   "source": [
    "def solution(numbers):\n",
    "    \n",
    "    # string 형 변환\n",
    "    lst = [ str(n) for n in numbers ]\n",
    "\n",
    "    # 원소는 0 이상 1,000 이하, 이므로 맨 앞 숫자 기준 정렬\n",
    "    lst.sort(key = lambda x:x*3, reverse = True)\n",
    "    \n",
    "    answer = ''\n",
    "    for s in lst:\n",
    "        answer += s\n",
    "    \n",
    "    \n",
    "    return str(int(answer))"
   ]
  },
  {
   "cell_type": "markdown",
   "id": "fc76a751",
   "metadata": {},
   "source": [
    "---"
   ]
  },
  {
   "cell_type": "markdown",
   "id": "bc1e06ed",
   "metadata": {},
   "source": [
    "\n",
    "# functools.cmp_to_key\n"
   ]
  },
  {
   "cell_type": "code",
   "execution_count": 9,
   "id": "d879bb6d",
   "metadata": {},
   "outputs": [
    {
     "data": {
      "text/plain": [
       "1"
      ]
     },
     "execution_count": 9,
     "metadata": {},
     "output_type": "execute_result"
    }
   ],
   "source": [
    "comparator('4','3')"
   ]
  },
  {
   "cell_type": "code",
   "execution_count": 11,
   "id": "2a913d53",
   "metadata": {},
   "outputs": [
    {
     "data": {
      "text/plain": [
       "1"
      ]
     },
     "execution_count": 11,
     "metadata": {},
     "output_type": "execute_result"
    }
   ],
   "source": [
    "comparator('2','10')"
   ]
  },
  {
   "cell_type": "code",
   "execution_count": 14,
   "id": "2fabe65c",
   "metadata": {},
   "outputs": [
    {
     "data": {
      "text/plain": [
       "('1020', '2010')"
      ]
     },
     "execution_count": 14,
     "metadata": {},
     "output_type": "execute_result"
    }
   ],
   "source": [
    "s1 = '10' + '20'\n",
    "\n",
    "s2 = '20' + '10'\n",
    "\n",
    "s1,s2"
   ]
  },
  {
   "cell_type": "code",
   "execution_count": 19,
   "id": "972ed772",
   "metadata": {},
   "outputs": [],
   "source": [
    "# functools.cmp_to_key 함수를 사용하여 비교 함수를 키 함수로 변환하여 사용할 수 있습니다.\n",
    "# 문자열의 첫번째 요소로 비교\n",
    "\n",
    "import functools\n",
    "\n",
    "def comparator(c1, c2):\n",
    "    \n",
    "    s1 = c1 + c2\n",
    "    \n",
    "    s2 = c2 + c1\n",
    "    \n",
    "    \n",
    "    if int(s1) > int(s2):\n",
    "        return 1\n",
    "    \n",
    "    elif int(s2) > int(s1):\n",
    "            return -1\n",
    "    else:\n",
    "        return 0\n",
    "    \n",
    "    \n",
    "    \n",
    "    # return (int(s1) > int(s2)) - (int(s1) < int(s2)) \n",
    "\n",
    "\n",
    "def solution(numbers):\n",
    "    \n",
    "    lst = [ str(n) for n in numbers ] \n",
    "    \n",
    "    lst = sorted(lst, key = functools.cmp_to_key(comparator), reverse = True)\n",
    "    \n",
    "    answer = str(int(''.join(lst)))\n",
    "    \n",
    "    return answer"
   ]
  },
  {
   "cell_type": "code",
   "execution_count": 20,
   "id": "bc0ce27d",
   "metadata": {},
   "outputs": [
    {
     "data": {
      "text/plain": [
       "'9534330'"
      ]
     },
     "execution_count": 20,
     "metadata": {},
     "output_type": "execute_result"
    }
   ],
   "source": [
    "solution([3, 30, 34, 5, 9])"
   ]
  },
  {
   "cell_type": "markdown",
   "id": "81891581",
   "metadata": {},
   "source": [
    "\n",
    "\n",
    "- `s1`은 `c1`와 `c2`를 결합한 순서로, `s2`는 `c2`와 `c1`를 결합한 순서로 만들어집니다. \n",
    "\n",
    "- 그런 다음, 이 두 문자열을 정수로 변환하여 `s1`이 크면 양수를 반환하고 `s2`가 크면 음수를 반환하고, 두 숫자가 같으면 0을 반환합니다. \n",
    " \n",
    "- 배열 `lst`를 문자열로 변환하고, 문자열로 변환된 숫자를 다시 정수로 변환한 후, 문자열로 다시 변환합니다. 이렇게 하는 이유는 배열이 `[0, 0, 0]`과 같은 경우, 결과로 \"0\"을 반환해야 하기 때문입니다.\n"
   ]
  },
  {
   "cell_type": "markdown",
   "id": "d8cc8c8b",
   "metadata": {},
   "source": [
    "---"
   ]
  },
  {
   "cell_type": "code",
   "execution_count": 13,
   "id": "fc430286",
   "metadata": {},
   "outputs": [
    {
     "name": "stdout",
     "output_type": "stream",
     "text": [
      "['apple', 'banana', 'cherry', 'date', 'fig']\n",
      "['fig', 'date', 'apple', 'banana', 'cherry']\n"
     ]
    }
   ],
   "source": [
    "import functools\n",
    "\n",
    "# 길이를 기준으로 문자열을 비교하는 비교 함수\n",
    "def comparator(s1, s2):\n",
    "    \n",
    "    len_s1 = len(s1)\n",
    "    len_s2 = len(s2)\n",
    "    \n",
    "    if len_s1 < len_s2:\n",
    "        return -1\n",
    "    \n",
    "    elif len_s1 > len_s2:\n",
    "        return 1\n",
    "    \n",
    "    else:\n",
    "        return 0\n",
    "\n",
    "\n",
    "lst = [\"apple\", \"banana\", \"cherry\", \"date\", \"fig\"]\n",
    "print(lst)\n",
    "\n",
    "\n",
    "ans = sorted(lst, key = functools.cmp_to_key(comparator))         \n",
    "print(ans)\n"
   ]
  },
  {
   "cell_type": "markdown",
   "id": "19d1c944",
   "metadata": {},
   "source": [
    "- lambda"
   ]
  },
  {
   "cell_type": "code",
   "execution_count": 23,
   "id": "ac1d3041",
   "metadata": {},
   "outputs": [
    {
     "data": {
      "text/plain": [
       "['fig', 'date', 'apple', 'banana', 'cherry']"
      ]
     },
     "execution_count": 23,
     "metadata": {},
     "output_type": "execute_result"
    }
   ],
   "source": [
    "ans = sorted(lst, key = lambda x:len(x))\n",
    "ans"
   ]
  }
 ],
 "metadata": {
  "kernelspec": {
   "display_name": "Python 3 (ipykernel)",
   "language": "python",
   "name": "python3"
  },
  "language_info": {
   "codemirror_mode": {
    "name": "ipython",
    "version": 3
   },
   "file_extension": ".py",
   "mimetype": "text/x-python",
   "name": "python",
   "nbconvert_exporter": "python",
   "pygments_lexer": "ipython3",
   "version": "3.8.16"
  },
  "toc": {
   "base_numbering": 1,
   "nav_menu": {},
   "number_sections": true,
   "sideBar": true,
   "skip_h1_title": false,
   "title_cell": "Table of Contents",
   "title_sidebar": "Contents",
   "toc_cell": false,
   "toc_position": {},
   "toc_section_display": true,
   "toc_window_display": false
  },
  "varInspector": {
   "cols": {
    "lenName": 16,
    "lenType": 16,
    "lenVar": 40
   },
   "kernels_config": {
    "python": {
     "delete_cmd_postfix": "",
     "delete_cmd_prefix": "del ",
     "library": "var_list.py",
     "varRefreshCmd": "print(var_dic_list())"
    },
    "r": {
     "delete_cmd_postfix": ") ",
     "delete_cmd_prefix": "rm(",
     "library": "var_list.r",
     "varRefreshCmd": "cat(var_dic_list()) "
    }
   },
   "types_to_exclude": [
    "module",
    "function",
    "builtin_function_or_method",
    "instance",
    "_Feature"
   ],
   "window_display": false
  }
 },
 "nbformat": 4,
 "nbformat_minor": 5
}
