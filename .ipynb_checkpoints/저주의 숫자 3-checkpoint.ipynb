{
 "cells": [
  {
   "cell_type": "markdown",
   "id": "84a572b5",
   "metadata": {},
   "source": [
    "# 저주의 숫자 3\n",
    "\n",
    "- 3의 배수, 3포함,"
   ]
  },
  {
   "cell_type": "code",
   "execution_count": 1,
   "id": "6f7b5dcb",
   "metadata": {},
   "outputs": [
    {
     "name": "stdout",
     "output_type": "stream",
     "text": [
      "1 1\n",
      "2 2\n",
      "3 4\n",
      "4 5\n",
      "5 7\n",
      "6 8\n",
      "7 10\n",
      "8 11\n",
      "9 14\n",
      "10 16\n",
      "11 17\n",
      "12 19\n",
      "13 20\n",
      "14 22\n",
      "15 25\n",
      "16 26\n",
      "17 28\n",
      "18 29\n",
      "19 40\n",
      "20 41\n",
      "21 44\n",
      "22 46\n",
      "23 47\n",
      "24 49\n",
      "25 50\n",
      "26 52\n",
      "27 55\n",
      "28 56\n",
      "29 58\n",
      "30 59\n",
      "31 61\n",
      "32 62\n",
      "33 64\n",
      "34 65\n",
      "35 67\n",
      "36 68\n",
      "37 70\n",
      "38 71\n",
      "39 74\n",
      "40 76\n"
     ]
    }
   ],
   "source": [
    "n = 40\n",
    "\n",
    "\n",
    "ans = 0\n",
    "\n",
    "for i in range(1, n+1):\n",
    "    \n",
    "    ans += 1\n",
    "\n",
    "    while(ans % 3 == 0 or '3' in str(ans)):\n",
    "        ans += 1\n",
    "        \n",
    "        \n",
    "    print(i,ans)\n",
    "\n"
   ]
  },
  {
   "cell_type": "markdown",
   "id": "f76b4189",
   "metadata": {},
   "source": [
    "---"
   ]
  },
  {
   "cell_type": "code",
   "execution_count": 2,
   "id": "c07d6673",
   "metadata": {},
   "outputs": [
    {
     "name": "stdout",
     "output_type": "stream",
     "text": [
      "1 1\n",
      "2 2\n",
      "3 4\n",
      "4 5\n",
      "5 7\n",
      "6 8\n",
      "7 10\n",
      "8 11\n",
      "9 14\n",
      "10 16\n",
      "11 17\n",
      "12 19\n",
      "13 20\n",
      "14 22\n",
      "15 25\n",
      "16 26\n",
      "17 28\n",
      "18 29\n",
      "19 32\n",
      "20 35\n",
      "21 38\n",
      "22 40\n",
      "23 41\n",
      "24 44\n",
      "25 46\n",
      "26 47\n",
      "27 49\n",
      "28 50\n",
      "29 52\n",
      "30 55\n"
     ]
    }
   ],
   "source": [
    "n = 30\n",
    "\n",
    "\n",
    "ans = 0\n",
    "\n",
    "for i in range(1, n+1):\n",
    "    \n",
    "    ans += 1\n",
    "\n",
    "    \n",
    "    if ans % 3 ==0 or '3' in str(ans):\n",
    "        ans += 1\n",
    "        \n",
    "        \n",
    "    if ans % 3 ==0 or '3' in str(ans):\n",
    "        ans += 1\n",
    "    \n",
    "    print(i,ans)\n",
    "\n",
    "\n"
   ]
  },
  {
   "cell_type": "markdown",
   "id": "3d323c1c",
   "metadata": {},
   "source": [
    "---"
   ]
  },
  {
   "cell_type": "code",
   "execution_count": 3,
   "id": "da930eb0",
   "metadata": {},
   "outputs": [
    {
     "data": {
      "text/plain": [
       "True"
      ]
     },
     "execution_count": 3,
     "metadata": {},
     "output_type": "execute_result"
    }
   ],
   "source": [
    "'3' in str(n)"
   ]
  }
 ],
 "metadata": {
  "kernelspec": {
   "display_name": "Python 3 (ipykernel)",
   "language": "python",
   "name": "python3"
  },
  "language_info": {
   "codemirror_mode": {
    "name": "ipython",
    "version": 3
   },
   "file_extension": ".py",
   "mimetype": "text/x-python",
   "name": "python",
   "nbconvert_exporter": "python",
   "pygments_lexer": "ipython3",
   "version": "3.8.16"
  },
  "toc": {
   "base_numbering": 1,
   "nav_menu": {},
   "number_sections": true,
   "sideBar": true,
   "skip_h1_title": false,
   "title_cell": "Table of Contents",
   "title_sidebar": "Contents",
   "toc_cell": false,
   "toc_position": {},
   "toc_section_display": true,
   "toc_window_display": false
  },
  "varInspector": {
   "cols": {
    "lenName": 16,
    "lenType": 16,
    "lenVar": 40
   },
   "kernels_config": {
    "python": {
     "delete_cmd_postfix": "",
     "delete_cmd_prefix": "del ",
     "library": "var_list.py",
     "varRefreshCmd": "print(var_dic_list())"
    },
    "r": {
     "delete_cmd_postfix": ") ",
     "delete_cmd_prefix": "rm(",
     "library": "var_list.r",
     "varRefreshCmd": "cat(var_dic_list()) "
    }
   },
   "types_to_exclude": [
    "module",
    "function",
    "builtin_function_or_method",
    "instance",
    "_Feature"
   ],
   "window_display": false
  }
 },
 "nbformat": 4,
 "nbformat_minor": 5
}
