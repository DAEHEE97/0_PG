{
 "cells": [
  {
   "cell_type": "markdown",
   "id": "ac12d4e8",
   "metadata": {},
   "source": [
    "# 올바른 괄호"
   ]
  },
  {
   "cell_type": "markdown",
   "id": "5aa86a5c",
   "metadata": {},
   "source": [
    "---"
   ]
  },
  {
   "cell_type": "markdown",
   "id": "568896f4",
   "metadata": {},
   "source": [
    "- 짝 맞추기 처리, 스택이 비어있는 경우! "
   ]
  },
  {
   "cell_type": "code",
   "execution_count": null,
   "id": "2e6b50d3",
   "metadata": {},
   "outputs": [],
   "source": [
    "def solution(s):\n",
    "    \n",
    "    answer = True\n",
    "    \n",
    "    lst = []\n",
    "\n",
    "    for c in s:\n",
    "    \n",
    "        if c == '(':\n",
    "            lst.append(c)\n",
    "        \n",
    "        # '(' 가 없는 상황에서 ')' 가 먼저 나온 상황, False\n",
    "        elif c == ')' and len(lst) == 0:\n",
    "            return False \n",
    "        \n",
    "        elif c == ')':\n",
    "            lst.pop()\n",
    "            \n",
    "    # '(' append, ')' pop 하면서, 남은게 있다면, False\n",
    "    if len(lst) >= 1:\n",
    "        return False\n",
    "\n",
    "    \n",
    "    return answer"
   ]
  },
  {
   "cell_type": "markdown",
   "id": "21a66449",
   "metadata": {},
   "source": [
    "---"
   ]
  },
  {
   "cell_type": "code",
   "execution_count": null,
   "id": "da1cc4fe",
   "metadata": {},
   "outputs": [],
   "source": [
    "def solution(s):\n",
    "    \n",
    "    answer = True\n",
    "    \n",
    "    lst = []\n",
    "\n",
    "    for c in s:\n",
    "    \n",
    "        if c == '(':\n",
    "            lst.append(c)\n",
    "        \n",
    "        elif c == ')' :\n",
    "            \n",
    "            # '(' 가 없는 상황에서 ')' 가 먼저 나온 상황, False\n",
    "            if len(lst) == 0:\n",
    "                return False \n",
    "            \n",
    "            else:\n",
    "                lst.pop()\n",
    "            \n",
    "    # '(' append, ')' pop 하면서, 남은게 있다면, False\n",
    "    if len(lst) >= 1:\n",
    "        return False\n",
    "\n",
    "    \n",
    "    return answer"
   ]
  }
 ],
 "metadata": {
  "kernelspec": {
   "display_name": "Python 3 (ipykernel)",
   "language": "python",
   "name": "python3"
  },
  "language_info": {
   "codemirror_mode": {
    "name": "ipython",
    "version": 3
   },
   "file_extension": ".py",
   "mimetype": "text/x-python",
   "name": "python",
   "nbconvert_exporter": "python",
   "pygments_lexer": "ipython3",
   "version": "3.8.16"
  },
  "toc": {
   "base_numbering": 1,
   "nav_menu": {},
   "number_sections": true,
   "sideBar": true,
   "skip_h1_title": false,
   "title_cell": "Table of Contents",
   "title_sidebar": "Contents",
   "toc_cell": false,
   "toc_position": {},
   "toc_section_display": true,
   "toc_window_display": false
  },
  "varInspector": {
   "cols": {
    "lenName": 16,
    "lenType": 16,
    "lenVar": 40
   },
   "kernels_config": {
    "python": {
     "delete_cmd_postfix": "",
     "delete_cmd_prefix": "del ",
     "library": "var_list.py",
     "varRefreshCmd": "print(var_dic_list())"
    },
    "r": {
     "delete_cmd_postfix": ") ",
     "delete_cmd_prefix": "rm(",
     "library": "var_list.r",
     "varRefreshCmd": "cat(var_dic_list()) "
    }
   },
   "types_to_exclude": [
    "module",
    "function",
    "builtin_function_or_method",
    "instance",
    "_Feature"
   ],
   "window_display": false
  }
 },
 "nbformat": 4,
 "nbformat_minor": 5
}
