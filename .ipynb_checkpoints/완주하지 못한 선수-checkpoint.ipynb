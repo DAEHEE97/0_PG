{
 "cells": [
  {
   "cell_type": "markdown",
   "id": "f8a4da6f",
   "metadata": {},
   "source": [
    "## dictionary"
   ]
  },
  {
   "cell_type": "code",
   "execution_count": 15,
   "id": "0a417072",
   "metadata": {},
   "outputs": [],
   "source": [
    "def solution(participant, completion):\n",
    "    \n",
    "    participant_dict = {}  # 딕셔너리를 생성하여 이름과 개수를 저장할 것입니다.\n",
    "\n",
    "    # 참가자 이름을 딕셔너리에 추가하면서 개수를 세어줍니다.\n",
    "    for name in participant:\n",
    "        \n",
    "        if name in participant_dict:\n",
    "            participant_dict[name] += 1\n",
    "        else:\n",
    "            participant_dict[name] = 1\n",
    "\n",
    "    # 완주한 선수 이름을 딕셔너리에서 빼면서 개수를 감소시켜줍니다.\n",
    "    for name in completion:\n",
    "        \n",
    "        if name in participant_dict:\n",
    "            \n",
    "            participant_dict[name] -= 1\n",
    "\n",
    "    # 딕셔너리에서 값이 0이 아닌 이름을 찾아서 반환합니다.\n",
    "    for name, count in participant_dict.items():\n",
    "        if count != 0:\n",
    "            return name\n",
    "\n"
   ]
  },
  {
   "cell_type": "code",
   "execution_count": 20,
   "id": "95e52888",
   "metadata": {},
   "outputs": [
    {
     "name": "stdout",
     "output_type": "stream",
     "text": [
      "Counter({'leo': 1})\n"
     ]
    },
    {
     "data": {
      "text/plain": [
       "'leo'"
      ]
     },
     "execution_count": 20,
     "metadata": {},
     "output_type": "execute_result"
    }
   ],
   "source": [
    "# 예시 입력과 출력\n",
    "participant1 = [\"leo\", \"kiki\", \"eden\"]\n",
    "completion1 = [\"eden\", \"kiki\"]\n",
    "solution(participant1, completion1) # Output: \"leo\""
   ]
  },
  {
   "cell_type": "markdown",
   "id": "cde9ddd2",
   "metadata": {},
   "source": [
    "## counter"
   ]
  },
  {
   "cell_type": "code",
   "execution_count": 19,
   "id": "4e0cdd8f",
   "metadata": {},
   "outputs": [],
   "source": [
    "from collections import Counter\n",
    "\n",
    "def solution(participant, completion):\n",
    "    \n",
    "    answer = Counter(participant) - Counter(completion)\n",
    "\n",
    "    # Counter({'leo': 1})\n",
    "    \n",
    "    return list(answer.keys())[0]\n"
   ]
  },
  {
   "cell_type": "code",
   "execution_count": null,
   "id": "7da82098",
   "metadata": {},
   "outputs": [],
   "source": [
    "\n",
    "\n",
    "participant2 = [\"marina\", \"josipa\", \"nikola\", \"vinko\", \"filipa\"]\n",
    "completion2 = [\"josipa\", \"filipa\", \"marina\", \"nikola\"]\n",
    "print(solution(participant2, completion2))  # Output: \"vinko\"\n",
    "\n",
    "participant3 = [\"mislav\", \"stanko\", \"mislav\", \"ana\"]\n",
    "completion3 = [\"stanko\", \"ana\", \"mislav\"]\n",
    "print(solution(participant3, completion3))  # Output: \"mislav\""
   ]
  }
 ],
 "metadata": {
  "kernelspec": {
   "display_name": "Python 3 (ipykernel)",
   "language": "python",
   "name": "python3"
  },
  "language_info": {
   "codemirror_mode": {
    "name": "ipython",
    "version": 3
   },
   "file_extension": ".py",
   "mimetype": "text/x-python",
   "name": "python",
   "nbconvert_exporter": "python",
   "pygments_lexer": "ipython3",
   "version": "3.8.16"
  },
  "toc": {
   "base_numbering": 1,
   "nav_menu": {},
   "number_sections": true,
   "sideBar": true,
   "skip_h1_title": false,
   "title_cell": "Table of Contents",
   "title_sidebar": "Contents",
   "toc_cell": false,
   "toc_position": {},
   "toc_section_display": true,
   "toc_window_display": false
  },
  "varInspector": {
   "cols": {
    "lenName": 16,
    "lenType": 16,
    "lenVar": 40
   },
   "kernels_config": {
    "python": {
     "delete_cmd_postfix": "",
     "delete_cmd_prefix": "del ",
     "library": "var_list.py",
     "varRefreshCmd": "print(var_dic_list())"
    },
    "r": {
     "delete_cmd_postfix": ") ",
     "delete_cmd_prefix": "rm(",
     "library": "var_list.r",
     "varRefreshCmd": "cat(var_dic_list()) "
    }
   },
   "types_to_exclude": [
    "module",
    "function",
    "builtin_function_or_method",
    "instance",
    "_Feature"
   ],
   "window_display": false
  }
 },
 "nbformat": 4,
 "nbformat_minor": 5
}
