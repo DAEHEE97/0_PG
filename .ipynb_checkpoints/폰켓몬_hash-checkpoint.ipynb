{
 "cells": [
  {
   "cell_type": "markdown",
   "id": "5077ce1d",
   "metadata": {},
   "source": [
    "## set"
   ]
  },
  {
   "cell_type": "markdown",
   "id": "effde1f5",
   "metadata": {},
   "source": [
    " 1. 4마리 중에서 2가지 를 선택하는 방법 중에서, 종류가 최대가 되도록, 1,2 / 1,2,3\n",
    " \n",
    " 2. 선택할 수 있는 폰켓몬 종류 개수의 최댓값 하나만 return"
   ]
  },
  {
   "cell_type": "markdown",
   "id": "b716fe0e",
   "metadata": {},
   "source": [
    "---"
   ]
  },
  {
   "cell_type": "code",
   "execution_count": null,
   "id": "9c32886c",
   "metadata": {},
   "outputs": [],
   "source": [
    "def solution(nums):\n",
    "    \n",
    "    pick = len(nums) // 2\n",
    "    \n",
    "    answer = min(len(set(nums)), pick)\n",
    "    \n",
    "    return answer"
   ]
  },
  {
   "cell_type": "markdown",
   "id": "de5a1b9f",
   "metadata": {},
   "source": [
    "---"
   ]
  },
  {
   "cell_type": "markdown",
   "id": "2f061171",
   "metadata": {},
   "source": [
    "## hash\n",
    "\n",
    "- 종류 최대 선택\n",
    "    - 4가지 종류중 2개 선택, > min(4,2)\n",
    "    - 3가지 종류증 2개 선택, > min(3,2)\n",
    "    - 2가지 종류중 2개 선택, > min(2,2)\n",
    "    - 1가지 종류중 2개 선택, > min(1,2)"
   ]
  },
  {
   "cell_type": "markdown",
   "id": "aff58dca",
   "metadata": {},
   "source": [
    "---"
   ]
  },
  {
   "cell_type": "code",
   "execution_count": null,
   "id": "180df2d8",
   "metadata": {},
   "outputs": [],
   "source": [
    "def solution(nums):\n",
    "    \n",
    "    dic = {}\n",
    "        \n",
    "    for i in nums:\n",
    "    \n",
    "        if i in dic:\n",
    "            dic[i] += 1\n",
    "        else:\n",
    "            dic[i] = 1\n",
    "    \n",
    "    lst_key = [ key for key, value in dic.items() ]\n",
    "\n",
    "    pick = len(nums) // 2\n",
    "\n",
    "    answer = min(len(lst_key),pick) # 최대가 되도록 선택, \n",
    "    \n",
    "    return answer"
   ]
  },
  {
   "cell_type": "markdown",
   "id": "0217e36b",
   "metadata": {},
   "source": [
    "---"
   ]
  },
  {
   "cell_type": "code",
   "execution_count": 38,
   "id": "c7132f4e",
   "metadata": {},
   "outputs": [],
   "source": [
    "lst = [3,3,3,2,2,4]"
   ]
  },
  {
   "cell_type": "code",
   "execution_count": 39,
   "id": "4bea2b47",
   "metadata": {},
   "outputs": [],
   "source": [
    "N = len(lst)"
   ]
  },
  {
   "cell_type": "code",
   "execution_count": 40,
   "id": "56827f40",
   "metadata": {},
   "outputs": [],
   "source": [
    "pick = N / 2"
   ]
  },
  {
   "cell_type": "code",
   "execution_count": 41,
   "id": "8d96217d",
   "metadata": {},
   "outputs": [],
   "source": [
    "dic = {}\n",
    "\n",
    "for i in lst:\n",
    "    \n",
    "    if i in dic:\n",
    "        dic[i] += 1\n",
    "    else:\n",
    "        dic[i] = 1"
   ]
  },
  {
   "cell_type": "code",
   "execution_count": 42,
   "id": "6771a7fd",
   "metadata": {},
   "outputs": [
    {
     "data": {
      "text/plain": [
       "{3: 3, 2: 2, 4: 1}"
      ]
     },
     "execution_count": 42,
     "metadata": {},
     "output_type": "execute_result"
    }
   ],
   "source": [
    "dic"
   ]
  },
  {
   "cell_type": "code",
   "execution_count": 43,
   "id": "0adabace",
   "metadata": {},
   "outputs": [
    {
     "data": {
      "text/plain": [
       "[3, 2, 4]"
      ]
     },
     "execution_count": 43,
     "metadata": {},
     "output_type": "execute_result"
    }
   ],
   "source": [
    "lst_key = [ key for key, value in dic.items() ]\n",
    "lst_key"
   ]
  },
  {
   "cell_type": "code",
   "execution_count": 44,
   "id": "6c935f39",
   "metadata": {},
   "outputs": [
    {
     "data": {
      "text/plain": [
       "{2, 3, 4}"
      ]
     },
     "execution_count": 44,
     "metadata": {},
     "output_type": "execute_result"
    }
   ],
   "source": [
    "sset = set(lst)\n",
    "sset"
   ]
  },
  {
   "cell_type": "code",
   "execution_count": 36,
   "id": "c341f4b9",
   "metadata": {},
   "outputs": [
    {
     "data": {
      "text/plain": [
       "2"
      ]
     },
     "execution_count": 36,
     "metadata": {},
     "output_type": "execute_result"
    }
   ],
   "source": [
    "min(len(lst_key),pick)"
   ]
  }
 ],
 "metadata": {
  "kernelspec": {
   "display_name": "Python 3 (ipykernel)",
   "language": "python",
   "name": "python3"
  },
  "language_info": {
   "codemirror_mode": {
    "name": "ipython",
    "version": 3
   },
   "file_extension": ".py",
   "mimetype": "text/x-python",
   "name": "python",
   "nbconvert_exporter": "python",
   "pygments_lexer": "ipython3",
   "version": "3.8.16"
  },
  "toc": {
   "base_numbering": 1,
   "nav_menu": {},
   "number_sections": true,
   "sideBar": true,
   "skip_h1_title": false,
   "title_cell": "Table of Contents",
   "title_sidebar": "Contents",
   "toc_cell": false,
   "toc_position": {},
   "toc_section_display": true,
   "toc_window_display": false
  },
  "varInspector": {
   "cols": {
    "lenName": 16,
    "lenType": 16,
    "lenVar": 40
   },
   "kernels_config": {
    "python": {
     "delete_cmd_postfix": "",
     "delete_cmd_prefix": "del ",
     "library": "var_list.py",
     "varRefreshCmd": "print(var_dic_list())"
    },
    "r": {
     "delete_cmd_postfix": ") ",
     "delete_cmd_prefix": "rm(",
     "library": "var_list.r",
     "varRefreshCmd": "cat(var_dic_list()) "
    }
   },
   "types_to_exclude": [
    "module",
    "function",
    "builtin_function_or_method",
    "instance",
    "_Feature"
   ],
   "window_display": false
  }
 },
 "nbformat": 4,
 "nbformat_minor": 5
}
