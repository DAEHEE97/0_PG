{
 "cells": [
  {
   "cell_type": "markdown",
   "id": "240d9d98",
   "metadata": {},
   "source": [
    "# 카펫"
   ]
  },
  {
   "cell_type": "markdown",
   "id": "6c70ff01",
   "metadata": {},
   "source": [
    "---"
   ]
  },
  {
   "cell_type": "markdown",
   "id": "b3812a00",
   "metadata": {},
   "source": [
    "- j > i\n",
    "\n",
    "- 2i + 2j - 4 = brown\n",
    "\n",
    "- (i-2) * (j-2) = yellow\n",
    "\n",
    "- ij = brwon + yellow"
   ]
  },
  {
   "cell_type": "markdown",
   "id": "7fc60300",
   "metadata": {},
   "source": [
    "---"
   ]
  },
  {
   "cell_type": "markdown",
   "id": "871f81ab",
   "metadata": {},
   "source": [
    "## sol 1"
   ]
  },
  {
   "cell_type": "code",
   "execution_count": 1,
   "id": "3b82db65",
   "metadata": {},
   "outputs": [],
   "source": [
    "def solution(brown, yellow):\n",
    "    \n",
    "    s = brown + yellow\n",
    "    \n",
    "    for i in range(1, s+1):\n",
    "        \n",
    "        if s % i != 0 :\n",
    "            continue\n",
    "    \n",
    "        j = s // i\n",
    "    \n",
    "        \n",
    "        if j >= i and (2*i) + (2*j) - 4 == brown and (i-2) * (j-2) == yellow:\n",
    "            \n",
    "            ans =[j,i]\n",
    "            \n",
    "            return ans\n",
    "        \n",
    "        "
   ]
  },
  {
   "cell_type": "markdown",
   "id": "e00a4a0d",
   "metadata": {},
   "source": [
    "---"
   ]
  },
  {
   "cell_type": "markdown",
   "id": "83500473",
   "metadata": {},
   "source": [
    "## sol 2 방정식 처리"
   ]
  },
  {
   "cell_type": "code",
   "execution_count": 2,
   "id": "a2ca1087",
   "metadata": {},
   "outputs": [],
   "source": [
    "def solution(brown, yellow):\n",
    "    \n",
    "    s = brown + yellow\n",
    "    \n",
    "    for i in range(1, s+1):\n",
    "        \n",
    "        if s % i != 0 :\n",
    "            continue\n",
    "    \n",
    "        for j in range(1, s+1):\n",
    "            \n",
    "            if s % j != 0 :\n",
    "                continue\n",
    "        \n",
    "        \n",
    "            if j >= i and (2*i) + (2*j) - 4 == brown and (i-2) * (j-2) == yellow:\n",
    "\n",
    "                ans =[j,i]\n",
    "                \n",
    "                return ans\n",
    "        \n",
    "\n",
    "        "
   ]
  },
  {
   "cell_type": "markdown",
   "id": "a165e5da",
   "metadata": {},
   "source": [
    "---"
   ]
  },
  {
   "cell_type": "markdown",
   "id": "6fd8d09d",
   "metadata": {},
   "source": [
    "## sol 3 시간 초과\n",
    "\n",
    "- 곱이 s 가 나오는 것들중에서 차이가 제일 적은것 "
   ]
  },
  {
   "cell_type": "code",
   "execution_count": 3,
   "id": "cc1217e1",
   "metadata": {},
   "outputs": [],
   "source": [
    "def solution(brown, yellow):\n",
    "    \n",
    "    answer = []\n",
    "    \n",
    "    s = brown + yellow                     # ij = s = brown + yellow\n",
    "    \n",
    "    for i in range(1, s+1):\n",
    "        \n",
    "        if (s % i) == 0:                    # 나누어 떨어져야함.\n",
    "            \n",
    "            j = s / i\n",
    "            \n",
    "            if j >= i:                      # 1. 조건 \n",
    "                \n",
    "                if 2*j + 2*i == brown + 4:  # 2. 조건 2*a + 2*b = brown + 4 \n",
    "                    return [j,i]\n",
    "            \n",
    "    return answer"
   ]
  },
  {
   "cell_type": "markdown",
   "id": "df38c5c8",
   "metadata": {},
   "source": [
    "---"
   ]
  },
  {
   "cell_type": "markdown",
   "id": "46944847",
   "metadata": {},
   "source": [
    "# 약수 처리"
   ]
  },
  {
   "cell_type": "code",
   "execution_count": 4,
   "id": "13fa3ca3",
   "metadata": {},
   "outputs": [
    {
     "data": {
      "text/plain": [
       "[[1, 12], [2, 6], [3, 4], [4, 3], [6, 2], [12, 1]]"
      ]
     },
     "execution_count": 4,
     "metadata": {},
     "output_type": "execute_result"
    }
   ],
   "source": [
    "s = 12\n",
    "\n",
    "arr = []\n",
    "\n",
    "for i in range(1, s+1):\n",
    "    \n",
    "    # 나누어 떨어지는 것들 중에서 처리 \n",
    "    if s % i == 0:\n",
    "        \n",
    "        arr.append([i,s//i])\n",
    "arr"
   ]
  },
  {
   "cell_type": "markdown",
   "id": "84eb6df1",
   "metadata": {},
   "source": [
    "---"
   ]
  },
  {
   "cell_type": "code",
   "execution_count": 5,
   "id": "36e6013a",
   "metadata": {},
   "outputs": [
    {
     "data": {
      "text/plain": [
       "[[9, 1], [3, 3]]"
      ]
     },
     "execution_count": 5,
     "metadata": {},
     "output_type": "execute_result"
    }
   ],
   "source": [
    "s = 9\n",
    "\n",
    "arr = []\n",
    "\n",
    "for i in range(1, s+1):\n",
    "    \n",
    "    # 나누어 떨어지는 것들 중에서 처리 \n",
    "    if s % i == 0:\n",
    "        \n",
    "        j = s // i\n",
    "        \n",
    "        if j >= i :\n",
    "            arr.append([j,i])\n",
    "arr"
   ]
  },
  {
   "cell_type": "markdown",
   "id": "89b1f475",
   "metadata": {},
   "source": [
    "---"
   ]
  },
  {
   "cell_type": "code",
   "execution_count": 6,
   "id": "575071df",
   "metadata": {},
   "outputs": [
    {
     "name": "stdout",
     "output_type": "stream",
     "text": [
      "[3, 4]\n"
     ]
    }
   ],
   "source": [
    "arr = [[1, 12], [2, 6], [3, 4], [4, 3], [6, 2], [12, 1]]\n",
    "\n",
    "m = float('inf')  # 무한대로 초기화\n",
    "\n",
    "\n",
    "ans = []\n",
    "\n",
    "# 모든 조합에 대한 차이 계산\n",
    "for lst in arr:\n",
    "    \n",
    "    diff = abs(lst[0] - lst[1])\n",
    "    \n",
    "    if diff < m:\n",
    "        m = diff\n",
    "        ans = lst\n",
    "\n",
    "print(ans)\n"
   ]
  },
  {
   "cell_type": "markdown",
   "id": "39342925",
   "metadata": {},
   "source": [
    "---"
   ]
  },
  {
   "cell_type": "code",
   "execution_count": 7,
   "id": "f8e02018",
   "metadata": {},
   "outputs": [
    {
     "name": "stdout",
     "output_type": "stream",
     "text": [
      "[[3, 4], [4, 3], [4, 5]]\n"
     ]
    }
   ],
   "source": [
    "arr = [[1, 12], [2, 6], [3, 4], [4, 3], [6, 2], [12, 1], [4,5] ]\n",
    "\n",
    "m = float('inf')  # 무한대로 초기화\n",
    "\n",
    "ans = []\n",
    "\n",
    "# 모든 조합에 대한 차이 계산\n",
    "for lst in arr:\n",
    "    \n",
    "    diff = abs(lst[0] - lst[1])\n",
    "    \n",
    "    if diff < m:\n",
    "        m = diff\n",
    "        \n",
    "        ans = [lst]\n",
    "    \n",
    "    elif diff == m:\n",
    "        \n",
    "        ans.append(lst)\n",
    "\n",
    "print(ans)\n"
   ]
  },
  {
   "cell_type": "markdown",
   "id": "d71720b3",
   "metadata": {},
   "source": [
    "---"
   ]
  },
  {
   "cell_type": "code",
   "execution_count": 8,
   "id": "ad2b7a95",
   "metadata": {},
   "outputs": [],
   "source": [
    "arr.sort( key = lambda lst : lst[1])\n",
    "\n",
    "arr.sort( key = lambda lst: abs(lst[0] - lst[1]))"
   ]
  },
  {
   "cell_type": "code",
   "execution_count": 9,
   "id": "5c527313",
   "metadata": {},
   "outputs": [
    {
     "data": {
      "text/plain": [
       "[[4, 3], [3, 4], [4, 5], [6, 2], [2, 6], [12, 1], [1, 12]]"
      ]
     },
     "execution_count": 9,
     "metadata": {},
     "output_type": "execute_result"
    }
   ],
   "source": [
    "arr"
   ]
  }
 ],
 "metadata": {
  "kernelspec": {
   "display_name": "Python 3 (ipykernel)",
   "language": "python",
   "name": "python3"
  },
  "language_info": {
   "codemirror_mode": {
    "name": "ipython",
    "version": 3
   },
   "file_extension": ".py",
   "mimetype": "text/x-python",
   "name": "python",
   "nbconvert_exporter": "python",
   "pygments_lexer": "ipython3",
   "version": "3.8.16"
  },
  "toc": {
   "base_numbering": 1,
   "nav_menu": {},
   "number_sections": true,
   "sideBar": true,
   "skip_h1_title": false,
   "title_cell": "Table of Contents",
   "title_sidebar": "Contents",
   "toc_cell": false,
   "toc_position": {},
   "toc_section_display": true,
   "toc_window_display": false
  },
  "varInspector": {
   "cols": {
    "lenName": 16,
    "lenType": 16,
    "lenVar": 40
   },
   "kernels_config": {
    "python": {
     "delete_cmd_postfix": "",
     "delete_cmd_prefix": "del ",
     "library": "var_list.py",
     "varRefreshCmd": "print(var_dic_list())"
    },
    "r": {
     "delete_cmd_postfix": ") ",
     "delete_cmd_prefix": "rm(",
     "library": "var_list.r",
     "varRefreshCmd": "cat(var_dic_list()) "
    }
   },
   "types_to_exclude": [
    "module",
    "function",
    "builtin_function_or_method",
    "instance",
    "_Feature"
   ],
   "window_display": false
  }
 },
 "nbformat": 4,
 "nbformat_minor": 5
}
