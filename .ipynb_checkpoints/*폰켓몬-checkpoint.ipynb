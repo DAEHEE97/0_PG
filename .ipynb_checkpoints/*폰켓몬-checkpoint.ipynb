{
 "cells": [
  {
   "cell_type": "markdown",
   "id": "effde1f5",
   "metadata": {},
   "source": [
    " 최대한 다양한 종류의 폰켓몬을 가지길 원하기 때문에, \n",
    " \n",
    " 최대한 많은 종류의 폰켓몬을 포함해서 N/2마리를 선택\n",
    " \n",
    " N/2마리의 폰켓몬을 선택하는 방법 중, 가장 많은 종류의 폰켓몬을 선택하는 방법을 찾아,\n",
    " \n",
    " 그때의 폰켓몬 종류 번호의 개수를 return 하도록 solution 함수를 완성해주세요.\n",
    " \n",
    " ---\n",
    " \n",
    " 1. 4마리 중에서 2가지 를 선택하는 방법 중에서, 종류가 최대가 되도록, 1,2 / 1,2,3\n",
    " \n",
    " 2. 선택할 수 있는 폰켓몬 종류 개수의 최댓값 하나만 return\n",
    " "
   ]
  },
  {
   "cell_type": "markdown",
   "id": "b716fe0e",
   "metadata": {},
   "source": [
    "---"
   ]
  },
  {
   "cell_type": "code",
   "execution_count": null,
   "id": "9c32886c",
   "metadata": {},
   "outputs": [],
   "source": [
    "def solution(nums):\n",
    "    \n",
    "    pick = len(nums) // 2\n",
    "    \n",
    "    answer = min(len(set(nums)), pick)\n",
    "    \n",
    "    return answer"
   ]
  }
 ],
 "metadata": {
  "kernelspec": {
   "display_name": "Python 3 (ipykernel)",
   "language": "python",
   "name": "python3"
  },
  "language_info": {
   "codemirror_mode": {
    "name": "ipython",
    "version": 3
   },
   "file_extension": ".py",
   "mimetype": "text/x-python",
   "name": "python",
   "nbconvert_exporter": "python",
   "pygments_lexer": "ipython3",
   "version": "3.8.16"
  },
  "toc": {
   "base_numbering": 1,
   "nav_menu": {},
   "number_sections": true,
   "sideBar": true,
   "skip_h1_title": false,
   "title_cell": "Table of Contents",
   "title_sidebar": "Contents",
   "toc_cell": false,
   "toc_position": {},
   "toc_section_display": true,
   "toc_window_display": false
  },
  "varInspector": {
   "cols": {
    "lenName": 16,
    "lenType": 16,
    "lenVar": 40
   },
   "kernels_config": {
    "python": {
     "delete_cmd_postfix": "",
     "delete_cmd_prefix": "del ",
     "library": "var_list.py",
     "varRefreshCmd": "print(var_dic_list())"
    },
    "r": {
     "delete_cmd_postfix": ") ",
     "delete_cmd_prefix": "rm(",
     "library": "var_list.r",
     "varRefreshCmd": "cat(var_dic_list()) "
    }
   },
   "types_to_exclude": [
    "module",
    "function",
    "builtin_function_or_method",
    "instance",
    "_Feature"
   ],
   "window_display": false
  }
 },
 "nbformat": 4,
 "nbformat_minor": 5
}
