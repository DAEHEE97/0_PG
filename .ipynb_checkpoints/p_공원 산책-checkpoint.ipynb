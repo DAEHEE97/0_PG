{
 "cells": [
  {
   "cell_type": "markdown",
   "id": "9efe288f",
   "metadata": {},
   "source": [
    "# 공원 산책"
   ]
  },
  {
   "cell_type": "markdown",
   "id": "a7b2f9d4",
   "metadata": {},
   "source": [
    "---"
   ]
  },
  {
   "cell_type": "code",
   "execution_count": 1,
   "id": "f2efa454",
   "metadata": {},
   "outputs": [],
   "source": [
    "def solution(park, routes):\n",
    "    # 시작 지점 \n",
    "    si,sj = 0,0\n",
    "    for i in range(len(park)):\n",
    "        \n",
    "        for j in range(len(park[0])):\n",
    "            \n",
    "            if park[i][j] == 'S':\n",
    "                \n",
    "                si,sj = i,j\n",
    "    \n",
    "    # d 벡터\n",
    "    dx = {'N' : -1, 'S' : 1, 'W' : 0, 'E' : 0}\n",
    "    dy = {'N' : 0, 'S' : 0, 'W' : -1, 'E' : 1}\n",
    "    \n",
    "    # 명령어 split()\n",
    "    for s in routes:\n",
    "\n",
    "        d, v = s[0], int(s[2])\n",
    "        di, dj = dx[d], dy[d]\n",
    "        \n",
    "        # ! fi,fj 잠시 저장, 이동하다가 장애물 만나면 다시 처음으로 이동 처리dyd\n",
    "        fi,fj = si,sj\n",
    "    \n",
    "        # v번 이동하는동안 범위 안이면서, X가 아니라면, 이동, 아니면 다시 처음으로 \n",
    "        for _ in range(v):\n",
    "            \n",
    "            # 이동 처리\n",
    "            ni, nj = si+di, sj+dj\n",
    "            \n",
    "            if 0<=ni<len(park) and 0<=nj<len(park[0]) and park[ni][nj] != 'X':\n",
    "                si,sj = ni,nj \n",
    "            \n",
    "            # 장애물 만나면, 처음으로 돌아가기, 및 종료\n",
    "            else:\n",
    "                si,sj = fi,fj\n",
    "                break\n",
    "    \n",
    "    ei,ej = si,sj\n",
    "    \n",
    "    return [ei,ej]"
   ]
  },
  {
   "cell_type": "code",
   "execution_count": 2,
   "id": "57acad86",
   "metadata": {},
   "outputs": [
    {
     "data": {
      "text/plain": [
       "[2, 1]"
      ]
     },
     "execution_count": 2,
     "metadata": {},
     "output_type": "execute_result"
    }
   ],
   "source": [
    "solution([\"SOO\",\"OOO\",\"OOO\"],[\"E 2\",\"S 2\",\"W 1\"])"
   ]
  },
  {
   "cell_type": "markdown",
   "id": "1a220fac",
   "metadata": {},
   "source": [
    "---"
   ]
  }
 ],
 "metadata": {
  "kernelspec": {
   "display_name": "Python 3 (ipykernel)",
   "language": "python",
   "name": "python3"
  },
  "language_info": {
   "codemirror_mode": {
    "name": "ipython",
    "version": 3
   },
   "file_extension": ".py",
   "mimetype": "text/x-python",
   "name": "python",
   "nbconvert_exporter": "python",
   "pygments_lexer": "ipython3",
   "version": "3.8.16"
  },
  "toc": {
   "base_numbering": 1,
   "nav_menu": {},
   "number_sections": true,
   "sideBar": true,
   "skip_h1_title": false,
   "title_cell": "Table of Contents",
   "title_sidebar": "Contents",
   "toc_cell": false,
   "toc_position": {},
   "toc_section_display": true,
   "toc_window_display": false
  },
  "varInspector": {
   "cols": {
    "lenName": 16,
    "lenType": 16,
    "lenVar": 40
   },
   "kernels_config": {
    "python": {
     "delete_cmd_postfix": "",
     "delete_cmd_prefix": "del ",
     "library": "var_list.py",
     "varRefreshCmd": "print(var_dic_list())"
    },
    "r": {
     "delete_cmd_postfix": ") ",
     "delete_cmd_prefix": "rm(",
     "library": "var_list.r",
     "varRefreshCmd": "cat(var_dic_list()) "
    }
   },
   "types_to_exclude": [
    "module",
    "function",
    "builtin_function_or_method",
    "instance",
    "_Feature"
   ],
   "window_display": false
  }
 },
 "nbformat": 4,
 "nbformat_minor": 5
}
