{
 "cells": [
  {
   "cell_type": "code",
   "execution_count": null,
   "id": "e4cad67d",
   "metadata": {},
   "outputs": [],
   "source": [
    "def solution(park, routes):\n",
    "    answer = []\n",
    "    arr = [ list(s) for s in park ] \n",
    "\n",
    "    M = len(arr[0])\n",
    "    N = len(arr)\n",
    "    \n",
    "    # 1,1 si, sj 찾기\n",
    "    \n",
    "    for i in range(0, N):\n",
    "        \n",
    "        for j in range(0, M):\n",
    "            \n",
    "            if arr[i][j] == 'S':\n",
    "                si,sj = i,j\n",
    "                flag = True\n",
    "                break   \n",
    "    \n",
    "        if flag:\n",
    "            break\n",
    "    \n",
    "    # [['E', '2'], ['S', '3'], ['W', '1']]\n",
    "    lst = [ s.split() for s in routes ]\n",
    "    \n",
    "    for r,v in lst:\n",
    "        \n",
    "        if r == 'N':\n",
    "            \n",
    "            for d in range(1, int(v)+1):\n",
    "                si,sj = si-d,sj\n",
    "                \n",
    "                # 범위 밖, or 이\n",
    "            \n",
    "        elif r == 'W':\n",
    "            동중에 장애물이 있다면, 처리\n",
    "            if  <= arr[si][sj]\n",
    "            \n",
    "        elif r == 'S':\n",
    "        elif r == 'E':\n",
    "            \n",
    "            \n",
    "        \n",
    "        \n",
    "        print(r,v)\n",
    "            \n",
    "            \n",
    "            \n",
    "    return answer"
   ]
  },
  {
   "cell_type": "markdown",
   "id": "2dc6815a",
   "metadata": {},
   "source": [
    "---"
   ]
  },
  {
   "cell_type": "code",
   "execution_count": null,
   "id": "dddac6ae",
   "metadata": {},
   "outputs": [],
   "source": [
    "def solution(park, routes):\n",
    "    x = 0\n",
    "    y = 0 \n",
    "    \n",
    "    for i in range(len(park)):\n",
    "        for j in range(len(park[i])):\n",
    "            if park[i][j] == 'S':\n",
    "                x = j\n",
    "                y = i\n",
    "                break\n",
    "    \n",
    "    for route in routes:\n",
    "        xx = x\n",
    "        yy = y\n",
    "\n",
    "        for step in range(int(route[2])):\n",
    "            \n",
    "            if route[0] == 'E' and xx != len(park[0])-1 and park[yy][xx+1] != 'X':\n",
    "                xx += 1\n",
    "                if step == int(route[2])-1:\n",
    "                    x = xx \n",
    "            \n",
    "            elif route[0] == 'W' and xx != 0 and park[yy][xx-1] != 'X':\n",
    "                xx -= 1\n",
    "                if step == int(route[2])-1:\n",
    "                    x = xx\n",
    "\n",
    "            elif route[0] == 'S' and yy != len(park)-1 and park[yy+1][xx] != 'X':\n",
    "                yy += 1\n",
    "                if step == int(route[2])-1:\n",
    "                    y = yy\n",
    "\n",
    "            elif route[0] == 'N' and yy != 0 and park[yy-1][xx] != 'X':\n",
    "                yy -= 1\n",
    "                if step == int(route[2])-1:\n",
    "                    y = yy\n",
    "                    \n",
    "    return [y, x]"
   ]
  }
 ],
 "metadata": {
  "kernelspec": {
   "display_name": "Python 3 (ipykernel)",
   "language": "python",
   "name": "python3"
  },
  "language_info": {
   "codemirror_mode": {
    "name": "ipython",
    "version": 3
   },
   "file_extension": ".py",
   "mimetype": "text/x-python",
   "name": "python",
   "nbconvert_exporter": "python",
   "pygments_lexer": "ipython3",
   "version": "3.8.16"
  },
  "toc": {
   "base_numbering": 1,
   "nav_menu": {},
   "number_sections": true,
   "sideBar": true,
   "skip_h1_title": false,
   "title_cell": "Table of Contents",
   "title_sidebar": "Contents",
   "toc_cell": false,
   "toc_position": {},
   "toc_section_display": true,
   "toc_window_display": false
  },
  "varInspector": {
   "cols": {
    "lenName": 16,
    "lenType": 16,
    "lenVar": 40
   },
   "kernels_config": {
    "python": {
     "delete_cmd_postfix": "",
     "delete_cmd_prefix": "del ",
     "library": "var_list.py",
     "varRefreshCmd": "print(var_dic_list())"
    },
    "r": {
     "delete_cmd_postfix": ") ",
     "delete_cmd_prefix": "rm(",
     "library": "var_list.r",
     "varRefreshCmd": "cat(var_dic_list()) "
    }
   },
   "types_to_exclude": [
    "module",
    "function",
    "builtin_function_or_method",
    "instance",
    "_Feature"
   ],
   "window_display": false
  }
 },
 "nbformat": 4,
 "nbformat_minor": 5
}
