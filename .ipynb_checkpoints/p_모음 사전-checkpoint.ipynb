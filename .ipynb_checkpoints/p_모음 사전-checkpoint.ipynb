{
 "cells": [
  {
   "cell_type": "markdown",
   "id": "72818748",
   "metadata": {},
   "source": [
    "# 모음 사전"
   ]
  },
  {
   "cell_type": "markdown",
   "id": "ba9434c2",
   "metadata": {},
   "source": [
    "---"
   ]
  },
  {
   "cell_type": "markdown",
   "id": "4539fe71",
   "metadata": {},
   "source": [
    "## sol 1\n",
    "- 무작정 만들고 처리\n",
    "- 중복 포함 선택"
   ]
  },
  {
   "cell_type": "code",
   "execution_count": null,
   "id": "d4e4cc3a",
   "metadata": {},
   "outputs": [],
   "source": [
    "# 모든 경우 처리\n",
    "\n",
    "from itertools import product\n",
    "\n",
    "def solution(word):\n",
    "\n",
    "    s = ['A','E','I','O','U']\n",
    "\n",
    "    lst = []\n",
    "    \n",
    "    for n in range(1, len(s)+1):\n",
    "        for tup in product(s, repeat = n):\n",
    "            lst.append(''.join(tup))\n",
    "\n",
    "    lst.sort()\n",
    "    \n",
    "    ans = lst.index(word) + 1\n",
    "\n",
    "    return ans"
   ]
  },
  {
   "cell_type": "markdown",
   "id": "03a20059",
   "metadata": {},
   "source": [
    "---"
   ]
  },
  {
   "cell_type": "code",
   "execution_count": 82,
   "id": "19999def",
   "metadata": {},
   "outputs": [
    {
     "data": {
      "text/plain": [
       "['AAAEE',\n",
       " 'AAAEA',\n",
       " 'AAAE',\n",
       " 'AAAAU',\n",
       " 'AAAAO',\n",
       " 'AAAAI',\n",
       " 'AAAAE',\n",
       " 'AAAAA',\n",
       " 'AAAA',\n",
       " 'AAA',\n",
       " 'AA',\n",
       " 'A']"
      ]
     },
     "execution_count": 82,
     "metadata": {},
     "output_type": "execute_result"
    }
   ],
   "source": [
    "# 사전순 처리 sort순 \n",
    "dic.sort(reverse = True)\n",
    "dic"
   ]
  },
  {
   "cell_type": "markdown",
   "id": "c7832497",
   "metadata": {},
   "source": [
    "---"
   ]
  },
  {
   "cell_type": "markdown",
   "id": "35bb64fb",
   "metadata": {},
   "source": [
    "## sol 2"
   ]
  },
  {
   "cell_type": "code",
   "execution_count": 118,
   "id": "dcc75a41",
   "metadata": {},
   "outputs": [],
   "source": [
    "alpha = [\"A\",\"E\",\"I\",\"O\",\"U\"]\n",
    "\n",
    "lst = []\n",
    "\n",
    "def dfs(n, string):\n",
    "    \n",
    "    # 사전순  AAAAE, AAAAI, AAAAO, AAAAU를 넣다가, AAAE, AAAEA, AAAEI ... 를 넣게 된다. \n",
    "    # 끝까지 간 후, \n",
    "    if len(string) == 5:\n",
    "        return\n",
    "    \n",
    "    for a in alpha:\n",
    "                \n",
    "        lst.append( string + a )\n",
    "        \n",
    "        dfs( n+1, string+a)\n",
    "    \n",
    "\n",
    "def solution(word):\n",
    "        \n",
    "    dfs(0, \"\")\n",
    "        \n",
    "    ans = lst.index(word)+1\n",
    "    \n",
    "    return ans"
   ]
  },
  {
   "cell_type": "code",
   "execution_count": 119,
   "id": "bd6bf65c",
   "metadata": {},
   "outputs": [
    {
     "data": {
      "text/plain": [
       "6"
      ]
     },
     "execution_count": 119,
     "metadata": {},
     "output_type": "execute_result"
    }
   ],
   "source": [
    "solution(\"AAAAE\")"
   ]
  },
  {
   "cell_type": "markdown",
   "id": "02262845",
   "metadata": {},
   "source": [
    "## sol 3"
   ]
  },
  {
   "cell_type": "code",
   "execution_count": 31,
   "id": "0b33e1ec",
   "metadata": {},
   "outputs": [],
   "source": [
    "answer = 0\n",
    "\n",
    "def dfs(string, word, alpha) :\n",
    "    \n",
    "    # 수행시 마다 ++ \n",
    "    global answer\n",
    "    answer += 1\n",
    "    \n",
    "    if ( string == word ):\n",
    "        return True\n",
    "    \n",
    "    \n",
    "    \n",
    "    # 사전순  AAAAE, AAAAI, AAAAO, AAAAU를 넣다가, AAAE, AAAEA, AAAEI ... 를 넣게 된다. \n",
    "    if len(string) == 5:\n",
    "        return False\n",
    "    \n",
    "    # 열트리 처리\n",
    "    for a in alpha :\n",
    "        \n",
    "        if dfs(string + a, word, alpha) == True :\n",
    "            \n",
    "            return True\n",
    "\n",
    "\n",
    "def solution(word):\n",
    "    \n",
    "    global answer\n",
    "    \n",
    "    alpha = ['A','E','I','O','U']\n",
    "    \n",
    "    # 스타트 a \n",
    "    for a in alpha :\n",
    "        \n",
    "        if dfs(a, word, alpha) == True :\n",
    "            \n",
    "            return answer"
   ]
  },
  {
   "cell_type": "code",
   "execution_count": null,
   "id": "8cff753c",
   "metadata": {},
   "outputs": [],
   "source": [
    "solution(\"AAAAE\")"
   ]
  },
  {
   "cell_type": "markdown",
   "id": "f6fdcb8b",
   "metadata": {},
   "source": [
    "---"
   ]
  },
  {
   "cell_type": "code",
   "execution_count": 6,
   "id": "f7d73e5a",
   "metadata": {},
   "outputs": [
    {
     "data": {
      "text/plain": [
       "5"
      ]
     },
     "execution_count": 6,
     "metadata": {},
     "output_type": "execute_result"
    }
   ],
   "source": [
    "ans"
   ]
  }
 ],
 "metadata": {
  "kernelspec": {
   "display_name": "Python 3 (ipykernel)",
   "language": "python",
   "name": "python3"
  },
  "language_info": {
   "codemirror_mode": {
    "name": "ipython",
    "version": 3
   },
   "file_extension": ".py",
   "mimetype": "text/x-python",
   "name": "python",
   "nbconvert_exporter": "python",
   "pygments_lexer": "ipython3",
   "version": "3.8.16"
  },
  "toc": {
   "base_numbering": 1,
   "nav_menu": {},
   "number_sections": true,
   "sideBar": true,
   "skip_h1_title": false,
   "title_cell": "Table of Contents",
   "title_sidebar": "Contents",
   "toc_cell": false,
   "toc_position": {},
   "toc_section_display": true,
   "toc_window_display": false
  },
  "varInspector": {
   "cols": {
    "lenName": 16,
    "lenType": 16,
    "lenVar": 40
   },
   "kernels_config": {
    "python": {
     "delete_cmd_postfix": "",
     "delete_cmd_prefix": "del ",
     "library": "var_list.py",
     "varRefreshCmd": "print(var_dic_list())"
    },
    "r": {
     "delete_cmd_postfix": ") ",
     "delete_cmd_prefix": "rm(",
     "library": "var_list.r",
     "varRefreshCmd": "cat(var_dic_list()) "
    }
   },
   "types_to_exclude": [
    "module",
    "function",
    "builtin_function_or_method",
    "instance",
    "_Feature"
   ],
   "window_display": false
  }
 },
 "nbformat": 4,
 "nbformat_minor": 5
}
