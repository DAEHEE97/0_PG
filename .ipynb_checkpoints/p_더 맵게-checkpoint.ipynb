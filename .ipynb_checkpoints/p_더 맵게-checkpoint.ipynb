{
 "cells": [
  {
   "cell_type": "markdown",
   "id": "e3abcdf0",
   "metadata": {},
   "source": [
    "# 더 맵게"
   ]
  },
  {
   "cell_type": "markdown",
   "id": "737dc039",
   "metadata": {},
   "source": [
    "---"
   ]
  },
  {
   "cell_type": "markdown",
   "id": "a2b29422",
   "metadata": {},
   "source": [
    "## heapq\n",
    "\n",
    "- 힙은 특정한 규칙을 가지는 트리로, 힙을 이용해서 우선순위 큐를 구현할 수 있습니다.\n"
   ]
  },
  {
   "cell_type": "markdown",
   "id": "b0eeaaf6",
   "metadata": {},
   "source": [
    "---"
   ]
  },
  {
   "cell_type": "code",
   "execution_count": null,
   "id": "9b9f738a",
   "metadata": {},
   "outputs": [],
   "source": [
    "import heapq\n",
    "\n",
    "def solution(scoville, K):\n",
    "    \n",
    "    heapq.heapify(scoville)\n",
    "        \n",
    "    answer = 0\n",
    "    \n",
    "    for _ in range(len(scoville)):\n",
    "                \n",
    "        if scoville[0] >= K:\n",
    "            return answer\n",
    "        \n",
    "        # 첫번째 값이 K값 이상을 못하면서, 마지막 으로 하나만 남았다면 return -1\n",
    "        if len(scoville) == 1:\n",
    "            return -1\n",
    "                \n",
    "        first, second = heapq.heappop(scoville), heapq.heappop(scoville)\n",
    "    \n",
    "        heapq.heappush(scoville, first + (second * 2))\n",
    "        \n",
    "        answer += 1\n",
    "        \n",
    "        \n",
    "    "
   ]
  },
  {
   "cell_type": "markdown",
   "id": "43a5811f",
   "metadata": {},
   "source": [
    "---"
   ]
  },
  {
   "cell_type": "markdown",
   "id": "ed4c0d14",
   "metadata": {},
   "source": [
    "## deque\n",
    "\n",
    "- 정확도 o, 효율성 x"
   ]
  },
  {
   "cell_type": "code",
   "execution_count": null,
   "id": "aa11c1e4",
   "metadata": {},
   "outputs": [],
   "source": [
    "from collections import deque\n",
    "\n",
    "def solution(scoville, K):\n",
    "    \n",
    "    answer = 0\n",
    "    \n",
    "    q = deque(sorted(scoville))\n",
    "    \n",
    "    N = len(scoville)\n",
    "    \n",
    "    for _ in range(N):\n",
    "        \n",
    "        if q[0] >= K:\n",
    "            return answer\n",
    "        \n",
    "        # 첫번째 값이 K값 이상을 못하면서, 마지막 으로 하나만 남았다면 return -1\n",
    "        if len(q) == 1:\n",
    "            return -1\n",
    "        \n",
    "        q.appendleft( q.popleft() + (q.popleft() * 2) )\n",
    "        \n",
    "        answer += 1\n",
    "        \n",
    "        q = deque(sorted(q))\n",
    "\n",
    "\n"
   ]
  },
  {
   "cell_type": "markdown",
   "id": "21a2fe53",
   "metadata": {},
   "source": [
    "---"
   ]
  },
  {
   "cell_type": "code",
   "execution_count": null,
   "id": "a161e8a0",
   "metadata": {},
   "outputs": [],
   "source": [
    "from collections import deque\n",
    "\n",
    "def solution(scoville, K):\n",
    "    \n",
    "    answer = 0\n",
    "    \n",
    "    q = deque(sorted(scoville))\n",
    "    \n",
    "    N = len(scoville)\n",
    "    \n",
    "    while True:\n",
    "        \n",
    "        if q[0] >= K:\n",
    "            return answer\n",
    "        \n",
    "        # 첫번째 값이 K값 이상을 못하면서, 마지막 으로 하나만 남았다면 return -1\n",
    "        if len(q) == 1:\n",
    "            return -1\n",
    "        \n",
    "        q.appendleft( q.popleft() + (q.popleft() * 2) )\n",
    "        \n",
    "        answer += 1\n",
    "        \n",
    "        q = deque(sorted(q))\n",
    "\n",
    "\n"
   ]
  }
 ],
 "metadata": {
  "kernelspec": {
   "display_name": "Python 3 (ipykernel)",
   "language": "python",
   "name": "python3"
  },
  "language_info": {
   "codemirror_mode": {
    "name": "ipython",
    "version": 3
   },
   "file_extension": ".py",
   "mimetype": "text/x-python",
   "name": "python",
   "nbconvert_exporter": "python",
   "pygments_lexer": "ipython3",
   "version": "3.8.16"
  },
  "toc": {
   "base_numbering": 1,
   "nav_menu": {},
   "number_sections": true,
   "sideBar": true,
   "skip_h1_title": false,
   "title_cell": "Table of Contents",
   "title_sidebar": "Contents",
   "toc_cell": false,
   "toc_position": {},
   "toc_section_display": true,
   "toc_window_display": false
  },
  "varInspector": {
   "cols": {
    "lenName": 16,
    "lenType": 16,
    "lenVar": 40
   },
   "kernels_config": {
    "python": {
     "delete_cmd_postfix": "",
     "delete_cmd_prefix": "del ",
     "library": "var_list.py",
     "varRefreshCmd": "print(var_dic_list())"
    },
    "r": {
     "delete_cmd_postfix": ") ",
     "delete_cmd_prefix": "rm(",
     "library": "var_list.r",
     "varRefreshCmd": "cat(var_dic_list()) "
    }
   },
   "types_to_exclude": [
    "module",
    "function",
    "builtin_function_or_method",
    "instance",
    "_Feature"
   ],
   "window_display": false
  }
 },
 "nbformat": 4,
 "nbformat_minor": 5
}
