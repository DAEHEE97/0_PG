{
 "cells": [
  {
   "cell_type": "code",
   "execution_count": 1,
   "id": "19f694ef",
   "metadata": {},
   "outputs": [],
   "source": [
    "lst = [0,1,2,3]"
   ]
  },
  {
   "cell_type": "code",
   "execution_count": 2,
   "id": "2af216ef",
   "metadata": {},
   "outputs": [
    {
     "data": {
      "text/plain": [
       "0"
      ]
     },
     "execution_count": 2,
     "metadata": {},
     "output_type": "execute_result"
    }
   ],
   "source": [
    "lst[0]"
   ]
  },
  {
   "cell_type": "code",
   "execution_count": 3,
   "id": "684d117e",
   "metadata": {},
   "outputs": [
    {
     "data": {
      "text/plain": [
       "3"
      ]
     },
     "execution_count": 3,
     "metadata": {},
     "output_type": "execute_result"
    }
   ],
   "source": [
    "lst[-1-0]"
   ]
  },
  {
   "cell_type": "code",
   "execution_count": 4,
   "id": "b67a7f19",
   "metadata": {},
   "outputs": [
    {
     "data": {
      "text/plain": [
       "1"
      ]
     },
     "execution_count": 4,
     "metadata": {},
     "output_type": "execute_result"
    }
   ],
   "source": [
    "lst[1]"
   ]
  },
  {
   "cell_type": "code",
   "execution_count": 5,
   "id": "22e31087",
   "metadata": {},
   "outputs": [
    {
     "data": {
      "text/plain": [
       "2"
      ]
     },
     "execution_count": 5,
     "metadata": {},
     "output_type": "execute_result"
    }
   ],
   "source": [
    "lst[-1-1]"
   ]
  },
  {
   "cell_type": "code",
   "execution_count": 6,
   "id": "bb593252",
   "metadata": {},
   "outputs": [
    {
     "name": "stdout",
     "output_type": "stream",
     "text": [
      "0 3\n",
      "1 2\n"
     ]
    }
   ],
   "source": [
    "i = 0\n",
    "print(lst[i], lst[-1-i])\n",
    "\n",
    "i = 1\n",
    "print(lst[i], lst[-1-i])"
   ]
  },
  {
   "cell_type": "code",
   "execution_count": null,
   "id": "d08dfcec",
   "metadata": {},
   "outputs": [],
   "source": [
    "def solution(lst):\n",
    "    \n",
    "    # 양쪽의 최솟값 중 하나라도 나보다 크면 됨\n",
    "    result = [False] * len(lst)\n",
    "    \n",
    "    min_front = float('inf')\n",
    "    min_back = float('inf')\n",
    "\t# 앞, 뒤 동시에 최소 값이 갱신되는 지점을 저장해둔다.\n",
    "    # 갱신 지점들의 개수가 answer가 된다.\n",
    "    \n",
    "    for i in range(len(lst)):\n",
    "        \n",
    "        if lst[i] < min_front:\n",
    "            \n",
    "            min_front = lst[i]\n",
    "            result[i] = True\n",
    "        \n",
    "        if lst[-1-i] < min_back:\n",
    "            \n",
    "            min_back = lst[-1-i]\n",
    "            result[-1-i] = True\n",
    "    \n",
    "    return sum(result)"
   ]
  },
  {
   "cell_type": "code",
   "execution_count": null,
   "id": "2027ed4d",
   "metadata": {},
   "outputs": [],
   "source": [
    "def solution(lst):\n",
    "    \n",
    "    if len(lst) == 1:\n",
    "        return 1\n",
    "\n",
    "    answer = 2   # 기본적으로 양쪽 끝은 끝까지 살아남을 수 있음\n",
    "    \n",
    "    # 최솟값 쌓기 ----------------\n",
    "    \n",
    "    l_min = [lst[0]]     \n",
    "    r_min = [lst[-1]]\n",
    "    \n",
    "    for i in range(1, len(lst)):\n",
    "        \n",
    "        if lst[i] < l_min[-1]:\n",
    "            l_min.append(a[i])\n",
    "        \n",
    "        else:\n",
    "            l_min.append(l_min[-1])\n",
    "            \n",
    "        \n",
    "        if lst[len(lst) - 1 - i] < r_min[-1]:\n",
    "            r_min.append(lst[len(lst) - 1 - i])\n",
    "        \n",
    "        else:\n",
    "            r_min.append(r_min[-1])\n",
    "            \n",
    "    r_min.reverse()    \n",
    "    # -----------------\n",
    "\n",
    "\t# 찾은 최솟값으로 비교 계산 -------------\n",
    "    for i in range(1, len(lst) - 1):\n",
    "        if l_min[i - 1] > lst[i] or r_min[i + 1] > lst[i]:\n",
    "            answer += 1\n",
    "    # --------------------------------\n",
    "            \n",
    "    return answer"
   ]
  },
  {
   "cell_type": "markdown",
   "id": "ba8a4a0a",
   "metadata": {},
   "source": [
    "---"
   ]
  },
  {
   "cell_type": "code",
   "execution_count": null,
   "id": "3072008b",
   "metadata": {},
   "outputs": [],
   "source": [
    "def solution(a):\n",
    "    answer = 0\n",
    "    min_dp = [float('inf')] * len(a)\n",
    "    min_dp[0] = a[0]\n",
    "    # 왼쪽에서 최솟값 갱신하면서 저장해둔다.\n",
    "    for i in range(1, len(a)):\n",
    "        min_dp[i] = min(min_dp[i-1], a[i])\n",
    "\n",
    "\t# 오른쪽부터 탐색을 시작하고 오른쪽 기준해서 최소 값을 갱신해둔다.\n",
    "    # 현재 풍선 기준 양 쪽이랑 값 비교했을 때 한번은 커도 된다. 두번은 x\n",
    "    # 풍선 list 양 끝은 무조건 살아남음 -> 마지막에 + 2 해주는 이유\n",
    "    min_dp[-1] = a[-1]\n",
    "    \n",
    "    for i in range(len(a)-2,0, -1):\n",
    "        # a[i]값이 왼, 오 둘 다보다 작다면 통과\n",
    "        if a[i] < min_dp[i-1] and a[i] < min_dp[i+1]:\n",
    "            answer += 1\n",
    "        # a[i]값이 왼, 오 하나보단 큰 경우도 통과\n",
    "        elif (min_dp[i - 1] < a[i] < min_dp[i + 1]) or (min_dp[i - 1] > a[i] > min_dp[i + 1]):\n",
    "            answer += 1\n",
    "        # a[i]값이 왼, 오 둘 다 보다 큰 경우는 패스\n",
    "        else:\n",
    "            pass\n",
    "        # 오른쪽 기준 최소 값은 계속 갱신해줘야된다.\n",
    "        min_dp[i] = min(min_dp[i+1], a[i])\n",
    "    return answer + 2"
   ]
  }
 ],
 "metadata": {
  "kernelspec": {
   "display_name": "Python 3 (ipykernel)",
   "language": "python",
   "name": "python3"
  },
  "language_info": {
   "codemirror_mode": {
    "name": "ipython",
    "version": 3
   },
   "file_extension": ".py",
   "mimetype": "text/x-python",
   "name": "python",
   "nbconvert_exporter": "python",
   "pygments_lexer": "ipython3",
   "version": "3.8.16"
  },
  "toc": {
   "base_numbering": 1,
   "nav_menu": {},
   "number_sections": true,
   "sideBar": true,
   "skip_h1_title": false,
   "title_cell": "Table of Contents",
   "title_sidebar": "Contents",
   "toc_cell": false,
   "toc_position": {},
   "toc_section_display": true,
   "toc_window_display": false
  },
  "varInspector": {
   "cols": {
    "lenName": 16,
    "lenType": 16,
    "lenVar": 40
   },
   "kernels_config": {
    "python": {
     "delete_cmd_postfix": "",
     "delete_cmd_prefix": "del ",
     "library": "var_list.py",
     "varRefreshCmd": "print(var_dic_list())"
    },
    "r": {
     "delete_cmd_postfix": ") ",
     "delete_cmd_prefix": "rm(",
     "library": "var_list.r",
     "varRefreshCmd": "cat(var_dic_list()) "
    }
   },
   "types_to_exclude": [
    "module",
    "function",
    "builtin_function_or_method",
    "instance",
    "_Feature"
   ],
   "window_display": false
  }
 },
 "nbformat": 4,
 "nbformat_minor": 5
}
