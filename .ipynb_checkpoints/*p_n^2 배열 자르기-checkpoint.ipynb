{
 "cells": [
  {
   "cell_type": "code",
   "execution_count": 1,
   "id": "df1566e4",
   "metadata": {},
   "outputs": [],
   "source": [
    "n = 3"
   ]
  },
  {
   "cell_type": "code",
   "execution_count": 25,
   "id": "b97f98c5",
   "metadata": {},
   "outputs": [],
   "source": [
    "arr = [ [0] * n for _ in range(n) ]"
   ]
  },
  {
   "cell_type": "code",
   "execution_count": 26,
   "id": "fe818a36",
   "metadata": {},
   "outputs": [
    {
     "data": {
      "text/plain": [
       "[[0, 0, 0], [0, 0, 0], [0, 0, 0]]"
      ]
     },
     "execution_count": 26,
     "metadata": {},
     "output_type": "execute_result"
    }
   ],
   "source": [
    "arr"
   ]
  },
  {
   "cell_type": "code",
   "execution_count": null,
   "id": "4ff3929c",
   "metadata": {},
   "outputs": [],
   "source": [
    "1 2 3\n",
    "2 2 3\n",
    "3 3 3\n",
    "\n",
    "\n",
    "0,0 0,1 0,2 \n",
    "\n",
    "1,0 1,1 1,2\n",
    "\n",
    "2,0 2,1 2,2"
   ]
  },
  {
   "cell_type": "code",
   "execution_count": 35,
   "id": "b3a98c81",
   "metadata": {},
   "outputs": [],
   "source": [
    "# brute force\n",
    "\n",
    "square = [ [0] * n for _ in range(n) ]\n",
    "\n",
    "\n",
    "for i in range(n):\n",
    "    \n",
    "    for j in range(i+1):\n",
    "        \n",
    "        square[i][j] = i+1\n",
    "        \n",
    "for i in range(n):\n",
    "        \n",
    "        for j in range(i+1):\n",
    "            \n",
    "            square[j][i] = i+1"
   ]
  },
  {
   "cell_type": "markdown",
   "id": "a23390ca",
   "metadata": {},
   "source": [
    "---"
   ]
  },
  {
   "cell_type": "code",
   "execution_count": 36,
   "id": "1ab5804a",
   "metadata": {},
   "outputs": [
    {
     "data": {
      "text/plain": [
       "[[1, 0, 0], [2, 2, 0], [3, 3, 3]]"
      ]
     },
     "execution_count": 36,
     "metadata": {},
     "output_type": "execute_result"
    }
   ],
   "source": [
    "square"
   ]
  },
  {
   "cell_type": "markdown",
   "id": "55a4a8ee",
   "metadata": {},
   "source": [
    "---"
   ]
  },
  {
   "cell_type": "markdown",
   "id": "197d7de7",
   "metadata": {},
   "source": [
    "---"
   ]
  },
  {
   "cell_type": "code",
   "execution_count": 42,
   "id": "4fd67490",
   "metadata": {},
   "outputs": [
    {
     "name": "stdout",
     "output_type": "stream",
     "text": [
      "0 2\n",
      "1 0\n",
      "1 1\n",
      "1 2\n"
     ]
    }
   ],
   "source": [
    "n = 3 \n",
    "\n",
    "ans = []\n",
    "# left와 right를 n으로 나눈 몫과 나머지를 취해 arr 위치\n",
    "\n",
    "\n",
    "for t in range(2, 5+1):\n",
    "    \n",
    "    i, j = divmod(t, n)\n",
    "        \n",
    "    print(i, j)\n",
    "        \n",
    "    ans.append(max(i, j) + 1)\n",
    "    \n",
    "    "
   ]
  },
  {
   "cell_type": "code",
   "execution_count": 43,
   "id": "bff6c4f8",
   "metadata": {},
   "outputs": [
    {
     "data": {
      "text/plain": [
       "[3, 2, 2, 3]"
      ]
     },
     "execution_count": 43,
     "metadata": {},
     "output_type": "execute_result"
    }
   ],
   "source": [
    "ans"
   ]
  }
 ],
 "metadata": {
  "kernelspec": {
   "display_name": "Python 3 (ipykernel)",
   "language": "python",
   "name": "python3"
  },
  "language_info": {
   "codemirror_mode": {
    "name": "ipython",
    "version": 3
   },
   "file_extension": ".py",
   "mimetype": "text/x-python",
   "name": "python",
   "nbconvert_exporter": "python",
   "pygments_lexer": "ipython3",
   "version": "3.8.16"
  },
  "toc": {
   "base_numbering": 1,
   "nav_menu": {},
   "number_sections": true,
   "sideBar": true,
   "skip_h1_title": false,
   "title_cell": "Table of Contents",
   "title_sidebar": "Contents",
   "toc_cell": false,
   "toc_position": {},
   "toc_section_display": true,
   "toc_window_display": false
  },
  "varInspector": {
   "cols": {
    "lenName": 16,
    "lenType": 16,
    "lenVar": 40
   },
   "kernels_config": {
    "python": {
     "delete_cmd_postfix": "",
     "delete_cmd_prefix": "del ",
     "library": "var_list.py",
     "varRefreshCmd": "print(var_dic_list())"
    },
    "r": {
     "delete_cmd_postfix": ") ",
     "delete_cmd_prefix": "rm(",
     "library": "var_list.r",
     "varRefreshCmd": "cat(var_dic_list()) "
    }
   },
   "types_to_exclude": [
    "module",
    "function",
    "builtin_function_or_method",
    "instance",
    "_Feature"
   ],
   "window_display": false
  }
 },
 "nbformat": 4,
 "nbformat_minor": 5
}
