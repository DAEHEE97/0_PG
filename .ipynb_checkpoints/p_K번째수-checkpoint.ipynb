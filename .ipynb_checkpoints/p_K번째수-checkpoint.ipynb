{
 "cells": [
  {
   "cell_type": "code",
   "execution_count": null,
   "id": "88ef1c78",
   "metadata": {},
   "outputs": [],
   "source": [
    "def solution(lst, commands):\n",
    "    \n",
    "    answer = []\n",
    "    \n",
    "    for (i,j,k) in commands:\n",
    "\n",
    "        tlst = lst[i-1:j]\n",
    "        \n",
    "        tlst.sort()\n",
    "        \n",
    "        answer.append(tlst[k-1])\n",
    "    \n",
    "    return answer\n"
   ]
  },
  {
   "cell_type": "markdown",
   "id": "8bc576df",
   "metadata": {},
   "source": [
    "---"
   ]
  },
  {
   "cell_type": "code",
   "execution_count": 1,
   "id": "83e395d5",
   "metadata": {},
   "outputs": [
    {
     "name": "stdout",
     "output_type": "stream",
     "text": [
      "2 5 3\n",
      "4 4 1\n",
      "1 7 3\n"
     ]
    }
   ],
   "source": [
    "# 2차원 배열, 튜플형태로 한번에 가져올수 있음.\n",
    "\n",
    "commands = [[2, 5, 3], [4, 4, 1], [1, 7, 3]]\n",
    "\n",
    "for (i,j,k) in commands:\n",
    "    \n",
    "    print(i,j,k)\n"
   ]
  },
  {
   "cell_type": "code",
   "execution_count": 2,
   "id": "3f988784",
   "metadata": {},
   "outputs": [
    {
     "name": "stdout",
     "output_type": "stream",
     "text": [
      "2 5 3\n",
      "4 4 1\n",
      "1 7 3\n"
     ]
    }
   ],
   "source": [
    "# lst로 가져온다음, i,j,k 튜플로 처리\n",
    "\n",
    "commands = [[2, 5, 3], [4, 4, 1], [1, 7, 3]]\n",
    "\n",
    "for lst in commands:\n",
    "    \n",
    "    i,j,k = lst\n",
    "    \n",
    "    print(i,j,k)"
   ]
  }
 ],
 "metadata": {
  "kernelspec": {
   "display_name": "Python 3 (ipykernel)",
   "language": "python",
   "name": "python3"
  },
  "language_info": {
   "codemirror_mode": {
    "name": "ipython",
    "version": 3
   },
   "file_extension": ".py",
   "mimetype": "text/x-python",
   "name": "python",
   "nbconvert_exporter": "python",
   "pygments_lexer": "ipython3",
   "version": "3.8.16"
  },
  "toc": {
   "base_numbering": 1,
   "nav_menu": {},
   "number_sections": true,
   "sideBar": true,
   "skip_h1_title": false,
   "title_cell": "Table of Contents",
   "title_sidebar": "Contents",
   "toc_cell": false,
   "toc_position": {},
   "toc_section_display": true,
   "toc_window_display": false
  },
  "varInspector": {
   "cols": {
    "lenName": 16,
    "lenType": 16,
    "lenVar": 40
   },
   "kernels_config": {
    "python": {
     "delete_cmd_postfix": "",
     "delete_cmd_prefix": "del ",
     "library": "var_list.py",
     "varRefreshCmd": "print(var_dic_list())"
    },
    "r": {
     "delete_cmd_postfix": ") ",
     "delete_cmd_prefix": "rm(",
     "library": "var_list.r",
     "varRefreshCmd": "cat(var_dic_list()) "
    }
   },
   "types_to_exclude": [
    "module",
    "function",
    "builtin_function_or_method",
    "instance",
    "_Feature"
   ],
   "window_display": false
  }
 },
 "nbformat": 4,
 "nbformat_minor": 5
}
